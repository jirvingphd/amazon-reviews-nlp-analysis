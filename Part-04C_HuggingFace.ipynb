{
 "cells": [
  {
   "cell_type": "markdown",
   "id": "a4b91453-5e1f-4be1-9276-84fd0956ce53",
   "metadata": {},
   "source": [
    "# Streamlit Dev"
   ]
  },
  {
   "cell_type": "markdown",
   "id": "6b379644-709f-492c-87a4-39a70b55eb11",
   "metadata": {},
   "source": [
    "### Saving Product Metadata"
   ]
  },
  {
   "cell_type": "code",
   "execution_count": 1,
   "id": "016d6676-3ff2-450f-9fef-4e75daf5a8f3",
   "metadata": {
    "execution": {
     "iopub.execute_input": "2024-02-23T02:58:16.760781Z",
     "iopub.status.busy": "2024-02-23T02:58:16.760585Z",
     "iopub.status.idle": "2024-02-23T02:58:16.797553Z",
     "shell.execute_reply": "2024-02-23T02:58:16.797086Z",
     "shell.execute_reply.started": "2024-02-23T02:58:16.760757Z"
    }
   },
   "outputs": [],
   "source": [
    "%load_ext autoreload \n",
    "%autoreload 2"
   ]
  },
  {
   "cell_type": "code",
   "execution_count": 2,
   "id": "c9373608-560e-4977-8f59-53ba5e2db9c1",
   "metadata": {
    "execution": {
     "iopub.execute_input": "2024-02-23T02:58:16.799180Z",
     "iopub.status.busy": "2024-02-23T02:58:16.798970Z",
     "iopub.status.idle": "2024-02-23T02:58:17.347461Z",
     "shell.execute_reply": "2024-02-23T02:58:17.347199Z",
     "shell.execute_reply.started": "2024-02-23T02:58:16.799167Z"
    }
   },
   "outputs": [
    {
     "data": {
      "text/html": [
       "<div>\n",
       "<style scoped>\n",
       "    .dataframe tbody tr th:only-of-type {\n",
       "        vertical-align: middle;\n",
       "    }\n",
       "\n",
       "    .dataframe tbody tr th {\n",
       "        vertical-align: top;\n",
       "    }\n",
       "\n",
       "    .dataframe thead th {\n",
       "        text-align: right;\n",
       "    }\n",
       "</style>\n",
       "<table border=\"1\" class=\"dataframe\">\n",
       "  <thead>\n",
       "    <tr style=\"text-align: right;\">\n",
       "      <th></th>\n",
       "      <th>asin</th>\n",
       "      <th>reviewerID</th>\n",
       "      <th>reviewText</th>\n",
       "      <th>summary</th>\n",
       "      <th>overall</th>\n",
       "      <th>year</th>\n",
       "      <th>title</th>\n",
       "      <th>brand</th>\n",
       "      <th>category</th>\n",
       "      <th>review-text-full</th>\n",
       "      <th>review-text-full_raw</th>\n",
       "      <th>tokens-dirty</th>\n",
       "      <th>tokens</th>\n",
       "      <th>lemmas</th>\n",
       "      <th>tokens-dirty-joined</th>\n",
       "      <th>tokens-joined</th>\n",
       "      <th>lemmas-joined</th>\n",
       "      <th>target-rating</th>\n",
       "    </tr>\n",
       "  </thead>\n",
       "  <tbody>\n",
       "    <tr>\n",
       "      <th>0</th>\n",
       "      <td>B007JINB0W</td>\n",
       "      <td>A3Y51NV9HU5T2</td>\n",
       "      <td>Great pasta taste and feel, but the spell in t...</td>\n",
       "      <td>Four Stars</td>\n",
       "      <td>4</td>\n",
       "      <td>2018</td>\n",
       "      <td>Miracle Noodle Zero Carb, Gluten Free Shiratak...</td>\n",
       "      <td>Miracle Noodle</td>\n",
       "      <td>Grocery &amp; Gourmet Food; Pasta &amp; Noodles; Noodl...</td>\n",
       "      <td>Four Stars: Great pasta taste and feel, but th...</td>\n",
       "      <td>Four Stars: Great pasta taste and feel, but th...</td>\n",
       "      <td>[four, stars, great, pasta, taste, and, feel, ...</td>\n",
       "      <td>[stars, great, pasta, taste, feel, spell, pack...</td>\n",
       "      <td>[star, great, pasta, taste, feel, spell, packa...</td>\n",
       "      <td>four stars great pasta taste and feel but the ...</td>\n",
       "      <td>stars great pasta taste feel spell packaged sk...</td>\n",
       "      <td>star great pasta taste feel spell package skrong</td>\n",
       "      <td>None</td>\n",
       "    </tr>\n",
       "    <tr>\n",
       "      <th>1</th>\n",
       "      <td>B007JINB0W</td>\n",
       "      <td>A3D7EFSRC6Y9MP</td>\n",
       "      <td>The texture just made it a little strange to e...</td>\n",
       "      <td>Okay but don't like texture</td>\n",
       "      <td>3</td>\n",
       "      <td>2014</td>\n",
       "      <td>Miracle Noodle Zero Carb, Gluten Free Shiratak...</td>\n",
       "      <td>Miracle Noodle</td>\n",
       "      <td>Grocery &amp; Gourmet Food; Pasta &amp; Noodles; Noodl...</td>\n",
       "      <td>Okay but don't like texture: The texture just ...</td>\n",
       "      <td>Okay but don't like texture: The texture just ...</td>\n",
       "      <td>[okay, but, do, n't, like, texture, the, textu...</td>\n",
       "      <td>[okay, like, texture, texture, little, strange...</td>\n",
       "      <td>[okay, like, texture, texture, little, strange...</td>\n",
       "      <td>okay but do n't like texture the texture just ...</td>\n",
       "      <td>okay like texture texture little strange eat f...</td>\n",
       "      <td>okay like texture texture little strange eat f...</td>\n",
       "      <td>None</td>\n",
       "    </tr>\n",
       "    <tr>\n",
       "      <th>2</th>\n",
       "      <td>B007JINB0W</td>\n",
       "      <td>A4AM5KBP3I2R</td>\n",
       "      <td>The herb flavor makes the odd texture of shira...</td>\n",
       "      <td>Go for the green noodles</td>\n",
       "      <td>5</td>\n",
       "      <td>2018</td>\n",
       "      <td>Miracle Noodle Zero Carb, Gluten Free Shiratak...</td>\n",
       "      <td>Miracle Noodle</td>\n",
       "      <td>Grocery &amp; Gourmet Food; Pasta &amp; Noodles; Noodl...</td>\n",
       "      <td>Go for the green noodles: The herb flavor make...</td>\n",
       "      <td>Go for the green noodles: The herb flavor make...</td>\n",
       "      <td>[go, for, the, green, noodles, the, herb, flav...</td>\n",
       "      <td>[green, noodles, herb, flavor, makes, odd, tex...</td>\n",
       "      <td>[green, noodle, herb, flavor, make, odd, textu...</td>\n",
       "      <td>go for the green noodles the herb flavor makes...</td>\n",
       "      <td>green noodles herb flavor makes odd texture sh...</td>\n",
       "      <td>green noodle herb flavor make odd texture shir...</td>\n",
       "      <td>High</td>\n",
       "    </tr>\n",
       "    <tr>\n",
       "      <th>3</th>\n",
       "      <td>B007JINB0W</td>\n",
       "      <td>A3GHK4IL78DB7Y</td>\n",
       "      <td>I didn't have a problem at all with a half fil...</td>\n",
       "      <td>Its an awesome substitute.</td>\n",
       "      <td>5</td>\n",
       "      <td>2018</td>\n",
       "      <td>Miracle Noodle Zero Carb, Gluten Free Shiratak...</td>\n",
       "      <td>Miracle Noodle</td>\n",
       "      <td>Grocery &amp; Gourmet Food; Pasta &amp; Noodles; Noodl...</td>\n",
       "      <td>Its an awesome substitute.: I didn't have a pr...</td>\n",
       "      <td>Its an awesome substitute.: I didn't have a pr...</td>\n",
       "      <td>[its, an, awesome, substitute, i, did, n't, ha...</td>\n",
       "      <td>[awesome, substitute, problem, half, filled, b...</td>\n",
       "      <td>[awesome, substitute, problem, half, fill, bag...</td>\n",
       "      <td>its an awesome substitute i did n't have a pro...</td>\n",
       "      <td>awesome substitute problem half filled bag use...</td>\n",
       "      <td>awesome substitute problem half fill bag user ...</td>\n",
       "      <td>High</td>\n",
       "    </tr>\n",
       "    <tr>\n",
       "      <th>4</th>\n",
       "      <td>B007JINB0W</td>\n",
       "      <td>AH3B94LQOPPY6</td>\n",
       "      <td>They taste like whatever you cook them with.</td>\n",
       "      <td>Five Stars</td>\n",
       "      <td>5</td>\n",
       "      <td>2016</td>\n",
       "      <td>Miracle Noodle Zero Carb, Gluten Free Shiratak...</td>\n",
       "      <td>Miracle Noodle</td>\n",
       "      <td>Grocery &amp; Gourmet Food; Pasta &amp; Noodles; Noodl...</td>\n",
       "      <td>Five Stars: They taste like whatever you cook ...</td>\n",
       "      <td>Five Stars: They taste like whatever you cook ...</td>\n",
       "      <td>[five, stars, they, taste, like, whatever, you...</td>\n",
       "      <td>[stars, taste, like, cook]</td>\n",
       "      <td>[star, taste, like, cook]</td>\n",
       "      <td>five stars they taste like whatever you cook t...</td>\n",
       "      <td>stars taste like cook</td>\n",
       "      <td>star taste like cook</td>\n",
       "      <td>High</td>\n",
       "    </tr>\n",
       "    <tr>\n",
       "      <th>...</th>\n",
       "      <td>...</td>\n",
       "      <td>...</td>\n",
       "      <td>...</td>\n",
       "      <td>...</td>\n",
       "      <td>...</td>\n",
       "      <td>...</td>\n",
       "      <td>...</td>\n",
       "      <td>...</td>\n",
       "      <td>...</td>\n",
       "      <td>...</td>\n",
       "      <td>...</td>\n",
       "      <td>...</td>\n",
       "      <td>...</td>\n",
       "      <td>...</td>\n",
       "      <td>...</td>\n",
       "      <td>...</td>\n",
       "      <td>...</td>\n",
       "      <td>...</td>\n",
       "    </tr>\n",
       "    <tr>\n",
       "      <th>4358</th>\n",
       "      <td>B007JINB0W</td>\n",
       "      <td>A73IG1ED6S0JR</td>\n",
       "      <td>Product arrived with two of the bags punctured...</td>\n",
       "      <td>would not recomend</td>\n",
       "      <td>1</td>\n",
       "      <td>2016</td>\n",
       "      <td>Miracle Noodle Zero Carb, Gluten Free Shiratak...</td>\n",
       "      <td>Miracle Noodle</td>\n",
       "      <td>Grocery &amp; Gourmet Food; Pasta &amp; Noodles; Noodl...</td>\n",
       "      <td>would not recomend: Product arrived with two o...</td>\n",
       "      <td>would not recomend: Product arrived with two o...</td>\n",
       "      <td>[would, not, recomend, product, arrived, with,...</td>\n",
       "      <td>[recomend, product, arrived, bags, punctured, ...</td>\n",
       "      <td>[recomend, product, arrive, bag, puncture, sme...</td>\n",
       "      <td>would not recomend product arrived with two of...</td>\n",
       "      <td>recomend product arrived bags punctured smells...</td>\n",
       "      <td>recomend product arrive bag puncture smell bad</td>\n",
       "      <td>Low</td>\n",
       "    </tr>\n",
       "    <tr>\n",
       "      <th>4359</th>\n",
       "      <td>B007JINB0W</td>\n",
       "      <td>A1XZ2H0MYG54M0</td>\n",
       "      <td>Ok.</td>\n",
       "      <td>Five Stars</td>\n",
       "      <td>5</td>\n",
       "      <td>2016</td>\n",
       "      <td>Miracle Noodle Zero Carb, Gluten Free Shiratak...</td>\n",
       "      <td>Miracle Noodle</td>\n",
       "      <td>Grocery &amp; Gourmet Food; Pasta &amp; Noodles; Noodl...</td>\n",
       "      <td>Five Stars: Ok.</td>\n",
       "      <td>Five Stars: Ok.</td>\n",
       "      <td>[five, stars, ok]</td>\n",
       "      <td>[stars, ok]</td>\n",
       "      <td>[star, ok]</td>\n",
       "      <td>five stars ok</td>\n",
       "      <td>stars ok</td>\n",
       "      <td>star ok</td>\n",
       "      <td>High</td>\n",
       "    </tr>\n",
       "    <tr>\n",
       "      <th>4360</th>\n",
       "      <td>B007JINB0W</td>\n",
       "      <td>A3I2YF0MXB7P0B</td>\n",
       "      <td>I like these noodles but the spinach ones just...</td>\n",
       "      <td>Not awful, but now I know why these were on sale.</td>\n",
       "      <td>2</td>\n",
       "      <td>2013</td>\n",
       "      <td>Miracle Noodle Zero Carb, Gluten Free Shiratak...</td>\n",
       "      <td>Miracle Noodle</td>\n",
       "      <td>Grocery &amp; Gourmet Food; Pasta &amp; Noodles; Noodl...</td>\n",
       "      <td>Not awful, but now I know why these were on sa...</td>\n",
       "      <td>Not awful, but now I know why these were on sa...</td>\n",
       "      <td>[not, awful, but, now, i, know, why, these, we...</td>\n",
       "      <td>[awful, know, sale, like, noodles, spinach, on...</td>\n",
       "      <td>[awful, know, sale, like, noodle, spinach, one...</td>\n",
       "      <td>not awful but now i know why these were on sal...</td>\n",
       "      <td>awful know sale like noodles spinach ones tast...</td>\n",
       "      <td>awful know sale like noodle spinach one taste ...</td>\n",
       "      <td>Low</td>\n",
       "    </tr>\n",
       "    <tr>\n",
       "      <th>4361</th>\n",
       "      <td>B007JINB0W</td>\n",
       "      <td>A2UELLFLITPMT1</td>\n",
       "      <td>Truly horrific. Like eating dead worms.</td>\n",
       "      <td>Don't even try it.</td>\n",
       "      <td>1</td>\n",
       "      <td>2017</td>\n",
       "      <td>Miracle Noodle Zero Carb, Gluten Free Shiratak...</td>\n",
       "      <td>Miracle Noodle</td>\n",
       "      <td>Grocery &amp; Gourmet Food; Pasta &amp; Noodles; Noodl...</td>\n",
       "      <td>Don't even try it.: Truly horrific. Like eatin...</td>\n",
       "      <td>Don't even try it.: Truly horrific. Like eatin...</td>\n",
       "      <td>[do, n't, even, try, it, truly, horrific, like...</td>\n",
       "      <td>[try, truly, horrific, like, eating, dead, worms]</td>\n",
       "      <td>[try, truly, horrific, like, eat, dead, worm]</td>\n",
       "      <td>do n't even try it truly horrific like eating ...</td>\n",
       "      <td>try truly horrific like eating dead worms</td>\n",
       "      <td>try truly horrific like eat dead worm</td>\n",
       "      <td>Low</td>\n",
       "    </tr>\n",
       "    <tr>\n",
       "      <th>4362</th>\n",
       "      <td>B007JINB0W</td>\n",
       "      <td>A178M2AHNWQZB0</td>\n",
       "      <td>We love the rice noodles, and have problems fi...</td>\n",
       "      <td>As good as all the other Miracle noodle products</td>\n",
       "      <td>5</td>\n",
       "      <td>2017</td>\n",
       "      <td>Miracle Noodle Zero Carb, Gluten Free Shiratak...</td>\n",
       "      <td>Miracle Noodle</td>\n",
       "      <td>Grocery &amp; Gourmet Food; Pasta &amp; Noodles; Noodl...</td>\n",
       "      <td>As good as all the other Miracle noodle produc...</td>\n",
       "      <td>As good as all the other Miracle noodle produc...</td>\n",
       "      <td>[as, good, as, all, the, other, miracle, noodl...</td>\n",
       "      <td>[good, miracle, noodle, products, love, rice, ...</td>\n",
       "      <td>[good, miracle, noodle, product, love, rice, n...</td>\n",
       "      <td>as good as all the other miracle noodle produc...</td>\n",
       "      <td>good miracle noodle products love rice noodles...</td>\n",
       "      <td>good miracle noodle product love rice noodle p...</td>\n",
       "      <td>High</td>\n",
       "    </tr>\n",
       "  </tbody>\n",
       "</table>\n",
       "<p>4363 rows × 18 columns</p>\n",
       "</div>"
      ],
      "text/plain": [
       "            asin      reviewerID  \\\n",
       "0     B007JINB0W   A3Y51NV9HU5T2   \n",
       "1     B007JINB0W  A3D7EFSRC6Y9MP   \n",
       "2     B007JINB0W    A4AM5KBP3I2R   \n",
       "3     B007JINB0W  A3GHK4IL78DB7Y   \n",
       "4     B007JINB0W   AH3B94LQOPPY6   \n",
       "...          ...             ...   \n",
       "4358  B007JINB0W   A73IG1ED6S0JR   \n",
       "4359  B007JINB0W  A1XZ2H0MYG54M0   \n",
       "4360  B007JINB0W  A3I2YF0MXB7P0B   \n",
       "4361  B007JINB0W  A2UELLFLITPMT1   \n",
       "4362  B007JINB0W  A178M2AHNWQZB0   \n",
       "\n",
       "                                             reviewText  \\\n",
       "0     Great pasta taste and feel, but the spell in t...   \n",
       "1     The texture just made it a little strange to e...   \n",
       "2     The herb flavor makes the odd texture of shira...   \n",
       "3     I didn't have a problem at all with a half fil...   \n",
       "4         They taste like whatever you cook them with.    \n",
       "...                                                 ...   \n",
       "4358  Product arrived with two of the bags punctured...   \n",
       "4359                                                Ok.   \n",
       "4360  I like these noodles but the spinach ones just...   \n",
       "4361            Truly horrific. Like eating dead worms.   \n",
       "4362  We love the rice noodles, and have problems fi...   \n",
       "\n",
       "                                                summary  overall  year  \\\n",
       "0                                            Four Stars        4  2018   \n",
       "1                           Okay but don't like texture        3  2014   \n",
       "2                              Go for the green noodles        5  2018   \n",
       "3                            Its an awesome substitute.        5  2018   \n",
       "4                                            Five Stars        5  2016   \n",
       "...                                                 ...      ...   ...   \n",
       "4358                                 would not recomend        1  2016   \n",
       "4359                                         Five Stars        5  2016   \n",
       "4360  Not awful, but now I know why these were on sale.        2  2013   \n",
       "4361                                 Don't even try it.        1  2017   \n",
       "4362   As good as all the other Miracle noodle products        5  2017   \n",
       "\n",
       "                                                  title           brand  \\\n",
       "0     Miracle Noodle Zero Carb, Gluten Free Shiratak...  Miracle Noodle   \n",
       "1     Miracle Noodle Zero Carb, Gluten Free Shiratak...  Miracle Noodle   \n",
       "2     Miracle Noodle Zero Carb, Gluten Free Shiratak...  Miracle Noodle   \n",
       "3     Miracle Noodle Zero Carb, Gluten Free Shiratak...  Miracle Noodle   \n",
       "4     Miracle Noodle Zero Carb, Gluten Free Shiratak...  Miracle Noodle   \n",
       "...                                                 ...             ...   \n",
       "4358  Miracle Noodle Zero Carb, Gluten Free Shiratak...  Miracle Noodle   \n",
       "4359  Miracle Noodle Zero Carb, Gluten Free Shiratak...  Miracle Noodle   \n",
       "4360  Miracle Noodle Zero Carb, Gluten Free Shiratak...  Miracle Noodle   \n",
       "4361  Miracle Noodle Zero Carb, Gluten Free Shiratak...  Miracle Noodle   \n",
       "4362  Miracle Noodle Zero Carb, Gluten Free Shiratak...  Miracle Noodle   \n",
       "\n",
       "                                               category  \\\n",
       "0     Grocery & Gourmet Food; Pasta & Noodles; Noodl...   \n",
       "1     Grocery & Gourmet Food; Pasta & Noodles; Noodl...   \n",
       "2     Grocery & Gourmet Food; Pasta & Noodles; Noodl...   \n",
       "3     Grocery & Gourmet Food; Pasta & Noodles; Noodl...   \n",
       "4     Grocery & Gourmet Food; Pasta & Noodles; Noodl...   \n",
       "...                                                 ...   \n",
       "4358  Grocery & Gourmet Food; Pasta & Noodles; Noodl...   \n",
       "4359  Grocery & Gourmet Food; Pasta & Noodles; Noodl...   \n",
       "4360  Grocery & Gourmet Food; Pasta & Noodles; Noodl...   \n",
       "4361  Grocery & Gourmet Food; Pasta & Noodles; Noodl...   \n",
       "4362  Grocery & Gourmet Food; Pasta & Noodles; Noodl...   \n",
       "\n",
       "                                       review-text-full  \\\n",
       "0     Four Stars: Great pasta taste and feel, but th...   \n",
       "1     Okay but don't like texture: The texture just ...   \n",
       "2     Go for the green noodles: The herb flavor make...   \n",
       "3     Its an awesome substitute.: I didn't have a pr...   \n",
       "4     Five Stars: They taste like whatever you cook ...   \n",
       "...                                                 ...   \n",
       "4358  would not recomend: Product arrived with two o...   \n",
       "4359                                    Five Stars: Ok.   \n",
       "4360  Not awful, but now I know why these were on sa...   \n",
       "4361  Don't even try it.: Truly horrific. Like eatin...   \n",
       "4362  As good as all the other Miracle noodle produc...   \n",
       "\n",
       "                                   review-text-full_raw  \\\n",
       "0     Four Stars: Great pasta taste and feel, but th...   \n",
       "1     Okay but don't like texture: The texture just ...   \n",
       "2     Go for the green noodles: The herb flavor make...   \n",
       "3     Its an awesome substitute.: I didn't have a pr...   \n",
       "4     Five Stars: They taste like whatever you cook ...   \n",
       "...                                                 ...   \n",
       "4358  would not recomend: Product arrived with two o...   \n",
       "4359                                    Five Stars: Ok.   \n",
       "4360  Not awful, but now I know why these were on sa...   \n",
       "4361  Don't even try it.: Truly horrific. Like eatin...   \n",
       "4362  As good as all the other Miracle noodle produc...   \n",
       "\n",
       "                                           tokens-dirty  \\\n",
       "0     [four, stars, great, pasta, taste, and, feel, ...   \n",
       "1     [okay, but, do, n't, like, texture, the, textu...   \n",
       "2     [go, for, the, green, noodles, the, herb, flav...   \n",
       "3     [its, an, awesome, substitute, i, did, n't, ha...   \n",
       "4     [five, stars, they, taste, like, whatever, you...   \n",
       "...                                                 ...   \n",
       "4358  [would, not, recomend, product, arrived, with,...   \n",
       "4359                                  [five, stars, ok]   \n",
       "4360  [not, awful, but, now, i, know, why, these, we...   \n",
       "4361  [do, n't, even, try, it, truly, horrific, like...   \n",
       "4362  [as, good, as, all, the, other, miracle, noodl...   \n",
       "\n",
       "                                                 tokens  \\\n",
       "0     [stars, great, pasta, taste, feel, spell, pack...   \n",
       "1     [okay, like, texture, texture, little, strange...   \n",
       "2     [green, noodles, herb, flavor, makes, odd, tex...   \n",
       "3     [awesome, substitute, problem, half, filled, b...   \n",
       "4                            [stars, taste, like, cook]   \n",
       "...                                                 ...   \n",
       "4358  [recomend, product, arrived, bags, punctured, ...   \n",
       "4359                                        [stars, ok]   \n",
       "4360  [awful, know, sale, like, noodles, spinach, on...   \n",
       "4361  [try, truly, horrific, like, eating, dead, worms]   \n",
       "4362  [good, miracle, noodle, products, love, rice, ...   \n",
       "\n",
       "                                                 lemmas  \\\n",
       "0     [star, great, pasta, taste, feel, spell, packa...   \n",
       "1     [okay, like, texture, texture, little, strange...   \n",
       "2     [green, noodle, herb, flavor, make, odd, textu...   \n",
       "3     [awesome, substitute, problem, half, fill, bag...   \n",
       "4                             [star, taste, like, cook]   \n",
       "...                                                 ...   \n",
       "4358  [recomend, product, arrive, bag, puncture, sme...   \n",
       "4359                                         [star, ok]   \n",
       "4360  [awful, know, sale, like, noodle, spinach, one...   \n",
       "4361      [try, truly, horrific, like, eat, dead, worm]   \n",
       "4362  [good, miracle, noodle, product, love, rice, n...   \n",
       "\n",
       "                                    tokens-dirty-joined  \\\n",
       "0     four stars great pasta taste and feel but the ...   \n",
       "1     okay but do n't like texture the texture just ...   \n",
       "2     go for the green noodles the herb flavor makes...   \n",
       "3     its an awesome substitute i did n't have a pro...   \n",
       "4     five stars they taste like whatever you cook t...   \n",
       "...                                                 ...   \n",
       "4358  would not recomend product arrived with two of...   \n",
       "4359                                      five stars ok   \n",
       "4360  not awful but now i know why these were on sal...   \n",
       "4361  do n't even try it truly horrific like eating ...   \n",
       "4362  as good as all the other miracle noodle produc...   \n",
       "\n",
       "                                          tokens-joined  \\\n",
       "0     stars great pasta taste feel spell packaged sk...   \n",
       "1     okay like texture texture little strange eat f...   \n",
       "2     green noodles herb flavor makes odd texture sh...   \n",
       "3     awesome substitute problem half filled bag use...   \n",
       "4                                 stars taste like cook   \n",
       "...                                                 ...   \n",
       "4358  recomend product arrived bags punctured smells...   \n",
       "4359                                           stars ok   \n",
       "4360  awful know sale like noodles spinach ones tast...   \n",
       "4361          try truly horrific like eating dead worms   \n",
       "4362  good miracle noodle products love rice noodles...   \n",
       "\n",
       "                                          lemmas-joined target-rating  \n",
       "0      star great pasta taste feel spell package skrong          None  \n",
       "1     okay like texture texture little strange eat f...          None  \n",
       "2     green noodle herb flavor make odd texture shir...          High  \n",
       "3     awesome substitute problem half fill bag user ...          High  \n",
       "4                                  star taste like cook          High  \n",
       "...                                                 ...           ...  \n",
       "4358     recomend product arrive bag puncture smell bad           Low  \n",
       "4359                                            star ok          High  \n",
       "4360  awful know sale like noodle spinach one taste ...           Low  \n",
       "4361              try truly horrific like eat dead worm           Low  \n",
       "4362  good miracle noodle product love rice noodle p...          High  \n",
       "\n",
       "[4363 rows x 18 columns]"
      ]
     },
     "execution_count": 2,
     "metadata": {},
     "output_type": "execute_result"
    }
   ],
   "source": [
    "import pandas as pd\n",
    "\n",
    "pd.set_option('display.max_columns',100)\n",
    "\n",
    "\n",
    "##Load in the data\n",
    "import json\n",
    "with open(\"config/filepaths.json\") as f:\n",
    "    FPATHS = json.load(f)\n",
    "\n",
    "\n",
    "import joblib\n",
    "df = joblib.load(FPATHS['data']['processed-nlp']['processed-reviews-with-target_joblib'])\n",
    "df"
   ]
  },
  {
   "cell_type": "code",
   "execution_count": null,
   "id": "edcd6bcd-8a19-4ac9-aa28-72d1b8a6b2b8",
   "metadata": {},
   "outputs": [],
   "source": []
  },
  {
   "cell_type": "code",
   "execution_count": 3,
   "id": "1a59d712-0cf5-4079-a6ce-c9d910040995",
   "metadata": {
    "execution": {
     "iopub.execute_input": "2024-02-23T02:58:17.348002Z",
     "iopub.status.busy": "2024-02-23T02:58:17.347894Z",
     "iopub.status.idle": "2024-02-23T02:58:17.384270Z",
     "shell.execute_reply": "2024-02-23T02:58:17.383792Z",
     "shell.execute_reply.started": "2024-02-23T02:58:17.347992Z"
    }
   },
   "outputs": [
    {
     "data": {
      "text/html": [
       "<div>\n",
       "<style scoped>\n",
       "    .dataframe tbody tr th:only-of-type {\n",
       "        vertical-align: middle;\n",
       "    }\n",
       "\n",
       "    .dataframe tbody tr th {\n",
       "        vertical-align: top;\n",
       "    }\n",
       "\n",
       "    .dataframe thead th {\n",
       "        text-align: right;\n",
       "    }\n",
       "</style>\n",
       "<table border=\"1\" class=\"dataframe\">\n",
       "  <thead>\n",
       "    <tr style=\"text-align: right;\">\n",
       "      <th></th>\n",
       "      <th>asin</th>\n",
       "      <th>category</th>\n",
       "      <th>description</th>\n",
       "      <th>title</th>\n",
       "      <th>brand</th>\n",
       "      <th>feature</th>\n",
       "      <th>rank</th>\n",
       "      <th>main_cat</th>\n",
       "      <th>price</th>\n",
       "      <th>imageURL</th>\n",
       "      <th>imageURLHighRes</th>\n",
       "      <th>details</th>\n",
       "      <th>Category_Beverages</th>\n",
       "      <th>Category_Bottled Beverages, Water &amp; Drink Mixes</th>\n",
       "      <th>Category_Candy &amp; Chocolate</th>\n",
       "      <th>Category_Canned, Jarred &amp; Packaged Foods</th>\n",
       "      <th>Category_Coffee</th>\n",
       "      <th>Category_Coffee, Tea &amp; Cocoa</th>\n",
       "      <th>Category_Cooking &amp; Baking</th>\n",
       "      <th>Category_Grocery &amp; Gourmet Food</th>\n",
       "      <th>Category_Herbs, Spices &amp; Seasonings</th>\n",
       "      <th>Category_Sauces, Gravies &amp; Marinades</th>\n",
       "      <th>Category_Snack Foods</th>\n",
       "      <th>Category_Tea</th>\n",
       "      <th>category_list</th>\n",
       "    </tr>\n",
       "  </thead>\n",
       "  <tbody>\n",
       "    <tr>\n",
       "      <th>0</th>\n",
       "      <td>B00BUKL666</td>\n",
       "      <td>Grocery &amp; Gourmet Food; Snack Foods; Bars; Nut...</td>\n",
       "      <td>'These bars are where our journey started and ...</td>\n",
       "      <td>KIND Bars, Dark Chocolate Nuts &amp;amp; Sea Salt,...</td>\n",
       "      <td>KIND</td>\n",
       "      <td>NaN</td>\n",
       "      <td>18 in Grocery &amp; Gourmet Food (</td>\n",
       "      <td>Grocery</td>\n",
       "      <td>$13.67</td>\n",
       "      <td>'https://images-na.ssl-images-amazon.com/image...</td>\n",
       "      <td>'https://images-na.ssl-images-amazon.com/image...</td>\n",
       "      <td>{'\\\\n    Product Dimensions: \\\\n    ': '6.8 x ...</td>\n",
       "      <td>0</td>\n",
       "      <td>0</td>\n",
       "      <td>0</td>\n",
       "      <td>0</td>\n",
       "      <td>0</td>\n",
       "      <td>0</td>\n",
       "      <td>0</td>\n",
       "      <td>1</td>\n",
       "      <td>0</td>\n",
       "      <td>0</td>\n",
       "      <td>1</td>\n",
       "      <td>0</td>\n",
       "      <td>['Grocery &amp; Gourmet Food', 'Snack Foods', 'Bar...</td>\n",
       "    </tr>\n",
       "    <tr>\n",
       "      <th>1</th>\n",
       "      <td>B008QMX2SG</td>\n",
       "      <td>Grocery &amp; Gourmet Food; Snack Foods; Bars; Nut...</td>\n",
       "      <td>'These bars are where our journey started and ...</td>\n",
       "      <td>Kind Bars, Madagascar Vanilla Almond, Gluten F...</td>\n",
       "      <td>KIND</td>\n",
       "      <td>NaN</td>\n",
       "      <td>2,949 in Grocery &amp; Gourmet Food (</td>\n",
       "      <td>Grocery</td>\n",
       "      <td>$14.79</td>\n",
       "      <td>'https://images-na.ssl-images-amazon.com/image...</td>\n",
       "      <td>'https://images-na.ssl-images-amazon.com/image...</td>\n",
       "      <td>{'\\\\n    Product Dimensions: \\\\n    ': '2 x 4 ...</td>\n",
       "      <td>0</td>\n",
       "      <td>0</td>\n",
       "      <td>0</td>\n",
       "      <td>0</td>\n",
       "      <td>0</td>\n",
       "      <td>0</td>\n",
       "      <td>0</td>\n",
       "      <td>1</td>\n",
       "      <td>0</td>\n",
       "      <td>0</td>\n",
       "      <td>1</td>\n",
       "      <td>0</td>\n",
       "      <td>['Grocery &amp; Gourmet Food', 'Snack Foods', 'Bar...</td>\n",
       "    </tr>\n",
       "    <tr>\n",
       "      <th>2</th>\n",
       "      <td>B00D3M2QP4</td>\n",
       "      <td>Grocery &amp; Gourmet Food; Breakfast Foods; Break...</td>\n",
       "      <td>'These bars are where our journey started and ...</td>\n",
       "      <td>KIND Bars, Dark Chocolate Chili Almond, Gluten...</td>\n",
       "      <td>KIND</td>\n",
       "      <td>NaN</td>\n",
       "      <td>4,575 in Grocery &amp; Gourmet Food (</td>\n",
       "      <td>Grocery</td>\n",
       "      <td>$15.53</td>\n",
       "      <td>'https://images-na.ssl-images-amazon.com/image...</td>\n",
       "      <td>'https://images-na.ssl-images-amazon.com/image...</td>\n",
       "      <td>{'\\\\n    Product Dimensions: \\\\n    ': '7 x 6 ...</td>\n",
       "      <td>0</td>\n",
       "      <td>0</td>\n",
       "      <td>0</td>\n",
       "      <td>0</td>\n",
       "      <td>0</td>\n",
       "      <td>0</td>\n",
       "      <td>0</td>\n",
       "      <td>1</td>\n",
       "      <td>0</td>\n",
       "      <td>0</td>\n",
       "      <td>0</td>\n",
       "      <td>0</td>\n",
       "      <td>['Grocery &amp; Gourmet Food', 'Breakfast Foods', ...</td>\n",
       "    </tr>\n",
       "    <tr>\n",
       "      <th>3</th>\n",
       "      <td>B00542YXFW</td>\n",
       "      <td>Grocery &amp; Gourmet Food; Beverages; Coffee, Tea...</td>\n",
       "      <td>'Mild, but round and full licorice flavor and ...</td>\n",
       "      <td>Davidson's Tea Bulk, Anise Seed, 16-Ounce Bag</td>\n",
       "      <td>Davidson's Tea</td>\n",
       "      <td>NaN</td>\n",
       "      <td>100,853 in Grocery &amp; Gourmet Food (</td>\n",
       "      <td>Grocery</td>\n",
       "      <td>$15.00</td>\n",
       "      <td>'https://images-na.ssl-images-amazon.com/image...</td>\n",
       "      <td>'https://images-na.ssl-images-amazon.com/image...</td>\n",
       "      <td>{'Shipping Weight:': '1.1 pounds (', 'Domestic...</td>\n",
       "      <td>1</td>\n",
       "      <td>0</td>\n",
       "      <td>0</td>\n",
       "      <td>0</td>\n",
       "      <td>0</td>\n",
       "      <td>1</td>\n",
       "      <td>0</td>\n",
       "      <td>1</td>\n",
       "      <td>0</td>\n",
       "      <td>0</td>\n",
       "      <td>0</td>\n",
       "      <td>1</td>\n",
       "      <td>['Grocery &amp; Gourmet Food', 'Beverages', 'Coffe...</td>\n",
       "    </tr>\n",
       "    <tr>\n",
       "      <th>4</th>\n",
       "      <td>B000F4DKAI</td>\n",
       "      <td>Grocery &amp; Gourmet Food; Beverages; Coffee, Tea...</td>\n",
       "      <td>'First started as much needed refreshment betw...</td>\n",
       "      <td>Twinings of London English Afternoon Black Tea...</td>\n",
       "      <td>Twinings</td>\n",
       "      <td>NaN</td>\n",
       "      <td>19,796 in Grocery &amp; Gourmet Food (</td>\n",
       "      <td>Grocery</td>\n",
       "      <td>$23.70</td>\n",
       "      <td>'https://images-na.ssl-images-amazon.com/image...</td>\n",
       "      <td>'https://images-na.ssl-images-amazon.com/image...</td>\n",
       "      <td>{'Shipping Weight:': '1.3 pounds (', 'Domestic...</td>\n",
       "      <td>1</td>\n",
       "      <td>0</td>\n",
       "      <td>0</td>\n",
       "      <td>0</td>\n",
       "      <td>0</td>\n",
       "      <td>1</td>\n",
       "      <td>0</td>\n",
       "      <td>1</td>\n",
       "      <td>0</td>\n",
       "      <td>0</td>\n",
       "      <td>0</td>\n",
       "      <td>1</td>\n",
       "      <td>['Grocery &amp; Gourmet Food', 'Beverages', 'Coffe...</td>\n",
       "    </tr>\n",
       "  </tbody>\n",
       "</table>\n",
       "</div>"
      ],
      "text/plain": [
       "         asin                                           category  \\\n",
       "0  B00BUKL666  Grocery & Gourmet Food; Snack Foods; Bars; Nut...   \n",
       "1  B008QMX2SG  Grocery & Gourmet Food; Snack Foods; Bars; Nut...   \n",
       "2  B00D3M2QP4  Grocery & Gourmet Food; Breakfast Foods; Break...   \n",
       "3  B00542YXFW  Grocery & Gourmet Food; Beverages; Coffee, Tea...   \n",
       "4  B000F4DKAI  Grocery & Gourmet Food; Beverages; Coffee, Tea...   \n",
       "\n",
       "                                         description  \\\n",
       "0  'These bars are where our journey started and ...   \n",
       "1  'These bars are where our journey started and ...   \n",
       "2  'These bars are where our journey started and ...   \n",
       "3  'Mild, but round and full licorice flavor and ...   \n",
       "4  'First started as much needed refreshment betw...   \n",
       "\n",
       "                                               title           brand feature  \\\n",
       "0  KIND Bars, Dark Chocolate Nuts &amp; Sea Salt,...            KIND     NaN   \n",
       "1  Kind Bars, Madagascar Vanilla Almond, Gluten F...            KIND     NaN   \n",
       "2  KIND Bars, Dark Chocolate Chili Almond, Gluten...            KIND     NaN   \n",
       "3      Davidson's Tea Bulk, Anise Seed, 16-Ounce Bag  Davidson's Tea     NaN   \n",
       "4  Twinings of London English Afternoon Black Tea...        Twinings     NaN   \n",
       "\n",
       "                                  rank main_cat   price  \\\n",
       "0       18 in Grocery & Gourmet Food (  Grocery  $13.67   \n",
       "1    2,949 in Grocery & Gourmet Food (  Grocery  $14.79   \n",
       "2    4,575 in Grocery & Gourmet Food (  Grocery  $15.53   \n",
       "3  100,853 in Grocery & Gourmet Food (  Grocery  $15.00   \n",
       "4   19,796 in Grocery & Gourmet Food (  Grocery  $23.70   \n",
       "\n",
       "                                            imageURL  \\\n",
       "0  'https://images-na.ssl-images-amazon.com/image...   \n",
       "1  'https://images-na.ssl-images-amazon.com/image...   \n",
       "2  'https://images-na.ssl-images-amazon.com/image...   \n",
       "3  'https://images-na.ssl-images-amazon.com/image...   \n",
       "4  'https://images-na.ssl-images-amazon.com/image...   \n",
       "\n",
       "                                     imageURLHighRes  \\\n",
       "0  'https://images-na.ssl-images-amazon.com/image...   \n",
       "1  'https://images-na.ssl-images-amazon.com/image...   \n",
       "2  'https://images-na.ssl-images-amazon.com/image...   \n",
       "3  'https://images-na.ssl-images-amazon.com/image...   \n",
       "4  'https://images-na.ssl-images-amazon.com/image...   \n",
       "\n",
       "                                             details  Category_Beverages  \\\n",
       "0  {'\\\\n    Product Dimensions: \\\\n    ': '6.8 x ...                   0   \n",
       "1  {'\\\\n    Product Dimensions: \\\\n    ': '2 x 4 ...                   0   \n",
       "2  {'\\\\n    Product Dimensions: \\\\n    ': '7 x 6 ...                   0   \n",
       "3  {'Shipping Weight:': '1.1 pounds (', 'Domestic...                   1   \n",
       "4  {'Shipping Weight:': '1.3 pounds (', 'Domestic...                   1   \n",
       "\n",
       "   Category_Bottled Beverages, Water & Drink Mixes  \\\n",
       "0                                                0   \n",
       "1                                                0   \n",
       "2                                                0   \n",
       "3                                                0   \n",
       "4                                                0   \n",
       "\n",
       "   Category_Candy & Chocolate  Category_Canned, Jarred & Packaged Foods  \\\n",
       "0                           0                                         0   \n",
       "1                           0                                         0   \n",
       "2                           0                                         0   \n",
       "3                           0                                         0   \n",
       "4                           0                                         0   \n",
       "\n",
       "   Category_Coffee  Category_Coffee, Tea & Cocoa  Category_Cooking & Baking  \\\n",
       "0                0                             0                          0   \n",
       "1                0                             0                          0   \n",
       "2                0                             0                          0   \n",
       "3                0                             1                          0   \n",
       "4                0                             1                          0   \n",
       "\n",
       "   Category_Grocery & Gourmet Food  Category_Herbs, Spices & Seasonings  \\\n",
       "0                                1                                    0   \n",
       "1                                1                                    0   \n",
       "2                                1                                    0   \n",
       "3                                1                                    0   \n",
       "4                                1                                    0   \n",
       "\n",
       "   Category_Sauces, Gravies & Marinades  Category_Snack Foods  Category_Tea  \\\n",
       "0                                     0                     1             0   \n",
       "1                                     0                     1             0   \n",
       "2                                     0                     0             0   \n",
       "3                                     0                     0             1   \n",
       "4                                     0                     0             1   \n",
       "\n",
       "                                       category_list  \n",
       "0  ['Grocery & Gourmet Food', 'Snack Foods', 'Bar...  \n",
       "1  ['Grocery & Gourmet Food', 'Snack Foods', 'Bar...  \n",
       "2  ['Grocery & Gourmet Food', 'Breakfast Foods', ...  \n",
       "3  ['Grocery & Gourmet Food', 'Beverages', 'Coffe...  \n",
       "4  ['Grocery & Gourmet Food', 'Beverages', 'Coffe...  "
      ]
     },
     "execution_count": 3,
     "metadata": {},
     "output_type": "execute_result"
    }
   ],
   "source": [
    "meta_df = pd.read_csv(FPATHS['data']['subset']['metadata_csv'])\n",
    "meta_df.head()"
   ]
  },
  {
   "cell_type": "code",
   "execution_count": 4,
   "id": "1c13f0cb-fda7-47f7-9f12-cdf14d83fafc",
   "metadata": {
    "execution": {
     "iopub.execute_input": "2024-02-23T02:58:17.385082Z",
     "iopub.status.busy": "2024-02-23T02:58:17.384838Z",
     "iopub.status.idle": "2024-02-23T02:58:17.401008Z",
     "shell.execute_reply": "2024-02-23T02:58:17.400577Z",
     "shell.execute_reply.started": "2024-02-23T02:58:17.385070Z"
    }
   },
   "outputs": [
    {
     "data": {
      "text/html": [
       "<div>\n",
       "<style scoped>\n",
       "    .dataframe tbody tr th:only-of-type {\n",
       "        vertical-align: middle;\n",
       "    }\n",
       "\n",
       "    .dataframe tbody tr th {\n",
       "        vertical-align: top;\n",
       "    }\n",
       "\n",
       "    .dataframe thead th {\n",
       "        text-align: right;\n",
       "    }\n",
       "</style>\n",
       "<table border=\"1\" class=\"dataframe\">\n",
       "  <thead>\n",
       "    <tr style=\"text-align: right;\">\n",
       "      <th></th>\n",
       "      <th>asin</th>\n",
       "      <th>category</th>\n",
       "      <th>description</th>\n",
       "      <th>title</th>\n",
       "      <th>brand</th>\n",
       "      <th>feature</th>\n",
       "      <th>rank</th>\n",
       "      <th>main_cat</th>\n",
       "      <th>price</th>\n",
       "      <th>imageURL</th>\n",
       "      <th>imageURLHighRes</th>\n",
       "      <th>details</th>\n",
       "      <th>Category_Beverages</th>\n",
       "      <th>Category_Bottled Beverages, Water &amp; Drink Mixes</th>\n",
       "      <th>Category_Candy &amp; Chocolate</th>\n",
       "      <th>Category_Canned, Jarred &amp; Packaged Foods</th>\n",
       "      <th>Category_Coffee</th>\n",
       "      <th>Category_Coffee, Tea &amp; Cocoa</th>\n",
       "      <th>Category_Cooking &amp; Baking</th>\n",
       "      <th>Category_Grocery &amp; Gourmet Food</th>\n",
       "      <th>Category_Herbs, Spices &amp; Seasonings</th>\n",
       "      <th>Category_Sauces, Gravies &amp; Marinades</th>\n",
       "      <th>Category_Snack Foods</th>\n",
       "      <th>Category_Tea</th>\n",
       "      <th>category_list</th>\n",
       "    </tr>\n",
       "  </thead>\n",
       "  <tbody>\n",
       "    <tr>\n",
       "      <th>0</th>\n",
       "      <td>B007JINB0W</td>\n",
       "      <td>Grocery &amp; Gourmet Food; Pasta &amp; Noodles; Noodl...</td>\n",
       "      <td>'Nutrition Facts Serving Size: 3 oz Servings P...</td>\n",
       "      <td>Miracle Noodle Zero Carb, Gluten Free Shiratak...</td>\n",
       "      <td>Miracle Noodle</td>\n",
       "      <td>'&lt;span class=\"a-size-base a-color-secondary\"&gt;\\...</td>\n",
       "      <td>119,683 in Grocery &amp; Gourmet Food (</td>\n",
       "      <td>Grocery</td>\n",
       "      <td>$59.76</td>\n",
       "      <td>'https://images-na.ssl-images-amazon.com/image...</td>\n",
       "      <td>'https://images-na.ssl-images-amazon.com/image...</td>\n",
       "      <td>{'\\\\n    Item Weight: \\\\n    ': '3.07 pounds',...</td>\n",
       "      <td>0</td>\n",
       "      <td>0</td>\n",
       "      <td>0</td>\n",
       "      <td>0</td>\n",
       "      <td>0</td>\n",
       "      <td>0</td>\n",
       "      <td>0</td>\n",
       "      <td>1</td>\n",
       "      <td>0</td>\n",
       "      <td>0</td>\n",
       "      <td>0</td>\n",
       "      <td>0</td>\n",
       "      <td>['Grocery &amp; Gourmet Food', 'Pasta &amp; Noodles', ...</td>\n",
       "    </tr>\n",
       "  </tbody>\n",
       "</table>\n",
       "</div>"
      ],
      "text/plain": [
       "         asin                                           category  \\\n",
       "0  B007JINB0W  Grocery & Gourmet Food; Pasta & Noodles; Noodl...   \n",
       "\n",
       "                                         description  \\\n",
       "0  'Nutrition Facts Serving Size: 3 oz Servings P...   \n",
       "\n",
       "                                               title           brand  \\\n",
       "0  Miracle Noodle Zero Carb, Gluten Free Shiratak...  Miracle Noodle   \n",
       "\n",
       "                                             feature  \\\n",
       "0  '<span class=\"a-size-base a-color-secondary\">\\...   \n",
       "\n",
       "                                  rank main_cat   price  \\\n",
       "0  119,683 in Grocery & Gourmet Food (  Grocery  $59.76   \n",
       "\n",
       "                                            imageURL  \\\n",
       "0  'https://images-na.ssl-images-amazon.com/image...   \n",
       "\n",
       "                                     imageURLHighRes  \\\n",
       "0  'https://images-na.ssl-images-amazon.com/image...   \n",
       "\n",
       "                                             details  Category_Beverages  \\\n",
       "0  {'\\\\n    Item Weight: \\\\n    ': '3.07 pounds',...                   0   \n",
       "\n",
       "   Category_Bottled Beverages, Water & Drink Mixes  \\\n",
       "0                                                0   \n",
       "\n",
       "   Category_Candy & Chocolate  Category_Canned, Jarred & Packaged Foods  \\\n",
       "0                           0                                         0   \n",
       "\n",
       "   Category_Coffee  Category_Coffee, Tea & Cocoa  Category_Cooking & Baking  \\\n",
       "0                0                             0                          0   \n",
       "\n",
       "   Category_Grocery & Gourmet Food  Category_Herbs, Spices & Seasonings  \\\n",
       "0                                1                                    0   \n",
       "\n",
       "   Category_Sauces, Gravies & Marinades  Category_Snack Foods  Category_Tea  \\\n",
       "0                                     0                     0             0   \n",
       "\n",
       "                                       category_list  \n",
       "0  ['Grocery & Gourmet Food', 'Pasta & Noodles', ...  "
      ]
     },
     "execution_count": 4,
     "metadata": {},
     "output_type": "execute_result"
    }
   ],
   "source": [
    "# Filter for only products in the reivews\n",
    "product_metadata = meta_df[meta_df['asin'].isin(df['asin'].unique())]\n",
    "# product_metadata = product_metadata.rename({'category_list':'categories'},axis=1)\n",
    "\n",
    "product_metadata = product_metadata.reset_index(drop=True)\n",
    "product_metadata"
   ]
  },
  {
   "cell_type": "code",
   "execution_count": 5,
   "id": "d0c3e25a-13ea-4655-b0ce-863689f4b094",
   "metadata": {
    "execution": {
     "iopub.execute_input": "2024-02-23T02:58:17.401782Z",
     "iopub.status.busy": "2024-02-23T02:58:17.401641Z",
     "iopub.status.idle": "2024-02-23T02:58:22.826298Z",
     "shell.execute_reply": "2024-02-23T02:58:22.825941Z",
     "shell.execute_reply.started": "2024-02-23T02:58:17.401770Z"
    }
   },
   "outputs": [
    {
     "name": "stdout",
     "output_type": "stream",
     "text": [
      "Top-Level Keys in FPATHS dict:\n",
      "dict_keys(['data', 'images', 'metadata', 'eda', 'models', 'results', 'readme'])\n"
     ]
    },
    {
     "name": "stderr",
     "output_type": "stream",
     "text": [
      "2024-02-22 21:58:22.471 WARNING streamlit.runtime.caching.cache_data_api: No runtime found, using MemoryCacheStorageManager\n",
      "2024-02-22 21:58:22.794 \n",
      "  \u001b[33m\u001b[1mWarning:\u001b[0m to view this Streamlit app on a browser, run it with the following\n",
      "  command:\n",
      "\n",
      "    streamlit run /opt/homebrew/Caskroom/miniforge/base/envs/dojo-env/lib/python3.10/site-packages/ipykernel_launcher.py [ARGUMENTS]\n"
     ]
    }
   ],
   "source": [
    "import streamlit as st\n",
    "import streamlit.components.v1 as components\n",
    "import pandas as pd\n",
    "import numpy as np\n",
    "import os\n",
    "import joblib\n",
    "import tensorflow as tf\n",
    "from PIL import Image\n",
    "import custom_functions as fn\n",
    "\n",
    "# Get Fpaths\n",
    "@st.cache_data\n",
    "def get_app_fpaths(fpath='config/filepaths.json'):\n",
    "\timport json\n",
    "\twith open(fpath ) as f:\n",
    "\t\treturn json.load(f)\n",
    "\n",
    "\n",
    "\n",
    "##Load in the data\n",
    "import json\n",
    "with open(\"config/filepaths.json\") as f:\n",
    "    FPATHS = json.load(f)\n",
    "    \n",
    "st.header(\"Exploratory Data Analysis of Amazon Reviews \")\n",
    "\n",
    "if st.checkbox('[Dev] Show FPATHS?',value=False):\n",
    "    FPATHS\n",
    "    "
   ]
  },
  {
   "cell_type": "code",
   "execution_count": 6,
   "id": "a83c834f-9f86-4a78-b5a3-47ce85f68267",
   "metadata": {
    "execution": {
     "iopub.execute_input": "2024-02-23T02:58:22.827064Z",
     "iopub.status.busy": "2024-02-23T02:58:22.826832Z",
     "iopub.status.idle": "2024-02-23T02:58:22.864918Z",
     "shell.execute_reply": "2024-02-23T02:58:22.864593Z",
     "shell.execute_reply.started": "2024-02-23T02:58:22.827054Z"
    }
   },
   "outputs": [],
   "source": [
    "import os,json\n",
    "\n",
    "with open(\"/Users/codingdojo/.secret/open-ai.json\") as f:\n",
    "    creds = json.load(f)\n",
    "os.environ['OPENAI_API_KEY'] = creds['api-key']"
   ]
  },
  {
   "cell_type": "code",
   "execution_count": 7,
   "id": "f721864c-9ce3-45f2-89fb-5c6158ced29f",
   "metadata": {
    "execution": {
     "iopub.execute_input": "2024-02-23T02:58:22.866757Z",
     "iopub.status.busy": "2024-02-23T02:58:22.866648Z",
     "iopub.status.idle": "2024-02-23T02:58:22.987785Z",
     "shell.execute_reply": "2024-02-23T02:58:22.987438Z",
     "shell.execute_reply.started": "2024-02-23T02:58:22.866749Z"
    }
   },
   "outputs": [
    {
     "name": "stderr",
     "output_type": "stream",
     "text": [
      "2024-02-22 21:58:22.901 No runtime found, using MemoryCacheStorageManager\n",
      "2024-02-22 21:58:22.901 No runtime found, using MemoryCacheStorageManager\n",
      "2024-02-22 21:58:22.902 No runtime found, using MemoryCacheStorageManager\n",
      "2024-02-22 21:58:22.979 No runtime found, using MemoryCacheStorageManager\n"
     ]
    }
   ],
   "source": [
    "@st.cache_data    \n",
    "def load_df(fpath):\n",
    "    import joblib\n",
    "    return joblib.load(fpath)\n",
    "\n",
    "@st.cache_data\n",
    "def load_metadata(fpath):\n",
    "    import pandas as pd\n",
    "    return pd.read_json(fpath)\n",
    "\n",
    "df = load_df(FPATHS['data']['processed-nlp']['processed-reviews-with-target_joblib'])\n",
    "meta_df = load_metadata(FPATHS['data']['app']['product-metadata_json'])\n",
    "product= meta_df.iloc[0]\n"
   ]
  },
  {
   "cell_type": "code",
   "execution_count": 8,
   "id": "7c96a357-5c19-432e-b88d-9a07c75af020",
   "metadata": {
    "execution": {
     "iopub.execute_input": "2024-02-23T02:58:22.988512Z",
     "iopub.status.busy": "2024-02-23T02:58:22.988411Z",
     "iopub.status.idle": "2024-02-23T02:58:23.026208Z",
     "shell.execute_reply": "2024-02-23T02:58:23.025827Z",
     "shell.execute_reply.started": "2024-02-23T02:58:22.988502Z"
    }
   },
   "outputs": [],
   "source": [
    "# df = df.dropna(subset='target-rating')\n",
    "# df.head(1)"
   ]
  },
  {
   "cell_type": "code",
   "execution_count": 9,
   "id": "1ca3caad-8428-415f-ba2c-d670db516093",
   "metadata": {
    "execution": {
     "iopub.execute_input": "2024-02-23T02:58:23.026816Z",
     "iopub.status.busy": "2024-02-23T02:58:23.026725Z",
     "iopub.status.idle": "2024-02-23T02:58:23.064147Z",
     "shell.execute_reply": "2024-02-23T02:58:23.063837Z",
     "shell.execute_reply.started": "2024-02-23T02:58:23.026807Z"
    }
   },
   "outputs": [],
   "source": [
    "# display(meta_df)\n",
    "# df.head()"
   ]
  },
  {
   "cell_type": "code",
   "execution_count": 10,
   "id": "6c2b7135-76b6-4616-828b-09525726063a",
   "metadata": {
    "execution": {
     "iopub.execute_input": "2024-02-23T02:58:23.064696Z",
     "iopub.status.busy": "2024-02-23T02:58:23.064606Z",
     "iopub.status.idle": "2024-02-23T02:58:23.159267Z",
     "shell.execute_reply": "2024-02-23T02:58:23.158878Z",
     "shell.execute_reply.started": "2024-02-23T02:58:23.064688Z"
    }
   },
   "outputs": [],
   "source": [
    "import plotly.express as px\n",
    "import plotly.io as pio\n",
    "pio.templates.default=None"
   ]
  },
  {
   "cell_type": "markdown",
   "id": "cbe0974e-67b8-4f32-8cd1-80ea3dc0825a",
   "metadata": {},
   "source": [
    "## Summarizing Reviews Using Pretrained BART from HuggingFace"
   ]
  },
  {
   "cell_type": "markdown",
   "id": "b2ffc122-85db-4ad0-9557-eaf56a2d5fbc",
   "metadata": {},
   "source": [
    "- The summaries will be displayed for the user but also used as context for Chat-GPT Recommendations."
   ]
  },
  {
   "cell_type": "markdown",
   "id": "aa4e566f-35dc-49df-8a34-12339c4cb01b",
   "metadata": {},
   "source": [
    "### Summarizing Each Class\n"
   ]
  },
  {
   "cell_type": "code",
   "execution_count": 11,
   "id": "106632f7-03aa-4c1b-99b8-6ac7a0077c8d",
   "metadata": {
    "execution": {
     "iopub.execute_input": "2024-02-23T02:58:23.159886Z",
     "iopub.status.busy": "2024-02-23T02:58:23.159787Z",
     "iopub.status.idle": "2024-02-23T02:58:25.763139Z",
     "shell.execute_reply": "2024-02-23T02:58:25.762718Z",
     "shell.execute_reply.started": "2024-02-23T02:58:23.159877Z"
    }
   },
   "outputs": [],
   "source": [
    "# Load model directly\n",
    "from transformers import AutoTokenizer, AutoModelForSeq2SeqLM\n",
    "\n",
    "model_name = \"kabita-choudhary/finetuned-bart-for-conversation-summary\"\n",
    "tokenizer_a = AutoTokenizer.from_pretrained(model_name)\n",
    "model_a = AutoModelForSeq2SeqLM.from_pretrained(model_name)"
   ]
  },
  {
   "cell_type": "code",
   "execution_count": 12,
   "id": "71f69c9e-0e67-4a15-9f99-2c0cbbbb5cba",
   "metadata": {
    "execution": {
     "iopub.execute_input": "2024-02-23T02:58:25.763786Z",
     "iopub.status.busy": "2024-02-23T02:58:25.763594Z",
     "iopub.status.idle": "2024-02-23T02:58:25.810721Z",
     "shell.execute_reply": "2024-02-23T02:58:25.810400Z",
     "shell.execute_reply.started": "2024-02-23T02:58:25.763777Z"
    }
   },
   "outputs": [
    {
     "data": {
      "text/plain": [
       "BartForConditionalGeneration(\n",
       "  (model): BartModel(\n",
       "    (shared): Embedding(50264, 1024, padding_idx=1)\n",
       "    (encoder): BartEncoder(\n",
       "      (embed_tokens): Embedding(50264, 1024, padding_idx=1)\n",
       "      (embed_positions): BartLearnedPositionalEmbedding(1026, 1024)\n",
       "      (layers): ModuleList(\n",
       "        (0-11): 12 x BartEncoderLayer(\n",
       "          (self_attn): BartSdpaAttention(\n",
       "            (k_proj): Linear(in_features=1024, out_features=1024, bias=True)\n",
       "            (v_proj): Linear(in_features=1024, out_features=1024, bias=True)\n",
       "            (q_proj): Linear(in_features=1024, out_features=1024, bias=True)\n",
       "            (out_proj): Linear(in_features=1024, out_features=1024, bias=True)\n",
       "          )\n",
       "          (self_attn_layer_norm): LayerNorm((1024,), eps=1e-05, elementwise_affine=True)\n",
       "          (activation_fn): GELUActivation()\n",
       "          (fc1): Linear(in_features=1024, out_features=4096, bias=True)\n",
       "          (fc2): Linear(in_features=4096, out_features=1024, bias=True)\n",
       "          (final_layer_norm): LayerNorm((1024,), eps=1e-05, elementwise_affine=True)\n",
       "        )\n",
       "      )\n",
       "      (layernorm_embedding): LayerNorm((1024,), eps=1e-05, elementwise_affine=True)\n",
       "    )\n",
       "    (decoder): BartDecoder(\n",
       "      (embed_tokens): Embedding(50264, 1024, padding_idx=1)\n",
       "      (embed_positions): BartLearnedPositionalEmbedding(1026, 1024)\n",
       "      (layers): ModuleList(\n",
       "        (0-11): 12 x BartDecoderLayer(\n",
       "          (self_attn): BartSdpaAttention(\n",
       "            (k_proj): Linear(in_features=1024, out_features=1024, bias=True)\n",
       "            (v_proj): Linear(in_features=1024, out_features=1024, bias=True)\n",
       "            (q_proj): Linear(in_features=1024, out_features=1024, bias=True)\n",
       "            (out_proj): Linear(in_features=1024, out_features=1024, bias=True)\n",
       "          )\n",
       "          (activation_fn): GELUActivation()\n",
       "          (self_attn_layer_norm): LayerNorm((1024,), eps=1e-05, elementwise_affine=True)\n",
       "          (encoder_attn): BartSdpaAttention(\n",
       "            (k_proj): Linear(in_features=1024, out_features=1024, bias=True)\n",
       "            (v_proj): Linear(in_features=1024, out_features=1024, bias=True)\n",
       "            (q_proj): Linear(in_features=1024, out_features=1024, bias=True)\n",
       "            (out_proj): Linear(in_features=1024, out_features=1024, bias=True)\n",
       "          )\n",
       "          (encoder_attn_layer_norm): LayerNorm((1024,), eps=1e-05, elementwise_affine=True)\n",
       "          (fc1): Linear(in_features=1024, out_features=4096, bias=True)\n",
       "          (fc2): Linear(in_features=4096, out_features=1024, bias=True)\n",
       "          (final_layer_norm): LayerNorm((1024,), eps=1e-05, elementwise_affine=True)\n",
       "        )\n",
       "      )\n",
       "      (layernorm_embedding): LayerNorm((1024,), eps=1e-05, elementwise_affine=True)\n",
       "    )\n",
       "  )\n",
       "  (lm_head): Linear(in_features=1024, out_features=50264, bias=False)\n",
       ")"
      ]
     },
     "execution_count": 12,
     "metadata": {},
     "output_type": "execute_result"
    }
   ],
   "source": [
    "model_a"
   ]
  },
  {
   "cell_type": "code",
   "execution_count": 13,
   "id": "f4857b6f-d39a-4cfa-865e-4ae360c61af1",
   "metadata": {
    "execution": {
     "iopub.execute_input": "2024-02-23T02:58:25.811338Z",
     "iopub.status.busy": "2024-02-23T02:58:25.811246Z",
     "iopub.status.idle": "2024-02-23T02:58:25.859578Z",
     "shell.execute_reply": "2024-02-23T02:58:25.859243Z",
     "shell.execute_reply.started": "2024-02-23T02:58:25.811329Z"
    }
   },
   "outputs": [],
   "source": [
    "# Getting group texts\n",
    "grp_idx_dict = df.groupby('target-rating').groups\n",
    "# high_promt_prefix = \"Summarize what customers likeed about this product:\"\n",
    "\n",
    "high_data  = \"\\n\".join(df.loc[grp_idx_dict['High'], 'review-text-full'])\n",
    "\n",
    "low_promt_prefix = \"Summarize what customers did not like about this product:\"\n",
    "low_data = \"\\n\".join(df.loc[grp_idx_dict['Low'], 'review-text-full'])\n",
    "\n"
   ]
  },
  {
   "cell_type": "code",
   "execution_count": 14,
   "id": "0a8c3efe-43ec-4147-99c8-c0524d3ff12a",
   "metadata": {
    "execution": {
     "iopub.execute_input": "2024-02-23T02:58:25.860287Z",
     "iopub.status.busy": "2024-02-23T02:58:25.860140Z",
     "iopub.status.idle": "2024-02-23T02:58:26.346068Z",
     "shell.execute_reply": "2024-02-23T02:58:26.345606Z",
     "shell.execute_reply.started": "2024-02-23T02:58:25.860278Z"
    }
   },
   "outputs": [],
   "source": [
    "# Tokenizing for PyTorch\n",
    "tokenizer_params = dict(truncation=True, return_tensors='pt', max_length=1024,\n",
    "                      padding='max_length')\n",
    "low_tokens_a = tokenizer_a(low_data,**tokenizer_params)\n",
    "\n",
    "high_tokens_a = tokenizer_a(high_data, **tokenizer_params)"
   ]
  },
  {
   "cell_type": "code",
   "execution_count": 15,
   "id": "ea7373db-d9d2-43e8-bacb-cb820c84081f",
   "metadata": {
    "execution": {
     "iopub.execute_input": "2024-02-23T02:58:26.346663Z",
     "iopub.status.busy": "2024-02-23T02:58:26.346558Z",
     "iopub.status.idle": "2024-02-23T02:58:53.786897Z",
     "shell.execute_reply": "2024-02-23T02:58:53.786572Z",
     "shell.execute_reply.started": "2024-02-23T02:58:26.346655Z"
    }
   },
   "outputs": [
    {
     "name": "stdout",
     "output_type": "stream",
     "text": [
      "CPU times: user 40.5 s, sys: 10.6 s, total: 51.1 s\n",
      "Wall time: 27.4 s\n"
     ]
    }
   ],
   "source": [
    "%%time\n",
    "shared_params = dict( num_beams=6,\n",
    "    max_length=300,\n",
    "    min_length=125,\n",
    "    length_penalty=2.0,\n",
    "    early_stopping=True,\n",
    "                     no_repeat_ngram_size=3,\n",
    "    # temperature=0.1, do_sample=True,\n",
    "                    )\n",
    "low_summary_ids_a = model_a.generate(\n",
    "    low_tokens_a[\"input_ids\"], **shared_params)\n",
    "high_summary_ids_a = model_a.generate(\n",
    "    high_tokens_a[\"input_ids\"], **shared_params)"
   ]
  },
  {
   "cell_type": "code",
   "execution_count": 16,
   "id": "c96696fb-41b9-4fb0-885e-a40a4fa73575",
   "metadata": {
    "execution": {
     "iopub.execute_input": "2024-02-23T02:58:53.787465Z",
     "iopub.status.busy": "2024-02-23T02:58:53.787372Z",
     "iopub.status.idle": "2024-02-23T02:58:53.835286Z",
     "shell.execute_reply": "2024-02-23T02:58:53.834943Z",
     "shell.execute_reply.started": "2024-02-23T02:58:53.787456Z"
    }
   },
   "outputs": [
    {
     "name": "stdout",
     "output_type": "stream",
     "text": [
      "The Shirataki noodles are rubbery in texture and don't absorb the cooking sauce. They are impossible to cook. They have a bad smell. They don't have a lot of calories, but they are good for watching calories. They taste bad. They smell bad, they make a mess, and they are difficult to prepare. I want to return them and get my money back. I made taquitos in my toaster oven, but I didn't want to eat them, so I will try again later. I will go back to using spagetti squash and brown rice.   \n"
     ]
    }
   ],
   "source": [
    "summary_low_a = tokenizer_a.decode(low_summary_ids_a[0], skip_special_tokens=True)\n",
    "print(summary_low_a)\n"
   ]
  },
  {
   "cell_type": "code",
   "execution_count": 17,
   "id": "4d7458b8-3f52-4d08-a2f7-803e899c4177",
   "metadata": {
    "execution": {
     "iopub.execute_input": "2024-02-23T02:58:53.835908Z",
     "iopub.status.busy": "2024-02-23T02:58:53.835764Z",
     "iopub.status.idle": "2024-02-23T02:58:53.881556Z",
     "shell.execute_reply": "2024-02-23T02:58:53.881253Z",
     "shell.execute_reply.started": "2024-02-23T02:58:53.835898Z"
    }
   },
   "outputs": [
    {
     "name": "stdout",
     "output_type": "stream",
     "text": [
      "Miracle Noodle Fettuccini is a low carb, healthy pasta alternative for people watching carbs. They smell a little when they first open the package, but after boiling in water they get better. The texture is good and they taste good. They are great in the chicken teriyaki I made the other night. They also work well with my homemade pasta sauce with ground turkey, so I'm going to make some \"Ketogenic\" stir fry chicken, Bok Choy and noodles for dinner tonight. The noodles are fat free and low or no calories, so they don't have to worry about calories.\n"
     ]
    }
   ],
   "source": [
    "summary_high_a = tokenizer_a.decode(high_summary_ids_a[0], skip_special_tokens=True)\n",
    "print(summary_high_a)\n"
   ]
  },
  {
   "cell_type": "code",
   "execution_count": 18,
   "id": "b9faa21f-f210-4a02-8a9d-5a731a95e763",
   "metadata": {
    "execution": {
     "iopub.execute_input": "2024-02-23T02:58:53.882129Z",
     "iopub.status.busy": "2024-02-23T02:58:53.882034Z",
     "iopub.status.idle": "2024-02-23T02:58:53.926765Z",
     "shell.execute_reply": "2024-02-23T02:58:53.926398Z",
     "shell.execute_reply.started": "2024-02-23T02:58:53.882120Z"
    }
   },
   "outputs": [],
   "source": [
    "# model_results = {'model-info':{'model-name':model_name,\n",
    "#                                  'model-params':shared_params,\n",
    "#                                'tokenizer-params':tokenizer_params},\n",
    "#                   'summary-high':summary_high_a,\n",
    "#                   'summary-low':summary_low_a}\n",
    "# model_results"
   ]
  },
  {
   "cell_type": "code",
   "execution_count": 19,
   "id": "2c040f43-b8b3-4cc0-9b2a-423909a10b6d",
   "metadata": {
    "execution": {
     "iopub.execute_input": "2024-02-23T02:58:53.927353Z",
     "iopub.status.busy": "2024-02-23T02:58:53.927256Z",
     "iopub.status.idle": "2024-02-23T02:58:53.972945Z",
     "shell.execute_reply": "2024-02-23T02:58:53.972616Z",
     "shell.execute_reply.started": "2024-02-23T02:58:53.927344Z"
    }
   },
   "outputs": [],
   "source": [
    "# model_results"
   ]
  },
  {
   "cell_type": "code",
   "execution_count": 20,
   "id": "9ff1846f-4aa4-4d64-83b7-54855899fdfa",
   "metadata": {
    "execution": {
     "iopub.execute_input": "2024-02-23T02:58:53.973428Z",
     "iopub.status.busy": "2024-02-23T02:58:53.973343Z",
     "iopub.status.idle": "2024-02-23T02:58:54.018339Z",
     "shell.execute_reply": "2024-02-23T02:58:54.018008Z",
     "shell.execute_reply.started": "2024-02-23T02:58:53.973420Z"
    }
   },
   "outputs": [],
   "source": [
    "# import json\n",
    "# fname_summaries = FPATHS['results']['review-summary-01_json']\n",
    "# fname_summaries"
   ]
  },
  {
   "cell_type": "code",
   "execution_count": 21,
   "id": "93fd9013-cb81-4471-81a4-cf98117eb6b0",
   "metadata": {
    "execution": {
     "iopub.execute_input": "2024-02-23T02:58:54.018956Z",
     "iopub.status.busy": "2024-02-23T02:58:54.018858Z",
     "iopub.status.idle": "2024-02-23T02:58:54.064825Z",
     "shell.execute_reply": "2024-02-23T02:58:54.064468Z",
     "shell.execute_reply.started": "2024-02-23T02:58:54.018947Z"
    }
   },
   "outputs": [],
   "source": [
    "# # answer  = input(\"Save these results?\")\n",
    "# # if answer.lower().startswith('y'):\n",
    "# with open(fname_summaries,'w') as f:\n",
    "#     json.dump(model_results, f )"
   ]
  },
  {
   "cell_type": "code",
   "execution_count": null,
   "id": "b9f5ab34-dd93-407b-aa3a-735e75f95e41",
   "metadata": {},
   "outputs": [],
   "source": []
  },
  {
   "cell_type": "markdown",
   "id": "ab31d5f7-b30b-4263-8e7d-232916c50db8",
   "metadata": {},
   "source": [
    "### All Summaries Combined"
   ]
  },
  {
   "cell_type": "code",
   "execution_count": 22,
   "id": "2c322ccc-8ed5-4174-8cc6-a4f3a2c9fc57",
   "metadata": {
    "execution": {
     "iopub.execute_input": "2024-02-23T02:58:54.069536Z",
     "iopub.status.busy": "2024-02-23T02:58:54.069397Z",
     "iopub.status.idle": "2024-02-23T02:58:54.115752Z",
     "shell.execute_reply": "2024-02-23T02:58:54.115288Z",
     "shell.execute_reply.started": "2024-02-23T02:58:54.069526Z"
    }
   },
   "outputs": [],
   "source": [
    "# # Getting entire text\n",
    "# combined_data = '\\n\\n'.join(df['review-text-full'])"
   ]
  },
  {
   "cell_type": "code",
   "execution_count": 23,
   "id": "c01abb9c-580e-476e-8b5a-1c9c110e46a5",
   "metadata": {
    "execution": {
     "iopub.execute_input": "2024-02-23T02:58:54.116314Z",
     "iopub.status.busy": "2024-02-23T02:58:54.116208Z",
     "iopub.status.idle": "2024-02-23T02:58:54.163069Z",
     "shell.execute_reply": "2024-02-23T02:58:54.162701Z",
     "shell.execute_reply.started": "2024-02-23T02:58:54.116305Z"
    }
   },
   "outputs": [],
   "source": [
    "# combined_tokens = tokenizer_a(combined_data, truncation=True, return_tensors='pt', #max_length=2056,\n",
    "#                       padding='max_length')"
   ]
  },
  {
   "cell_type": "code",
   "execution_count": 24,
   "id": "7e104a32-ceff-4994-861a-7df123dce26a",
   "metadata": {
    "execution": {
     "iopub.execute_input": "2024-02-23T02:58:54.163656Z",
     "iopub.status.busy": "2024-02-23T02:58:54.163549Z",
     "iopub.status.idle": "2024-02-23T02:58:54.212506Z",
     "shell.execute_reply": "2024-02-23T02:58:54.212141Z",
     "shell.execute_reply.started": "2024-02-23T02:58:54.163646Z"
    }
   },
   "outputs": [],
   "source": [
    "# %%time\n",
    "# shared_params = dict( num_beams=6,\n",
    "#     max_length=1000,\n",
    "#     min_length=300,\n",
    "#     length_penalty=2.0,\n",
    "#                      no_repeat_ngram_size=3,\n",
    "\n",
    "#     # early_stopping=True,\n",
    "#     # temperature=0.1, do_sample=True,\n",
    "#                     )\n",
    "# combined_summary_ids = model_a.generate( combined_tokens[\"input_ids\"], **shared_params)"
   ]
  },
  {
   "cell_type": "code",
   "execution_count": 25,
   "id": "9976c552-8152-4f12-80b0-24c4ad7a958a",
   "metadata": {
    "execution": {
     "iopub.execute_input": "2024-02-23T02:58:54.213235Z",
     "iopub.status.busy": "2024-02-23T02:58:54.213132Z",
     "iopub.status.idle": "2024-02-23T02:58:54.260022Z",
     "shell.execute_reply": "2024-02-23T02:58:54.259567Z",
     "shell.execute_reply.started": "2024-02-23T02:58:54.213226Z"
    }
   },
   "outputs": [],
   "source": [
    "# summary_combined = tokenizer_a.decode(combined_summary_ids[0], skip_special_tokens=True)\n",
    "# print(summary_combined)\n"
   ]
  },
  {
   "cell_type": "code",
   "execution_count": 26,
   "id": "40280fc4-6487-4a37-9396-da143fe8bab8",
   "metadata": {
    "execution": {
     "iopub.execute_input": "2024-02-23T02:58:54.260573Z",
     "iopub.status.busy": "2024-02-23T02:58:54.260476Z",
     "iopub.status.idle": "2024-02-23T02:58:54.307269Z",
     "shell.execute_reply": "2024-02-23T02:58:54.306900Z",
     "shell.execute_reply.started": "2024-02-23T02:58:54.260560Z"
    }
   },
   "outputs": [],
   "source": [
    "# model_results_combined = {'model':model_name,\n",
    "#                  'model-params':shared_params,\n",
    "#                   'summary':summary_combined,}\n",
    "                  \n",
    "# fname_summaries = FPATHS['results']['review-summary-02_json']\n",
    "# with open(fname_summaries,'w') as f:\n",
    "#     json.dump(model_results_combined, f )"
   ]
  },
  {
   "cell_type": "code",
   "execution_count": null,
   "id": "237e93af-41c9-4dd2-9af9-7c0f28262d29",
   "metadata": {},
   "outputs": [],
   "source": []
  },
  {
   "cell_type": "markdown",
   "id": "3578d436-6394-4e6e-8308-4caf8ea56c75",
   "metadata": {},
   "source": [
    "# Applying Sentiment Analysis"
   ]
  },
  {
   "cell_type": "markdown",
   "id": "2e3624f1-f60c-4d30-b10b-3b2bd37a4b9f",
   "metadata": {},
   "source": [
    "https://huggingface.co/AdamCodd/distilbert-base-uncased-finetuned-sentiment-amazon"
   ]
  },
  {
   "cell_type": "code",
   "execution_count": 27,
   "id": "3a5dab0e-6aaa-4184-b03d-bd1221af55a2",
   "metadata": {
    "execution": {
     "iopub.execute_input": "2024-02-23T02:58:54.307933Z",
     "iopub.status.busy": "2024-02-23T02:58:54.307838Z",
     "iopub.status.idle": "2024-02-23T02:58:54.352794Z",
     "shell.execute_reply": "2024-02-23T02:58:54.352431Z",
     "shell.execute_reply.started": "2024-02-23T02:58:54.307923Z"
    }
   },
   "outputs": [],
   "source": [
    "model_name_binary = \"AdamCodd/distilbert-base-uncased-finetuned-sentiment-amazon\"\n",
    "mdoel_name_stars = \"LiYuan/amazon-review-sentiment-analysis\""
   ]
  },
  {
   "cell_type": "markdown",
   "id": "8a3bba46-b516-42e5-a014-95497300411f",
   "metadata": {},
   "source": [
    "#### 5-Star Review Classification"
   ]
  },
  {
   "cell_type": "code",
   "execution_count": 28,
   "id": "bfc1e43b-2d1b-4985-b7a4-4a35c6310bb3",
   "metadata": {
    "execution": {
     "iopub.execute_input": "2024-02-23T02:58:54.353431Z",
     "iopub.status.busy": "2024-02-23T02:58:54.353334Z",
     "iopub.status.idle": "2024-02-23T02:58:54.928672Z",
     "shell.execute_reply": "2024-02-23T02:58:54.928342Z",
     "shell.execute_reply.started": "2024-02-23T02:58:54.353423Z"
    }
   },
   "outputs": [],
   "source": [
    "from transformers import AutoTokenizer, AutoModelForSequenceClassification\n",
    "\n",
    "tokenizer = AutoTokenizer.from_pretrained(mdoel_name_stars)\n",
    "\n",
    "model = AutoModelForSequenceClassification.from_pretrained(mdoel_name_stars)\n"
   ]
  },
  {
   "cell_type": "code",
   "execution_count": 29,
   "id": "3fd457d6-bf70-419a-a698-f30583a6a395",
   "metadata": {
    "execution": {
     "iopub.execute_input": "2024-02-23T02:58:54.929240Z",
     "iopub.status.busy": "2024-02-23T02:58:54.929147Z",
     "iopub.status.idle": "2024-02-23T02:58:54.975141Z",
     "shell.execute_reply": "2024-02-23T02:58:54.974866Z",
     "shell.execute_reply.started": "2024-02-23T02:58:54.929230Z"
    }
   },
   "outputs": [
    {
     "data": {
      "text/plain": [
       "{'input_ids': tensor([[  101,   151, 46747, 23225, 10935, 10103, 10181, 13227, 11300,   119,\n",
       "           119,   119,   119, 22920, 10103, 44960, 10110, 14965, 13897,   106,\n",
       "           102]]), 'token_type_ids': tensor([[0, 0, 0, 0, 0, 0, 0, 0, 0, 0, 0, 0, 0, 0, 0, 0, 0, 0, 0, 0, 0]]), 'attention_mask': tensor([[1, 1, 1, 1, 1, 1, 1, 1, 1, 1, 1, 1, 1, 1, 1, 1, 1, 1, 1, 1, 1]])}"
      ]
     },
     "execution_count": 29,
     "metadata": {},
     "output_type": "execute_result"
    }
   ],
   "source": [
    "# def tokenize\n",
    "test_text = \"I loved everything about the noodles....except the taste and smell!\"\n",
    "tokenizer(test_text, padding=True, truncation=True, return_tensors=\"pt\")"
   ]
  },
  {
   "cell_type": "code",
   "execution_count": 30,
   "id": "e1545684-5306-4899-b790-eca4d09b3a56",
   "metadata": {
    "execution": {
     "iopub.execute_input": "2024-02-23T02:58:54.975654Z",
     "iopub.status.busy": "2024-02-23T02:58:54.975568Z",
     "iopub.status.idle": "2024-02-23T02:58:55.910088Z",
     "shell.execute_reply": "2024-02-23T02:58:55.909723Z",
     "shell.execute_reply.started": "2024-02-23T02:58:54.975646Z"
    }
   },
   "outputs": [
    {
     "name": "stdout",
     "output_type": "stream",
     "text": [
      "CPU times: user 861 ms, sys: 24 ms, total: 885 ms\n",
      "Wall time: 888 ms\n"
     ]
    }
   ],
   "source": [
    "%%time\n",
    "tokenized_reviews = df['review-text-full'].apply(lambda text: tokenizer(text, padding=True, truncation=True, return_tensors=\"pt\"))\n"
   ]
  },
  {
   "cell_type": "code",
   "execution_count": 31,
   "id": "db2a4267-9f43-4660-902b-436e14e61d72",
   "metadata": {
    "execution": {
     "iopub.execute_input": "2024-02-23T02:58:55.910719Z",
     "iopub.status.busy": "2024-02-23T02:58:55.910626Z",
     "iopub.status.idle": "2024-02-23T02:58:55.959108Z",
     "shell.execute_reply": "2024-02-23T02:58:55.958803Z",
     "shell.execute_reply.started": "2024-02-23T02:58:55.910711Z"
    }
   },
   "outputs": [
    {
     "data": {
      "text/plain": [
       "{'input_ids': tensor([[  101, 11443, 14548,   131, 11838, 50833, 44960, 10110, 23333,   117,\n",
       "         10502, 10103, 55759, 10104, 10103, 47709, 10163, 10127, 18711, 61337,\n",
       "           106,   102]]), 'token_type_ids': tensor([[0, 0, 0, 0, 0, 0, 0, 0, 0, 0, 0, 0, 0, 0, 0, 0, 0, 0, 0, 0, 0, 0]]), 'attention_mask': tensor([[1, 1, 1, 1, 1, 1, 1, 1, 1, 1, 1, 1, 1, 1, 1, 1, 1, 1, 1, 1, 1, 1]])}"
      ]
     },
     "execution_count": 31,
     "metadata": {},
     "output_type": "execute_result"
    }
   ],
   "source": [
    "tokenized_reviews[0]"
   ]
  },
  {
   "cell_type": "code",
   "execution_count": 32,
   "id": "4ac9607c-f801-4f65-9580-9af4758d84a7",
   "metadata": {
    "execution": {
     "iopub.execute_input": "2024-02-23T02:58:55.959749Z",
     "iopub.status.busy": "2024-02-23T02:58:55.959635Z",
     "iopub.status.idle": "2024-02-23T02:58:56.005491Z",
     "shell.execute_reply": "2024-02-23T02:58:56.005150Z",
     "shell.execute_reply.started": "2024-02-23T02:58:55.959740Z"
    }
   },
   "outputs": [],
   "source": [
    "from sklearn.model_selection import train_test_split\n",
    "from sklearn import set_config\n",
    "from sklearn.preprocessing import LabelEncoder\n",
    "set_config(transform_output='pandas')"
   ]
  },
  {
   "cell_type": "code",
   "execution_count": 33,
   "id": "3b0ef15d-b57d-46a9-8000-124510236e18",
   "metadata": {
    "execution": {
     "iopub.execute_input": "2024-02-23T02:58:56.005986Z",
     "iopub.status.busy": "2024-02-23T02:58:56.005885Z",
     "iopub.status.idle": "2024-02-23T02:58:56.052066Z",
     "shell.execute_reply": "2024-02-23T02:58:56.051728Z",
     "shell.execute_reply.started": "2024-02-23T02:58:56.005977Z"
    }
   },
   "outputs": [],
   "source": [
    "X = df['review-text-full']\n",
    "y =  df['overall']"
   ]
  },
  {
   "cell_type": "code",
   "execution_count": 34,
   "id": "704b13ab-553b-437f-8b3c-9dafdce71715",
   "metadata": {
    "execution": {
     "iopub.execute_input": "2024-02-23T02:58:56.052661Z",
     "iopub.status.busy": "2024-02-23T02:58:56.052558Z",
     "iopub.status.idle": "2024-02-23T02:58:56.098432Z",
     "shell.execute_reply": "2024-02-23T02:58:56.098089Z",
     "shell.execute_reply.started": "2024-02-23T02:58:56.052651Z"
    }
   },
   "outputs": [],
   "source": [
    "X_train, X_test, y_train, y_test =  train_test_split(X,y )\n",
    "encoder =  LabelEncoder()\n",
    "y_train_enc= pd.Series(encoder.fit_transform(y_train), index=y_train.index, name=y_train.name)\n",
    "y_test_enc = pd.Series(encoder.transform(y_test), index=y_test.index, name=y_test.name)"
   ]
  },
  {
   "cell_type": "code",
   "execution_count": 35,
   "id": "a98221c3-b702-4749-9606-2375e686c88a",
   "metadata": {
    "execution": {
     "iopub.execute_input": "2024-02-23T02:58:56.098906Z",
     "iopub.status.busy": "2024-02-23T02:58:56.098813Z",
     "iopub.status.idle": "2024-02-23T02:58:56.144827Z",
     "shell.execute_reply": "2024-02-23T02:58:56.144523Z",
     "shell.execute_reply.started": "2024-02-23T02:58:56.098897Z"
    }
   },
   "outputs": [
    {
     "data": {
      "text/plain": [
       "4    1388\n",
       "0     811\n",
       "3     459\n",
       "2     343\n",
       "1     271\n",
       "Name: overall, dtype: int64"
      ]
     },
     "execution_count": 35,
     "metadata": {},
     "output_type": "execute_result"
    }
   ],
   "source": [
    "y_train_enc.value_counts()"
   ]
  },
  {
   "cell_type": "code",
   "execution_count": 36,
   "id": "a0ee3260-612a-400b-a52c-14ed8ad31ef3",
   "metadata": {
    "execution": {
     "iopub.execute_input": "2024-02-23T02:58:56.145506Z",
     "iopub.status.busy": "2024-02-23T02:58:56.145360Z",
     "iopub.status.idle": "2024-02-23T02:58:56.192535Z",
     "shell.execute_reply": "2024-02-23T02:58:56.192255Z",
     "shell.execute_reply.started": "2024-02-23T02:58:56.145497Z"
    }
   },
   "outputs": [
    {
     "data": {
      "text/plain": [
       "{0: 1, 1: 2, 2: 3, 3: 4, 4: 5}"
      ]
     },
     "execution_count": 36,
     "metadata": {},
     "output_type": "execute_result"
    }
   ],
   "source": [
    "label_lookup = dict(zip(range(len(encoder.classes_)), encoder.classes_))\n",
    "label_lookup"
   ]
  },
  {
   "cell_type": "code",
   "execution_count": 37,
   "id": "d64413e2-2759-407c-b4e5-cf51e7aab84f",
   "metadata": {
    "execution": {
     "iopub.execute_input": "2024-02-23T02:58:56.193158Z",
     "iopub.status.busy": "2024-02-23T02:58:56.193046Z",
     "iopub.status.idle": "2024-02-23T02:58:57.109026Z",
     "shell.execute_reply": "2024-02-23T02:58:57.108712Z",
     "shell.execute_reply.started": "2024-02-23T02:58:56.193149Z"
    },
    "scrolled": true
   },
   "outputs": [
    {
     "data": {
      "text/plain": [
       "2501    [input_ids, token_type_ids, attention_mask]\n",
       "2194    [input_ids, token_type_ids, attention_mask]\n",
       "4316    [input_ids, token_type_ids, attention_mask]\n",
       "595     [input_ids, token_type_ids, attention_mask]\n",
       "363     [input_ids, token_type_ids, attention_mask]\n",
       "                           ...                     \n",
       "715     [input_ids, token_type_ids, attention_mask]\n",
       "2479    [input_ids, token_type_ids, attention_mask]\n",
       "2825    [input_ids, token_type_ids, attention_mask]\n",
       "3318    [input_ids, token_type_ids, attention_mask]\n",
       "2080    [input_ids, token_type_ids, attention_mask]\n",
       "Name: review-text-full, Length: 3272, dtype: object"
      ]
     },
     "execution_count": 37,
     "metadata": {},
     "output_type": "execute_result"
    }
   ],
   "source": [
    "X_train_tok = X_train.map(lambda text: tokenizer(text, padding=True, truncation=True, return_tensors=\"pt\"))\n",
    "X_test_tok = X_test.map(lambda text: tokenizer(text, padding=True, truncation=True, return_tensors=\"pt\"))\n",
    "X_train_tok"
   ]
  },
  {
   "cell_type": "code",
   "execution_count": 38,
   "id": "7bcae6ab-64a4-4115-85b5-206ab7bcba5b",
   "metadata": {
    "execution": {
     "iopub.execute_input": "2024-02-23T02:58:57.109686Z",
     "iopub.status.busy": "2024-02-23T02:58:57.109594Z",
     "iopub.status.idle": "2024-02-23T03:02:26.901245Z",
     "shell.execute_reply": "2024-02-23T03:02:26.900901Z",
     "shell.execute_reply.started": "2024-02-23T02:58:57.109677Z"
    }
   },
   "outputs": [
    {
     "name": "stdout",
     "output_type": "stream",
     "text": [
      "CPU times: user 3min 20s, sys: 2min 1s, total: 5min 22s\n",
      "Wall time: 3min 29s\n"
     ]
    }
   ],
   "source": [
    "%%time\n",
    "import torch\n",
    "\n",
    "model.eval()\n",
    "\n",
    "preds  = []\n",
    "pred_probs=  []\n",
    "for i in range(len(X_train_tok)):\n",
    "    with torch.no_grad():\n",
    "        # inputs = {k : v[i] for k,v in X_train_tok.iloc[i].items()}\n",
    "        inputs = X_train_tok.iloc[i]\n",
    "        \n",
    "        # Forward pass, get logit predictions\n",
    "        outputs = model(**inputs)\n",
    "        logits = outputs.logits\n",
    "\n",
    "        # Convert logits to probabilities\n",
    "        probs = torch.softmax(logits, dim=1)\n",
    "        \n",
    "        # Extract the predicted class (highest probability)\n",
    "        pred_probs.append(probs)\n",
    "        predicted_class = torch.argmax(probs, dim=1).item() # What is the .item()?\n",
    "        preds.append(predicted_class)\n",
    "\n",
    "y_train_pred = pd.Series(preds, index=X_train.index, name='Train Pred')"
   ]
  },
  {
   "cell_type": "code",
   "execution_count": 39,
   "id": "55e82bd4-d956-44a8-aa73-10fa14cee93c",
   "metadata": {
    "execution": {
     "iopub.execute_input": "2024-02-23T03:02:26.901820Z",
     "iopub.status.busy": "2024-02-23T03:02:26.901698Z",
     "iopub.status.idle": "2024-02-23T03:02:27.004264Z",
     "shell.execute_reply": "2024-02-23T03:02:27.003913Z",
     "shell.execute_reply.started": "2024-02-23T03:02:26.901810Z"
    }
   },
   "outputs": [],
   "source": [
    "def get_preds(model, X_train_tok, ):\n",
    "    \n",
    "    model.eval()\n",
    "    \n",
    "    preds  = []\n",
    "    pred_probs=  []\n",
    "    for i in range(len(X_train_tok)):\n",
    "        with torch.no_grad():\n",
    "            # inputs = {k : v[i] for k,v in X_train_tok.iloc[i].items()}\n",
    "            inputs = X_train_tok.iloc[i]\n",
    "            \n",
    "            # Forward pass, get logit predictions\n",
    "            outputs = model(**inputs)\n",
    "            logits = outputs.logits\n",
    "    \n",
    "            # Convert logits to probabilities\n",
    "            probs = torch.softmax(logits, dim=1)\n",
    "            \n",
    "            # Extract the predicted class (highest probability)\n",
    "            pred_probs.append(probs)\n",
    "            predicted_class = torch.argmax(probs, dim=1).item() # What is the .item()?\n",
    "            preds.append(predicted_class)\n",
    "    \n",
    "    y_train_pred = pd.Series(preds, index=X_train_tok.index, name='Train Pred')\n",
    "    return y_train_pred\n"
   ]
  },
  {
   "cell_type": "code",
   "execution_count": 40,
   "id": "e0df496c-d4cb-4105-877a-728e48c67215",
   "metadata": {
    "execution": {
     "iopub.execute_input": "2024-02-23T03:02:27.004882Z",
     "iopub.status.busy": "2024-02-23T03:02:27.004778Z",
     "iopub.status.idle": "2024-02-23T03:02:27.050947Z",
     "shell.execute_reply": "2024-02-23T03:02:27.050676Z",
     "shell.execute_reply.started": "2024-02-23T03:02:27.004872Z"
    }
   },
   "outputs": [
    {
     "data": {
      "text/plain": [
       "tensor([[0.0093, 0.0390, 0.1902, 0.5287, 0.2329]])"
      ]
     },
     "execution_count": 40,
     "metadata": {},
     "output_type": "execute_result"
    }
   ],
   "source": [
    "pred_probs[0]"
   ]
  },
  {
   "cell_type": "code",
   "execution_count": 41,
   "id": "99d02b66-a9ef-4989-b4bf-9710a0b468fd",
   "metadata": {
    "execution": {
     "iopub.execute_input": "2024-02-23T03:02:27.051500Z",
     "iopub.status.busy": "2024-02-23T03:02:27.051405Z",
     "iopub.status.idle": "2024-02-23T03:02:27.097598Z",
     "shell.execute_reply": "2024-02-23T03:02:27.097302Z",
     "shell.execute_reply.started": "2024-02-23T03:02:27.051491Z"
    }
   },
   "outputs": [
    {
     "data": {
      "text/plain": [
       "5    1388\n",
       "1     811\n",
       "4     459\n",
       "3     343\n",
       "2     271\n",
       "Name: overall, dtype: int64"
      ]
     },
     "execution_count": 41,
     "metadata": {},
     "output_type": "execute_result"
    }
   ],
   "source": [
    "y_train.value_counts(dropna=False)"
   ]
  },
  {
   "cell_type": "code",
   "execution_count": 42,
   "id": "e5b1a197-134b-42eb-b164-f6bf2a4da2f1",
   "metadata": {
    "execution": {
     "iopub.execute_input": "2024-02-23T03:02:27.098149Z",
     "iopub.status.busy": "2024-02-23T03:02:27.098061Z",
     "iopub.status.idle": "2024-02-23T03:02:27.148951Z",
     "shell.execute_reply": "2024-02-23T03:02:27.148670Z",
     "shell.execute_reply.started": "2024-02-23T03:02:27.098140Z"
    }
   },
   "outputs": [
    {
     "data": {
      "text/plain": [
       "2501    3\n",
       "2194    4\n",
       "4316    4\n",
       "595     1\n",
       "363     4\n",
       "Name: Train Pred, dtype: int64"
      ]
     },
     "execution_count": 42,
     "metadata": {},
     "output_type": "execute_result"
    }
   ],
   "source": [
    "y_train_pred.head()"
   ]
  },
  {
   "cell_type": "code",
   "execution_count": 43,
   "id": "ec542a61-7177-4708-846b-d1fa7fe7e897",
   "metadata": {
    "execution": {
     "iopub.execute_input": "2024-02-23T03:02:27.149489Z",
     "iopub.status.busy": "2024-02-23T03:02:27.149401Z",
     "iopub.status.idle": "2024-02-23T03:02:27.198705Z",
     "shell.execute_reply": "2024-02-23T03:02:27.198426Z",
     "shell.execute_reply.started": "2024-02-23T03:02:27.149480Z"
    }
   },
   "outputs": [
    {
     "data": {
      "text/plain": [
       "4    1548\n",
       "0     812\n",
       "3     368\n",
       "2     318\n",
       "1     226\n",
       "Name: Train Pred, dtype: int64"
      ]
     },
     "execution_count": 43,
     "metadata": {},
     "output_type": "execute_result"
    }
   ],
   "source": [
    "y_train_pred.value_counts()"
   ]
  },
  {
   "cell_type": "code",
   "execution_count": 44,
   "id": "cfec48cc-4dab-4cd0-9227-45798a7eed9b",
   "metadata": {
    "execution": {
     "iopub.execute_input": "2024-02-23T03:02:27.199324Z",
     "iopub.status.busy": "2024-02-23T03:02:27.199214Z",
     "iopub.status.idle": "2024-02-23T03:02:27.245414Z",
     "shell.execute_reply": "2024-02-23T03:02:27.245111Z",
     "shell.execute_reply.started": "2024-02-23T03:02:27.199315Z"
    }
   },
   "outputs": [
    {
     "data": {
      "text/plain": [
       "array([1, 2, 3, 4, 5])"
      ]
     },
     "execution_count": 44,
     "metadata": {},
     "output_type": "execute_result"
    }
   ],
   "source": [
    "encoder.classes_"
   ]
  },
  {
   "cell_type": "code",
   "execution_count": 45,
   "id": "0b0b8c08-fe00-47d1-ad8c-69dddc91d01f",
   "metadata": {
    "execution": {
     "iopub.execute_input": "2024-02-23T03:02:27.246035Z",
     "iopub.status.busy": "2024-02-23T03:02:27.245943Z",
     "iopub.status.idle": "2024-02-23T03:03:38.251983Z",
     "shell.execute_reply": "2024-02-23T03:03:38.251592Z",
     "shell.execute_reply.started": "2024-02-23T03:02:27.246026Z"
    }
   },
   "outputs": [
    {
     "data": {
      "text/plain": [
       "2352    4\n",
       "3526    1\n",
       "1666    0\n",
       "2881    0\n",
       "2860    1\n",
       "       ..\n",
       "3585    4\n",
       "685     4\n",
       "610     4\n",
       "2943    4\n",
       "3793    3\n",
       "Name: Train Pred, Length: 1091, dtype: int64"
      ]
     },
     "execution_count": 45,
     "metadata": {},
     "output_type": "execute_result"
    }
   ],
   "source": [
    "y_pred_test = get_preds(model, X_test_tok)\n",
    "y_pred_test"
   ]
  },
  {
   "cell_type": "code",
   "execution_count": 46,
   "id": "bd9e6d8d-3174-4e9f-b1fb-6a1b1cb5b5da",
   "metadata": {
    "execution": {
     "iopub.execute_input": "2024-02-23T03:03:38.252895Z",
     "iopub.status.busy": "2024-02-23T03:03:38.252620Z",
     "iopub.status.idle": "2024-02-23T03:03:39.479520Z",
     "shell.execute_reply": "2024-02-23T03:03:39.479106Z",
     "shell.execute_reply.started": "2024-02-23T03:03:38.252877Z"
    }
   },
   "outputs": [
    {
     "name": "stdout",
     "output_type": "stream",
     "text": [
      "----------------------------------------------------------------------\n",
      " Classification Metrics: \"training\" data\n",
      "----------------------------------------------------------------------\n",
      "              precision    recall  f1-score   support\n",
      "\n",
      "           0       0.83      0.83      0.83       811\n",
      "           1       0.54      0.45      0.49       271\n",
      "           2       0.60      0.55      0.57       343\n",
      "           3       0.60      0.48      0.54       459\n",
      "           4       0.82      0.91      0.87      1388\n",
      "\n",
      "    accuracy                           0.76      3272\n",
      "   macro avg       0.68      0.65      0.66      3272\n",
      "weighted avg       0.75      0.76      0.75      3272\n",
      "\n"
     ]
    },
    {
     "data": {
      "image/png": "[encoded data removed]",
      "text/plain": [
       "<Figure size 800x400 with 2 Axes>"
      ]
     },
     "metadata": {},
     "output_type": "display_data"
    },
    {
     "name": "stdout",
     "output_type": "stream",
     "text": [
      "----------------------------------------------------------------------\n",
      " Classification Metrics: \"test\" data\n",
      "----------------------------------------------------------------------\n",
      "              precision    recall  f1-score   support\n",
      "\n",
      "           0       0.82      0.80      0.81       259\n",
      "           1       0.51      0.41      0.45        96\n",
      "           2       0.54      0.61      0.58       110\n",
      "           3       0.53      0.47      0.50       146\n",
      "           4       0.84      0.90      0.87       480\n",
      "\n",
      "    accuracy                           0.74      1091\n",
      "   macro avg       0.65      0.64      0.64      1091\n",
      "weighted avg       0.74      0.74      0.74      1091\n",
      "\n"
     ]
    },
    {
     "data": {
      "image/png": "[encoded data removed]",
      "text/plain": [
       "<Figure size 800x400 with 2 Axes>"
      ]
     },
     "metadata": {},
     "output_type": "display_data"
    }
   ],
   "source": [
    "import dojo_ds as ds\n",
    "ds.evaluate.classification_metrics(y_train_enc, y_train_pred,label='\"training\" data')# target_names=encoder.classes_)\n",
    "ds.evaluate.classification_metrics(y_test_enc, y_pred_test, cmap=\"Reds\",label='\"test\" data');# target_names=encoder.classes_)"
   ]
  },
  {
   "cell_type": "markdown",
   "id": "6b877ccc-1855-4fee-986b-2d3eadbef961",
   "metadata": {},
   "source": [
    "### Binary Sentiment"
   ]
  },
  {
   "cell_type": "code",
   "execution_count": 47,
   "id": "1137ffb6-7e5f-445f-88fd-afe0fdf237a1",
   "metadata": {
    "execution": {
     "iopub.execute_input": "2024-02-23T03:03:39.480077Z",
     "iopub.status.busy": "2024-02-23T03:03:39.479975Z",
     "iopub.status.idle": "2024-02-23T03:03:40.082181Z",
     "shell.execute_reply": "2024-02-23T03:03:40.081762Z",
     "shell.execute_reply.started": "2024-02-23T03:03:39.480067Z"
    }
   },
   "outputs": [],
   "source": [
    "model_name_binary = \"AdamCodd/distilbert-base-uncased-finetuned-sentiment-amazon\"\n",
    "\n",
    "from transformers import AutoTokenizer, AutoModelForSequenceClassification\n",
    "\n",
    "tokenizer = AutoTokenizer.from_pretrained(model_name_binary)\n",
    "\n",
    "model = AutoModelForSequenceClassification.from_pretrained(model_name_binary)\n"
   ]
  },
  {
   "cell_type": "code",
   "execution_count": 48,
   "id": "47995f06-e434-49d2-b9c6-91fdc3d3ee9b",
   "metadata": {
    "execution": {
     "iopub.execute_input": "2024-02-23T03:03:40.082863Z",
     "iopub.status.busy": "2024-02-23T03:03:40.082765Z",
     "iopub.status.idle": "2024-02-23T03:03:40.140731Z",
     "shell.execute_reply": "2024-02-23T03:03:40.140387Z",
     "shell.execute_reply.started": "2024-02-23T03:03:40.082854Z"
    }
   },
   "outputs": [],
   "source": [
    "X = df.dropna(subset=['target-rating'])['review-text-full']\n",
    "y =  df.dropna(subset=['target-rating'])['target-rating']"
   ]
  },
  {
   "cell_type": "code",
   "execution_count": 49,
   "id": "7c68a54a-7428-4034-afde-b64c6701c206",
   "metadata": {
    "execution": {
     "iopub.execute_input": "2024-02-23T03:03:40.141362Z",
     "iopub.status.busy": "2024-02-23T03:03:40.141247Z",
     "iopub.status.idle": "2024-02-23T03:03:40.201494Z",
     "shell.execute_reply": "2024-02-23T03:03:40.201163Z",
     "shell.execute_reply.started": "2024-02-23T03:03:40.141353Z"
    }
   },
   "outputs": [],
   "source": [
    "X_train, X_test, y_train, y_test =  train_test_split(X,y )\n",
    "encoder =  LabelEncoder()\n",
    "y_train_enc= pd.Series(encoder.fit_transform(y_train), index=y_train.index, name=y_train.name)\n",
    "y_test_enc = pd.Series(encoder.transform(y_test), index=y_test.index, name=y_test.name)"
   ]
  },
  {
   "cell_type": "code",
   "execution_count": 50,
   "id": "8f1b72d8-40d7-44af-9404-c6e26c1fd866",
   "metadata": {
    "execution": {
     "iopub.execute_input": "2024-02-23T03:03:40.202186Z",
     "iopub.status.busy": "2024-02-23T03:03:40.202083Z",
     "iopub.status.idle": "2024-02-23T03:03:40.258869Z",
     "shell.execute_reply": "2024-02-23T03:03:40.258513Z",
     "shell.execute_reply.started": "2024-02-23T03:03:40.202177Z"
    }
   },
   "outputs": [
    {
     "data": {
      "text/plain": [
       "0    1408\n",
       "1    1070\n",
       "Name: target-rating, dtype: int64"
      ]
     },
     "execution_count": 50,
     "metadata": {},
     "output_type": "execute_result"
    }
   ],
   "source": [
    "y_train_enc.value_counts()"
   ]
  },
  {
   "cell_type": "code",
   "execution_count": 51,
   "id": "59c96f00-a849-4d57-9924-13750b5eb7e1",
   "metadata": {
    "execution": {
     "iopub.execute_input": "2024-02-23T03:03:40.259610Z",
     "iopub.status.busy": "2024-02-23T03:03:40.259469Z",
     "iopub.status.idle": "2024-02-23T03:03:40.315647Z",
     "shell.execute_reply": "2024-02-23T03:03:40.315337Z",
     "shell.execute_reply.started": "2024-02-23T03:03:40.259600Z"
    }
   },
   "outputs": [
    {
     "data": {
      "text/plain": [
       "{0: 'High', 1: 'Low'}"
      ]
     },
     "execution_count": 51,
     "metadata": {},
     "output_type": "execute_result"
    }
   ],
   "source": [
    "label_lookup = dict(zip(range(len(encoder.classes_)), encoder.classes_))\n",
    "label_lookup"
   ]
  },
  {
   "cell_type": "code",
   "execution_count": 52,
   "id": "e8207220-bced-4111-967e-945ef1b4f692",
   "metadata": {
    "execution": {
     "iopub.execute_input": "2024-02-23T03:03:40.316214Z",
     "iopub.status.busy": "2024-02-23T03:03:40.316121Z",
     "iopub.status.idle": "2024-02-23T03:03:40.991051Z",
     "shell.execute_reply": "2024-02-23T03:03:40.990719Z",
     "shell.execute_reply.started": "2024-02-23T03:03:40.316205Z"
    },
    "scrolled": true
   },
   "outputs": [
    {
     "data": {
      "text/plain": [
       "4001    [input_ids, attention_mask]\n",
       "2345    [input_ids, attention_mask]\n",
       "675     [input_ids, attention_mask]\n",
       "2298    [input_ids, attention_mask]\n",
       "607     [input_ids, attention_mask]\n",
       "                   ...             \n",
       "899     [input_ids, attention_mask]\n",
       "3855    [input_ids, attention_mask]\n",
       "2212    [input_ids, attention_mask]\n",
       "2758    [input_ids, attention_mask]\n",
       "4182    [input_ids, attention_mask]\n",
       "Name: review-text-full, Length: 2478, dtype: object"
      ]
     },
     "execution_count": 52,
     "metadata": {},
     "output_type": "execute_result"
    }
   ],
   "source": [
    "X_train_tok = X_train.map(lambda text: tokenizer(text, padding=True, truncation=True, return_tensors=\"pt\"))\n",
    "X_test_tok = X_test.map(lambda text: tokenizer(text, padding=True, truncation=True, return_tensors=\"pt\"))\n",
    "X_train_tok"
   ]
  },
  {
   "cell_type": "code",
   "execution_count": 53,
   "id": "3d19f790-82da-4e24-aa58-e3d299408137",
   "metadata": {
    "execution": {
     "iopub.execute_input": "2024-02-23T03:03:40.991813Z",
     "iopub.status.busy": "2024-02-23T03:03:40.991706Z",
     "iopub.status.idle": "2024-02-23T03:05:11.361187Z",
     "shell.execute_reply": "2024-02-23T03:05:11.360689Z",
     "shell.execute_reply.started": "2024-02-23T03:03:40.991804Z"
    }
   },
   "outputs": [],
   "source": [
    "train_preds  = get_preds(model, X_train_tok)"
   ]
  },
  {
   "cell_type": "code",
   "execution_count": 54,
   "id": "919f76a3-dfcf-432d-ab5f-e88630d848f3",
   "metadata": {
    "execution": {
     "iopub.execute_input": "2024-02-23T03:05:11.362688Z",
     "iopub.status.busy": "2024-02-23T03:05:11.362593Z",
     "iopub.status.idle": "2024-02-23T03:05:11.423567Z",
     "shell.execute_reply": "2024-02-23T03:05:11.423114Z",
     "shell.execute_reply.started": "2024-02-23T03:05:11.362679Z"
    }
   },
   "outputs": [
    {
     "data": {
      "text/plain": [
       "pandas.core.series.Series"
      ]
     },
     "execution_count": 54,
     "metadata": {},
     "output_type": "execute_result"
    }
   ],
   "source": [
    "type(train_preds)"
   ]
  },
  {
   "cell_type": "code",
   "execution_count": 55,
   "id": "8f10da29-ce34-4908-a931-fd567e41b32c",
   "metadata": {
    "execution": {
     "iopub.execute_input": "2024-02-23T03:05:11.424294Z",
     "iopub.status.busy": "2024-02-23T03:05:11.424187Z",
     "iopub.status.idle": "2024-02-23T03:05:11.475608Z",
     "shell.execute_reply": "2024-02-23T03:05:11.475320Z",
     "shell.execute_reply.started": "2024-02-23T03:05:11.424284Z"
    }
   },
   "outputs": [
    {
     "data": {
      "text/plain": [
       "0"
      ]
     },
     "execution_count": 55,
     "metadata": {},
     "output_type": "execute_result"
    }
   ],
   "source": [
    "train_preds.iloc[0]"
   ]
  },
  {
   "cell_type": "code",
   "execution_count": 56,
   "id": "dbdfdbfd-7901-454a-83f5-85bbf10051d6",
   "metadata": {
    "execution": {
     "iopub.execute_input": "2024-02-23T03:05:11.476231Z",
     "iopub.status.busy": "2024-02-23T03:05:11.476138Z",
     "iopub.status.idle": "2024-02-23T03:05:11.527646Z",
     "shell.execute_reply": "2024-02-23T03:05:11.527362Z",
     "shell.execute_reply.started": "2024-02-23T03:05:11.476223Z"
    }
   },
   "outputs": [
    {
     "data": {
      "text/plain": [
       "array(['High', 'Low'], dtype=object)"
      ]
     },
     "execution_count": 56,
     "metadata": {},
     "output_type": "execute_result"
    }
   ],
   "source": [
    "encoder.classes_"
   ]
  },
  {
   "cell_type": "code",
   "execution_count": 57,
   "id": "bae748b7-ba3b-4420-9794-57b69c0fd571",
   "metadata": {
    "execution": {
     "iopub.execute_input": "2024-02-23T03:05:11.528306Z",
     "iopub.status.busy": "2024-02-23T03:05:11.528192Z",
     "iopub.status.idle": "2024-02-23T03:05:11.578053Z",
     "shell.execute_reply": "2024-02-23T03:05:11.577726Z",
     "shell.execute_reply.started": "2024-02-23T03:05:11.528297Z"
    }
   },
   "outputs": [
    {
     "data": {
      "text/plain": [
       "0    0.5682\n",
       "1    0.4318\n",
       "Name: target-rating, dtype: float64"
      ]
     },
     "execution_count": 57,
     "metadata": {},
     "output_type": "execute_result"
    }
   ],
   "source": [
    "y_train_enc.value_counts(1)"
   ]
  },
  {
   "cell_type": "code",
   "execution_count": 58,
   "id": "cce4abc1-5a90-4590-97b5-b6cc485d5844",
   "metadata": {
    "execution": {
     "iopub.execute_input": "2024-02-23T03:05:11.578633Z",
     "iopub.status.busy": "2024-02-23T03:05:11.578527Z",
     "iopub.status.idle": "2024-02-23T03:05:11.630494Z",
     "shell.execute_reply": "2024-02-23T03:05:11.630199Z",
     "shell.execute_reply.started": "2024-02-23T03:05:11.578623Z"
    }
   },
   "outputs": [
    {
     "data": {
      "text/plain": [
       "1    0.562954\n",
       "0    0.437046\n",
       "Name: Train Pred, dtype: float64"
      ]
     },
     "execution_count": 58,
     "metadata": {},
     "output_type": "execute_result"
    }
   ],
   "source": [
    "train_preds.value_counts(1)"
   ]
  },
  {
   "cell_type": "code",
   "execution_count": 59,
   "id": "382d41e1-5797-4e69-8dc7-f7a40a206703",
   "metadata": {
    "execution": {
     "iopub.execute_input": "2024-02-23T03:05:11.631160Z",
     "iopub.status.busy": "2024-02-23T03:05:11.631009Z",
     "iopub.status.idle": "2024-02-23T03:05:11.820018Z",
     "shell.execute_reply": "2024-02-23T03:05:11.819624Z",
     "shell.execute_reply.started": "2024-02-23T03:05:11.631151Z"
    }
   },
   "outputs": [
    {
     "name": "stdout",
     "output_type": "stream",
     "text": [
      "----------------------------------------------------------------------\n",
      " Classification Metrics: \"training\" data\n",
      "----------------------------------------------------------------------\n",
      "              precision    recall  f1-score   support\n",
      "\n",
      "           0       0.03      0.03      0.03      1408\n",
      "           1       0.02      0.02      0.02      1070\n",
      "\n",
      "    accuracy                           0.02      2478\n",
      "   macro avg       0.03      0.02      0.02      2478\n",
      "weighted avg       0.03      0.02      0.03      2478\n",
      "\n"
     ]
    },
    {
     "data": {
      "image/png": "[encoded data removed]",
      "text/plain": [
       "<Figure size 800x400 with 2 Axes>"
      ]
     },
     "metadata": {},
     "output_type": "display_data"
    },
    {
     "data": {
      "image/png": "[encoded data removed]",
      "text/plain": [
       "<Figure size 800x400 with 2 Axes>"
      ]
     },
     "execution_count": 59,
     "metadata": {},
     "output_type": "execute_result"
    }
   ],
   "source": [
    "ds.evaluate.classification_metrics(y_train_enc, train_preds,label='\"training\" data')# target_names=encoder.classes_)\n"
   ]
  },
  {
   "cell_type": "markdown",
   "id": "6f0c20cb-967f-40c8-965f-2c6fb4c2f83c",
   "metadata": {},
   "source": [
    "### Trying Pipeline"
   ]
  },
  {
   "cell_type": "code",
   "execution_count": 60,
   "id": "8f5b2a50-e42c-4341-845a-2854261047a9",
   "metadata": {
    "execution": {
     "iopub.execute_input": "2024-02-23T03:05:11.820834Z",
     "iopub.status.busy": "2024-02-23T03:05:11.820569Z",
     "iopub.status.idle": "2024-02-23T03:05:11.876284Z",
     "shell.execute_reply": "2024-02-23T03:05:11.875834Z",
     "shell.execute_reply.started": "2024-02-23T03:05:11.820824Z"
    }
   },
   "outputs": [],
   "source": [
    "# !pip install -U dojo_ds\n"
   ]
  },
  {
   "cell_type": "code",
   "execution_count": 79,
   "id": "b3f0c6cf-5aa0-4010-957a-5fb93547bf48",
   "metadata": {
    "execution": {
     "iopub.execute_input": "2024-02-22T23:56:47.251579Z",
     "iopub.status.busy": "2024-02-22T23:56:47.249572Z",
     "iopub.status.idle": "2024-02-22T23:56:47.680832Z",
     "shell.execute_reply": "2024-02-22T23:56:47.680400Z",
     "shell.execute_reply.started": "2024-02-22T23:56:47.251358Z"
    }
   },
   "outputs": [],
   "source": [
    "# %%time\n",
    "# from transformers import TextClassificationPipeline\n",
    "\n",
    "# pipe = TextClassificationPipeline(model=model, tokenizer=tokenizer, truncate=True)#,return_all_scores=True )\n",
    "# preds_pipe = pipe(X_train.to_list())"
   ]
  },
  {
   "cell_type": "code",
   "execution_count": null,
   "id": "76a92667-c3f6-4ff0-aed6-0a0956d7bd9b",
   "metadata": {},
   "outputs": [],
   "source": []
  },
  {
   "cell_type": "code",
   "execution_count": null,
   "id": "2723f5cd-c678-4d24-b246-ea3268d661e4",
   "metadata": {},
   "outputs": [],
   "source": []
  }
 ],
 "metadata": {
  "kernelspec": {
   "display_name": "Python (dojo-env)",
   "language": "python",
   "name": "dojo-env"
  },
  "language_info": {
   "codemirror_mode": {
    "name": "ipython",
    "version": 3
   },
   "file_extension": ".py",
   "mimetype": "text/x-python",
   "name": "python",
   "nbconvert_exporter": "python",
   "pygments_lexer": "ipython3",
   "version": "3.10.10"
  }
 },
 "nbformat": 4,
 "nbformat_minor": 5
}
