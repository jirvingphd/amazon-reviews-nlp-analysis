{
 "cells": [
  {
   "cell_type": "markdown",
   "id": "a4b91453-5e1f-4be1-9276-84fd0956ce53",
   "metadata": {},
   "source": [
    "# Prepare LLM Related Streamlit Elements"
   ]
  },
  {
   "cell_type": "markdown",
   "id": "6b379644-709f-492c-87a4-39a70b55eb11",
   "metadata": {},
   "source": [
    "### Saving Product Metadata"
   ]
  },
  {
   "cell_type": "code",
   "execution_count": 1,
   "id": "016d6676-3ff2-450f-9fef-4e75daf5a8f3",
   "metadata": {
    "execution": {
     "iopub.execute_input": "2024-02-22T21:53:21.491066Z",
     "iopub.status.busy": "2024-02-22T21:53:21.490809Z",
     "iopub.status.idle": "2024-02-22T21:53:21.516355Z",
     "shell.execute_reply": "2024-02-22T21:53:21.515292Z",
     "shell.execute_reply.started": "2024-02-22T21:53:21.491038Z"
    }
   },
   "outputs": [],
   "source": [
    "%load_ext autoreload \n",
    "%autoreload 2"
   ]
  },
  {
   "cell_type": "code",
   "execution_count": 2,
   "id": "c9373608-560e-4977-8f59-53ba5e2db9c1",
   "metadata": {
    "execution": {
     "iopub.execute_input": "2024-02-22T21:53:21.518607Z",
     "iopub.status.busy": "2024-02-22T21:53:21.518099Z",
     "iopub.status.idle": "2024-02-22T21:53:22.167905Z",
     "shell.execute_reply": "2024-02-22T21:53:22.167601Z",
     "shell.execute_reply.started": "2024-02-22T21:53:21.518592Z"
    }
   },
   "outputs": [
    {
     "data": {
      "text/html": [
       "<div>\n",
       "<style scoped>\n",
       "    .dataframe tbody tr th:only-of-type {\n",
       "        vertical-align: middle;\n",
       "    }\n",
       "\n",
       "    .dataframe tbody tr th {\n",
       "        vertical-align: top;\n",
       "    }\n",
       "\n",
       "    .dataframe thead th {\n",
       "        text-align: right;\n",
       "    }\n",
       "</style>\n",
       "<table border=\"1\" class=\"dataframe\">\n",
       "  <thead>\n",
       "    <tr style=\"text-align: right;\">\n",
       "      <th></th>\n",
       "      <th>asin</th>\n",
       "      <th>reviewerID</th>\n",
       "      <th>reviewText</th>\n",
       "      <th>summary</th>\n",
       "      <th>overall</th>\n",
       "      <th>year</th>\n",
       "      <th>title</th>\n",
       "      <th>brand</th>\n",
       "      <th>category</th>\n",
       "      <th>review-text-full</th>\n",
       "      <th>review-text-full_raw</th>\n",
       "      <th>tokens-dirty</th>\n",
       "      <th>tokens</th>\n",
       "      <th>lemmas</th>\n",
       "      <th>tokens-dirty-joined</th>\n",
       "      <th>tokens-joined</th>\n",
       "      <th>lemmas-joined</th>\n",
       "      <th>target-rating</th>\n",
       "    </tr>\n",
       "  </thead>\n",
       "  <tbody>\n",
       "    <tr>\n",
       "      <th>0</th>\n",
       "      <td>B007JINB0W</td>\n",
       "      <td>A3Y51NV9HU5T2</td>\n",
       "      <td>Great pasta taste and feel, but the spell in t...</td>\n",
       "      <td>Four Stars</td>\n",
       "      <td>4</td>\n",
       "      <td>2018</td>\n",
       "      <td>Miracle Noodle Zero Carb, Gluten Free Shiratak...</td>\n",
       "      <td>Miracle Noodle</td>\n",
       "      <td>Grocery &amp; Gourmet Food; Pasta &amp; Noodles; Noodl...</td>\n",
       "      <td>Four Stars: Great pasta taste and feel, but th...</td>\n",
       "      <td>Four Stars: Great pasta taste and feel, but th...</td>\n",
       "      <td>[four, stars, great, pasta, taste, and, feel, ...</td>\n",
       "      <td>[stars, great, pasta, taste, feel, spell, pack...</td>\n",
       "      <td>[star, great, pasta, taste, feel, spell, packa...</td>\n",
       "      <td>four stars great pasta taste and feel but the ...</td>\n",
       "      <td>stars great pasta taste feel spell packaged sk...</td>\n",
       "      <td>star great pasta taste feel spell package skrong</td>\n",
       "      <td>None</td>\n",
       "    </tr>\n",
       "    <tr>\n",
       "      <th>1</th>\n",
       "      <td>B007JINB0W</td>\n",
       "      <td>A3D7EFSRC6Y9MP</td>\n",
       "      <td>The texture just made it a little strange to e...</td>\n",
       "      <td>Okay but don't like texture</td>\n",
       "      <td>3</td>\n",
       "      <td>2014</td>\n",
       "      <td>Miracle Noodle Zero Carb, Gluten Free Shiratak...</td>\n",
       "      <td>Miracle Noodle</td>\n",
       "      <td>Grocery &amp; Gourmet Food; Pasta &amp; Noodles; Noodl...</td>\n",
       "      <td>Okay but don't like texture: The texture just ...</td>\n",
       "      <td>Okay but don't like texture: The texture just ...</td>\n",
       "      <td>[okay, but, do, n't, like, texture, the, textu...</td>\n",
       "      <td>[okay, like, texture, texture, little, strange...</td>\n",
       "      <td>[okay, like, texture, texture, little, strange...</td>\n",
       "      <td>okay but do n't like texture the texture just ...</td>\n",
       "      <td>okay like texture texture little strange eat f...</td>\n",
       "      <td>okay like texture texture little strange eat f...</td>\n",
       "      <td>None</td>\n",
       "    </tr>\n",
       "    <tr>\n",
       "      <th>2</th>\n",
       "      <td>B007JINB0W</td>\n",
       "      <td>A4AM5KBP3I2R</td>\n",
       "      <td>The herb flavor makes the odd texture of shira...</td>\n",
       "      <td>Go for the green noodles</td>\n",
       "      <td>5</td>\n",
       "      <td>2018</td>\n",
       "      <td>Miracle Noodle Zero Carb, Gluten Free Shiratak...</td>\n",
       "      <td>Miracle Noodle</td>\n",
       "      <td>Grocery &amp; Gourmet Food; Pasta &amp; Noodles; Noodl...</td>\n",
       "      <td>Go for the green noodles: The herb flavor make...</td>\n",
       "      <td>Go for the green noodles: The herb flavor make...</td>\n",
       "      <td>[go, for, the, green, noodles, the, herb, flav...</td>\n",
       "      <td>[green, noodles, herb, flavor, makes, odd, tex...</td>\n",
       "      <td>[green, noodle, herb, flavor, make, odd, textu...</td>\n",
       "      <td>go for the green noodles the herb flavor makes...</td>\n",
       "      <td>green noodles herb flavor makes odd texture sh...</td>\n",
       "      <td>green noodle herb flavor make odd texture shir...</td>\n",
       "      <td>High</td>\n",
       "    </tr>\n",
       "    <tr>\n",
       "      <th>3</th>\n",
       "      <td>B007JINB0W</td>\n",
       "      <td>A3GHK4IL78DB7Y</td>\n",
       "      <td>I didn't have a problem at all with a half fil...</td>\n",
       "      <td>Its an awesome substitute.</td>\n",
       "      <td>5</td>\n",
       "      <td>2018</td>\n",
       "      <td>Miracle Noodle Zero Carb, Gluten Free Shiratak...</td>\n",
       "      <td>Miracle Noodle</td>\n",
       "      <td>Grocery &amp; Gourmet Food; Pasta &amp; Noodles; Noodl...</td>\n",
       "      <td>Its an awesome substitute.: I didn't have a pr...</td>\n",
       "      <td>Its an awesome substitute.: I didn't have a pr...</td>\n",
       "      <td>[its, an, awesome, substitute, i, did, n't, ha...</td>\n",
       "      <td>[awesome, substitute, problem, half, filled, b...</td>\n",
       "      <td>[awesome, substitute, problem, half, fill, bag...</td>\n",
       "      <td>its an awesome substitute i did n't have a pro...</td>\n",
       "      <td>awesome substitute problem half filled bag use...</td>\n",
       "      <td>awesome substitute problem half fill bag user ...</td>\n",
       "      <td>High</td>\n",
       "    </tr>\n",
       "    <tr>\n",
       "      <th>4</th>\n",
       "      <td>B007JINB0W</td>\n",
       "      <td>AH3B94LQOPPY6</td>\n",
       "      <td>They taste like whatever you cook them with.</td>\n",
       "      <td>Five Stars</td>\n",
       "      <td>5</td>\n",
       "      <td>2016</td>\n",
       "      <td>Miracle Noodle Zero Carb, Gluten Free Shiratak...</td>\n",
       "      <td>Miracle Noodle</td>\n",
       "      <td>Grocery &amp; Gourmet Food; Pasta &amp; Noodles; Noodl...</td>\n",
       "      <td>Five Stars: They taste like whatever you cook ...</td>\n",
       "      <td>Five Stars: They taste like whatever you cook ...</td>\n",
       "      <td>[five, stars, they, taste, like, whatever, you...</td>\n",
       "      <td>[stars, taste, like, cook]</td>\n",
       "      <td>[star, taste, like, cook]</td>\n",
       "      <td>five stars they taste like whatever you cook t...</td>\n",
       "      <td>stars taste like cook</td>\n",
       "      <td>star taste like cook</td>\n",
       "      <td>High</td>\n",
       "    </tr>\n",
       "    <tr>\n",
       "      <th>...</th>\n",
       "      <td>...</td>\n",
       "      <td>...</td>\n",
       "      <td>...</td>\n",
       "      <td>...</td>\n",
       "      <td>...</td>\n",
       "      <td>...</td>\n",
       "      <td>...</td>\n",
       "      <td>...</td>\n",
       "      <td>...</td>\n",
       "      <td>...</td>\n",
       "      <td>...</td>\n",
       "      <td>...</td>\n",
       "      <td>...</td>\n",
       "      <td>...</td>\n",
       "      <td>...</td>\n",
       "      <td>...</td>\n",
       "      <td>...</td>\n",
       "      <td>...</td>\n",
       "    </tr>\n",
       "    <tr>\n",
       "      <th>4358</th>\n",
       "      <td>B007JINB0W</td>\n",
       "      <td>A73IG1ED6S0JR</td>\n",
       "      <td>Product arrived with two of the bags punctured...</td>\n",
       "      <td>would not recomend</td>\n",
       "      <td>1</td>\n",
       "      <td>2016</td>\n",
       "      <td>Miracle Noodle Zero Carb, Gluten Free Shiratak...</td>\n",
       "      <td>Miracle Noodle</td>\n",
       "      <td>Grocery &amp; Gourmet Food; Pasta &amp; Noodles; Noodl...</td>\n",
       "      <td>would not recomend: Product arrived with two o...</td>\n",
       "      <td>would not recomend: Product arrived with two o...</td>\n",
       "      <td>[would, not, recomend, product, arrived, with,...</td>\n",
       "      <td>[recomend, product, arrived, bags, punctured, ...</td>\n",
       "      <td>[recomend, product, arrive, bag, puncture, sme...</td>\n",
       "      <td>would not recomend product arrived with two of...</td>\n",
       "      <td>recomend product arrived bags punctured smells...</td>\n",
       "      <td>recomend product arrive bag puncture smell bad</td>\n",
       "      <td>Low</td>\n",
       "    </tr>\n",
       "    <tr>\n",
       "      <th>4359</th>\n",
       "      <td>B007JINB0W</td>\n",
       "      <td>A1XZ2H0MYG54M0</td>\n",
       "      <td>Ok.</td>\n",
       "      <td>Five Stars</td>\n",
       "      <td>5</td>\n",
       "      <td>2016</td>\n",
       "      <td>Miracle Noodle Zero Carb, Gluten Free Shiratak...</td>\n",
       "      <td>Miracle Noodle</td>\n",
       "      <td>Grocery &amp; Gourmet Food; Pasta &amp; Noodles; Noodl...</td>\n",
       "      <td>Five Stars: Ok.</td>\n",
       "      <td>Five Stars: Ok.</td>\n",
       "      <td>[five, stars, ok]</td>\n",
       "      <td>[stars, ok]</td>\n",
       "      <td>[star, ok]</td>\n",
       "      <td>five stars ok</td>\n",
       "      <td>stars ok</td>\n",
       "      <td>star ok</td>\n",
       "      <td>High</td>\n",
       "    </tr>\n",
       "    <tr>\n",
       "      <th>4360</th>\n",
       "      <td>B007JINB0W</td>\n",
       "      <td>A3I2YF0MXB7P0B</td>\n",
       "      <td>I like these noodles but the spinach ones just...</td>\n",
       "      <td>Not awful, but now I know why these were on sale.</td>\n",
       "      <td>2</td>\n",
       "      <td>2013</td>\n",
       "      <td>Miracle Noodle Zero Carb, Gluten Free Shiratak...</td>\n",
       "      <td>Miracle Noodle</td>\n",
       "      <td>Grocery &amp; Gourmet Food; Pasta &amp; Noodles; Noodl...</td>\n",
       "      <td>Not awful, but now I know why these were on sa...</td>\n",
       "      <td>Not awful, but now I know why these were on sa...</td>\n",
       "      <td>[not, awful, but, now, i, know, why, these, we...</td>\n",
       "      <td>[awful, know, sale, like, noodles, spinach, on...</td>\n",
       "      <td>[awful, know, sale, like, noodle, spinach, one...</td>\n",
       "      <td>not awful but now i know why these were on sal...</td>\n",
       "      <td>awful know sale like noodles spinach ones tast...</td>\n",
       "      <td>awful know sale like noodle spinach one taste ...</td>\n",
       "      <td>Low</td>\n",
       "    </tr>\n",
       "    <tr>\n",
       "      <th>4361</th>\n",
       "      <td>B007JINB0W</td>\n",
       "      <td>A2UELLFLITPMT1</td>\n",
       "      <td>Truly horrific. Like eating dead worms.</td>\n",
       "      <td>Don't even try it.</td>\n",
       "      <td>1</td>\n",
       "      <td>2017</td>\n",
       "      <td>Miracle Noodle Zero Carb, Gluten Free Shiratak...</td>\n",
       "      <td>Miracle Noodle</td>\n",
       "      <td>Grocery &amp; Gourmet Food; Pasta &amp; Noodles; Noodl...</td>\n",
       "      <td>Don't even try it.: Truly horrific. Like eatin...</td>\n",
       "      <td>Don't even try it.: Truly horrific. Like eatin...</td>\n",
       "      <td>[do, n't, even, try, it, truly, horrific, like...</td>\n",
       "      <td>[try, truly, horrific, like, eating, dead, worms]</td>\n",
       "      <td>[try, truly, horrific, like, eat, dead, worm]</td>\n",
       "      <td>do n't even try it truly horrific like eating ...</td>\n",
       "      <td>try truly horrific like eating dead worms</td>\n",
       "      <td>try truly horrific like eat dead worm</td>\n",
       "      <td>Low</td>\n",
       "    </tr>\n",
       "    <tr>\n",
       "      <th>4362</th>\n",
       "      <td>B007JINB0W</td>\n",
       "      <td>A178M2AHNWQZB0</td>\n",
       "      <td>We love the rice noodles, and have problems fi...</td>\n",
       "      <td>As good as all the other Miracle noodle products</td>\n",
       "      <td>5</td>\n",
       "      <td>2017</td>\n",
       "      <td>Miracle Noodle Zero Carb, Gluten Free Shiratak...</td>\n",
       "      <td>Miracle Noodle</td>\n",
       "      <td>Grocery &amp; Gourmet Food; Pasta &amp; Noodles; Noodl...</td>\n",
       "      <td>As good as all the other Miracle noodle produc...</td>\n",
       "      <td>As good as all the other Miracle noodle produc...</td>\n",
       "      <td>[as, good, as, all, the, other, miracle, noodl...</td>\n",
       "      <td>[good, miracle, noodle, products, love, rice, ...</td>\n",
       "      <td>[good, miracle, noodle, product, love, rice, n...</td>\n",
       "      <td>as good as all the other miracle noodle produc...</td>\n",
       "      <td>good miracle noodle products love rice noodles...</td>\n",
       "      <td>good miracle noodle product love rice noodle p...</td>\n",
       "      <td>High</td>\n",
       "    </tr>\n",
       "  </tbody>\n",
       "</table>\n",
       "<p>4363 rows × 18 columns</p>\n",
       "</div>"
      ],
      "text/plain": [
       "            asin      reviewerID  \\\n",
       "0     B007JINB0W   A3Y51NV9HU5T2   \n",
       "1     B007JINB0W  A3D7EFSRC6Y9MP   \n",
       "2     B007JINB0W    A4AM5KBP3I2R   \n",
       "3     B007JINB0W  A3GHK4IL78DB7Y   \n",
       "4     B007JINB0W   AH3B94LQOPPY6   \n",
       "...          ...             ...   \n",
       "4358  B007JINB0W   A73IG1ED6S0JR   \n",
       "4359  B007JINB0W  A1XZ2H0MYG54M0   \n",
       "4360  B007JINB0W  A3I2YF0MXB7P0B   \n",
       "4361  B007JINB0W  A2UELLFLITPMT1   \n",
       "4362  B007JINB0W  A178M2AHNWQZB0   \n",
       "\n",
       "                                             reviewText  \\\n",
       "0     Great pasta taste and feel, but the spell in t...   \n",
       "1     The texture just made it a little strange to e...   \n",
       "2     The herb flavor makes the odd texture of shira...   \n",
       "3     I didn't have a problem at all with a half fil...   \n",
       "4         They taste like whatever you cook them with.    \n",
       "...                                                 ...   \n",
       "4358  Product arrived with two of the bags punctured...   \n",
       "4359                                                Ok.   \n",
       "4360  I like these noodles but the spinach ones just...   \n",
       "4361            Truly horrific. Like eating dead worms.   \n",
       "4362  We love the rice noodles, and have problems fi...   \n",
       "\n",
       "                                                summary  overall  year  \\\n",
       "0                                            Four Stars        4  2018   \n",
       "1                           Okay but don't like texture        3  2014   \n",
       "2                              Go for the green noodles        5  2018   \n",
       "3                            Its an awesome substitute.        5  2018   \n",
       "4                                            Five Stars        5  2016   \n",
       "...                                                 ...      ...   ...   \n",
       "4358                                 would not recomend        1  2016   \n",
       "4359                                         Five Stars        5  2016   \n",
       "4360  Not awful, but now I know why these were on sale.        2  2013   \n",
       "4361                                 Don't even try it.        1  2017   \n",
       "4362   As good as all the other Miracle noodle products        5  2017   \n",
       "\n",
       "                                                  title           brand  \\\n",
       "0     Miracle Noodle Zero Carb, Gluten Free Shiratak...  Miracle Noodle   \n",
       "1     Miracle Noodle Zero Carb, Gluten Free Shiratak...  Miracle Noodle   \n",
       "2     Miracle Noodle Zero Carb, Gluten Free Shiratak...  Miracle Noodle   \n",
       "3     Miracle Noodle Zero Carb, Gluten Free Shiratak...  Miracle Noodle   \n",
       "4     Miracle Noodle Zero Carb, Gluten Free Shiratak...  Miracle Noodle   \n",
       "...                                                 ...             ...   \n",
       "4358  Miracle Noodle Zero Carb, Gluten Free Shiratak...  Miracle Noodle   \n",
       "4359  Miracle Noodle Zero Carb, Gluten Free Shiratak...  Miracle Noodle   \n",
       "4360  Miracle Noodle Zero Carb, Gluten Free Shiratak...  Miracle Noodle   \n",
       "4361  Miracle Noodle Zero Carb, Gluten Free Shiratak...  Miracle Noodle   \n",
       "4362  Miracle Noodle Zero Carb, Gluten Free Shiratak...  Miracle Noodle   \n",
       "\n",
       "                                               category  \\\n",
       "0     Grocery & Gourmet Food; Pasta & Noodles; Noodl...   \n",
       "1     Grocery & Gourmet Food; Pasta & Noodles; Noodl...   \n",
       "2     Grocery & Gourmet Food; Pasta & Noodles; Noodl...   \n",
       "3     Grocery & Gourmet Food; Pasta & Noodles; Noodl...   \n",
       "4     Grocery & Gourmet Food; Pasta & Noodles; Noodl...   \n",
       "...                                                 ...   \n",
       "4358  Grocery & Gourmet Food; Pasta & Noodles; Noodl...   \n",
       "4359  Grocery & Gourmet Food; Pasta & Noodles; Noodl...   \n",
       "4360  Grocery & Gourmet Food; Pasta & Noodles; Noodl...   \n",
       "4361  Grocery & Gourmet Food; Pasta & Noodles; Noodl...   \n",
       "4362  Grocery & Gourmet Food; Pasta & Noodles; Noodl...   \n",
       "\n",
       "                                       review-text-full  \\\n",
       "0     Four Stars: Great pasta taste and feel, but th...   \n",
       "1     Okay but don't like texture: The texture just ...   \n",
       "2     Go for the green noodles: The herb flavor make...   \n",
       "3     Its an awesome substitute.: I didn't have a pr...   \n",
       "4     Five Stars: They taste like whatever you cook ...   \n",
       "...                                                 ...   \n",
       "4358  would not recomend: Product arrived with two o...   \n",
       "4359                                    Five Stars: Ok.   \n",
       "4360  Not awful, but now I know why these were on sa...   \n",
       "4361  Don't even try it.: Truly horrific. Like eatin...   \n",
       "4362  As good as all the other Miracle noodle produc...   \n",
       "\n",
       "                                   review-text-full_raw  \\\n",
       "0     Four Stars: Great pasta taste and feel, but th...   \n",
       "1     Okay but don't like texture: The texture just ...   \n",
       "2     Go for the green noodles: The herb flavor make...   \n",
       "3     Its an awesome substitute.: I didn't have a pr...   \n",
       "4     Five Stars: They taste like whatever you cook ...   \n",
       "...                                                 ...   \n",
       "4358  would not recomend: Product arrived with two o...   \n",
       "4359                                    Five Stars: Ok.   \n",
       "4360  Not awful, but now I know why these were on sa...   \n",
       "4361  Don't even try it.: Truly horrific. Like eatin...   \n",
       "4362  As good as all the other Miracle noodle produc...   \n",
       "\n",
       "                                           tokens-dirty  \\\n",
       "0     [four, stars, great, pasta, taste, and, feel, ...   \n",
       "1     [okay, but, do, n't, like, texture, the, textu...   \n",
       "2     [go, for, the, green, noodles, the, herb, flav...   \n",
       "3     [its, an, awesome, substitute, i, did, n't, ha...   \n",
       "4     [five, stars, they, taste, like, whatever, you...   \n",
       "...                                                 ...   \n",
       "4358  [would, not, recomend, product, arrived, with,...   \n",
       "4359                                  [five, stars, ok]   \n",
       "4360  [not, awful, but, now, i, know, why, these, we...   \n",
       "4361  [do, n't, even, try, it, truly, horrific, like...   \n",
       "4362  [as, good, as, all, the, other, miracle, noodl...   \n",
       "\n",
       "                                                 tokens  \\\n",
       "0     [stars, great, pasta, taste, feel, spell, pack...   \n",
       "1     [okay, like, texture, texture, little, strange...   \n",
       "2     [green, noodles, herb, flavor, makes, odd, tex...   \n",
       "3     [awesome, substitute, problem, half, filled, b...   \n",
       "4                            [stars, taste, like, cook]   \n",
       "...                                                 ...   \n",
       "4358  [recomend, product, arrived, bags, punctured, ...   \n",
       "4359                                        [stars, ok]   \n",
       "4360  [awful, know, sale, like, noodles, spinach, on...   \n",
       "4361  [try, truly, horrific, like, eating, dead, worms]   \n",
       "4362  [good, miracle, noodle, products, love, rice, ...   \n",
       "\n",
       "                                                 lemmas  \\\n",
       "0     [star, great, pasta, taste, feel, spell, packa...   \n",
       "1     [okay, like, texture, texture, little, strange...   \n",
       "2     [green, noodle, herb, flavor, make, odd, textu...   \n",
       "3     [awesome, substitute, problem, half, fill, bag...   \n",
       "4                             [star, taste, like, cook]   \n",
       "...                                                 ...   \n",
       "4358  [recomend, product, arrive, bag, puncture, sme...   \n",
       "4359                                         [star, ok]   \n",
       "4360  [awful, know, sale, like, noodle, spinach, one...   \n",
       "4361      [try, truly, horrific, like, eat, dead, worm]   \n",
       "4362  [good, miracle, noodle, product, love, rice, n...   \n",
       "\n",
       "                                    tokens-dirty-joined  \\\n",
       "0     four stars great pasta taste and feel but the ...   \n",
       "1     okay but do n't like texture the texture just ...   \n",
       "2     go for the green noodles the herb flavor makes...   \n",
       "3     its an awesome substitute i did n't have a pro...   \n",
       "4     five stars they taste like whatever you cook t...   \n",
       "...                                                 ...   \n",
       "4358  would not recomend product arrived with two of...   \n",
       "4359                                      five stars ok   \n",
       "4360  not awful but now i know why these were on sal...   \n",
       "4361  do n't even try it truly horrific like eating ...   \n",
       "4362  as good as all the other miracle noodle produc...   \n",
       "\n",
       "                                          tokens-joined  \\\n",
       "0     stars great pasta taste feel spell packaged sk...   \n",
       "1     okay like texture texture little strange eat f...   \n",
       "2     green noodles herb flavor makes odd texture sh...   \n",
       "3     awesome substitute problem half filled bag use...   \n",
       "4                                 stars taste like cook   \n",
       "...                                                 ...   \n",
       "4358  recomend product arrived bags punctured smells...   \n",
       "4359                                           stars ok   \n",
       "4360  awful know sale like noodles spinach ones tast...   \n",
       "4361          try truly horrific like eating dead worms   \n",
       "4362  good miracle noodle products love rice noodles...   \n",
       "\n",
       "                                          lemmas-joined target-rating  \n",
       "0      star great pasta taste feel spell package skrong          None  \n",
       "1     okay like texture texture little strange eat f...          None  \n",
       "2     green noodle herb flavor make odd texture shir...          High  \n",
       "3     awesome substitute problem half fill bag user ...          High  \n",
       "4                                  star taste like cook          High  \n",
       "...                                                 ...           ...  \n",
       "4358     recomend product arrive bag puncture smell bad           Low  \n",
       "4359                                            star ok          High  \n",
       "4360  awful know sale like noodle spinach one taste ...           Low  \n",
       "4361              try truly horrific like eat dead worm           Low  \n",
       "4362  good miracle noodle product love rice noodle p...          High  \n",
       "\n",
       "[4363 rows x 18 columns]"
      ]
     },
     "execution_count": 2,
     "metadata": {},
     "output_type": "execute_result"
    }
   ],
   "source": [
    "import pandas as pd\n",
    "\n",
    "pd.set_option('display.max_columns',100)\n",
    "\n",
    "\n",
    "##Load in the data\n",
    "import json\n",
    "with open(\"config/filepaths.json\") as f:\n",
    "    FPATHS = json.load(f)\n",
    "\n",
    "\n",
    "import joblib\n",
    "df = joblib.load(FPATHS['data']['processed-nlp']['processed-reviews-with-target_joblib'])\n",
    "df"
   ]
  },
  {
   "cell_type": "code",
   "execution_count": null,
   "id": "edcd6bcd-8a19-4ac9-aa28-72d1b8a6b2b8",
   "metadata": {},
   "outputs": [],
   "source": []
  },
  {
   "cell_type": "code",
   "execution_count": 3,
   "id": "1a59d712-0cf5-4079-a6ce-c9d910040995",
   "metadata": {
    "execution": {
     "iopub.execute_input": "2024-02-22T21:53:22.168595Z",
     "iopub.status.busy": "2024-02-22T21:53:22.168428Z",
     "iopub.status.idle": "2024-02-22T21:53:22.202837Z",
     "shell.execute_reply": "2024-02-22T21:53:22.202490Z",
     "shell.execute_reply.started": "2024-02-22T21:53:22.168586Z"
    }
   },
   "outputs": [
    {
     "data": {
      "text/html": [
       "<div>\n",
       "<style scoped>\n",
       "    .dataframe tbody tr th:only-of-type {\n",
       "        vertical-align: middle;\n",
       "    }\n",
       "\n",
       "    .dataframe tbody tr th {\n",
       "        vertical-align: top;\n",
       "    }\n",
       "\n",
       "    .dataframe thead th {\n",
       "        text-align: right;\n",
       "    }\n",
       "</style>\n",
       "<table border=\"1\" class=\"dataframe\">\n",
       "  <thead>\n",
       "    <tr style=\"text-align: right;\">\n",
       "      <th></th>\n",
       "      <th>asin</th>\n",
       "      <th>category</th>\n",
       "      <th>description</th>\n",
       "      <th>title</th>\n",
       "      <th>brand</th>\n",
       "      <th>feature</th>\n",
       "      <th>rank</th>\n",
       "      <th>main_cat</th>\n",
       "      <th>price</th>\n",
       "      <th>imageURL</th>\n",
       "      <th>imageURLHighRes</th>\n",
       "      <th>details</th>\n",
       "      <th>Category_Beverages</th>\n",
       "      <th>Category_Bottled Beverages, Water &amp; Drink Mixes</th>\n",
       "      <th>Category_Candy &amp; Chocolate</th>\n",
       "      <th>Category_Canned, Jarred &amp; Packaged Foods</th>\n",
       "      <th>Category_Coffee</th>\n",
       "      <th>Category_Coffee, Tea &amp; Cocoa</th>\n",
       "      <th>Category_Cooking &amp; Baking</th>\n",
       "      <th>Category_Grocery &amp; Gourmet Food</th>\n",
       "      <th>Category_Herbs, Spices &amp; Seasonings</th>\n",
       "      <th>Category_Sauces, Gravies &amp; Marinades</th>\n",
       "      <th>Category_Snack Foods</th>\n",
       "      <th>Category_Tea</th>\n",
       "      <th>category_list</th>\n",
       "    </tr>\n",
       "  </thead>\n",
       "  <tbody>\n",
       "    <tr>\n",
       "      <th>0</th>\n",
       "      <td>B00BUKL666</td>\n",
       "      <td>Grocery &amp; Gourmet Food; Snack Foods; Bars; Nut...</td>\n",
       "      <td>'These bars are where our journey started and ...</td>\n",
       "      <td>KIND Bars, Dark Chocolate Nuts &amp;amp; Sea Salt,...</td>\n",
       "      <td>KIND</td>\n",
       "      <td>NaN</td>\n",
       "      <td>18 in Grocery &amp; Gourmet Food (</td>\n",
       "      <td>Grocery</td>\n",
       "      <td>$13.67</td>\n",
       "      <td>'https://images-na.ssl-images-amazon.com/image...</td>\n",
       "      <td>'https://images-na.ssl-images-amazon.com/image...</td>\n",
       "      <td>{'\\\\n    Product Dimensions: \\\\n    ': '6.8 x ...</td>\n",
       "      <td>0</td>\n",
       "      <td>0</td>\n",
       "      <td>0</td>\n",
       "      <td>0</td>\n",
       "      <td>0</td>\n",
       "      <td>0</td>\n",
       "      <td>0</td>\n",
       "      <td>1</td>\n",
       "      <td>0</td>\n",
       "      <td>0</td>\n",
       "      <td>1</td>\n",
       "      <td>0</td>\n",
       "      <td>['Grocery &amp; Gourmet Food', 'Snack Foods', 'Bar...</td>\n",
       "    </tr>\n",
       "    <tr>\n",
       "      <th>1</th>\n",
       "      <td>B008QMX2SG</td>\n",
       "      <td>Grocery &amp; Gourmet Food; Snack Foods; Bars; Nut...</td>\n",
       "      <td>'These bars are where our journey started and ...</td>\n",
       "      <td>Kind Bars, Madagascar Vanilla Almond, Gluten F...</td>\n",
       "      <td>KIND</td>\n",
       "      <td>NaN</td>\n",
       "      <td>2,949 in Grocery &amp; Gourmet Food (</td>\n",
       "      <td>Grocery</td>\n",
       "      <td>$14.79</td>\n",
       "      <td>'https://images-na.ssl-images-amazon.com/image...</td>\n",
       "      <td>'https://images-na.ssl-images-amazon.com/image...</td>\n",
       "      <td>{'\\\\n    Product Dimensions: \\\\n    ': '2 x 4 ...</td>\n",
       "      <td>0</td>\n",
       "      <td>0</td>\n",
       "      <td>0</td>\n",
       "      <td>0</td>\n",
       "      <td>0</td>\n",
       "      <td>0</td>\n",
       "      <td>0</td>\n",
       "      <td>1</td>\n",
       "      <td>0</td>\n",
       "      <td>0</td>\n",
       "      <td>1</td>\n",
       "      <td>0</td>\n",
       "      <td>['Grocery &amp; Gourmet Food', 'Snack Foods', 'Bar...</td>\n",
       "    </tr>\n",
       "    <tr>\n",
       "      <th>2</th>\n",
       "      <td>B00D3M2QP4</td>\n",
       "      <td>Grocery &amp; Gourmet Food; Breakfast Foods; Break...</td>\n",
       "      <td>'These bars are where our journey started and ...</td>\n",
       "      <td>KIND Bars, Dark Chocolate Chili Almond, Gluten...</td>\n",
       "      <td>KIND</td>\n",
       "      <td>NaN</td>\n",
       "      <td>4,575 in Grocery &amp; Gourmet Food (</td>\n",
       "      <td>Grocery</td>\n",
       "      <td>$15.53</td>\n",
       "      <td>'https://images-na.ssl-images-amazon.com/image...</td>\n",
       "      <td>'https://images-na.ssl-images-amazon.com/image...</td>\n",
       "      <td>{'\\\\n    Product Dimensions: \\\\n    ': '7 x 6 ...</td>\n",
       "      <td>0</td>\n",
       "      <td>0</td>\n",
       "      <td>0</td>\n",
       "      <td>0</td>\n",
       "      <td>0</td>\n",
       "      <td>0</td>\n",
       "      <td>0</td>\n",
       "      <td>1</td>\n",
       "      <td>0</td>\n",
       "      <td>0</td>\n",
       "      <td>0</td>\n",
       "      <td>0</td>\n",
       "      <td>['Grocery &amp; Gourmet Food', 'Breakfast Foods', ...</td>\n",
       "    </tr>\n",
       "    <tr>\n",
       "      <th>3</th>\n",
       "      <td>B00542YXFW</td>\n",
       "      <td>Grocery &amp; Gourmet Food; Beverages; Coffee, Tea...</td>\n",
       "      <td>'Mild, but round and full licorice flavor and ...</td>\n",
       "      <td>Davidson's Tea Bulk, Anise Seed, 16-Ounce Bag</td>\n",
       "      <td>Davidson's Tea</td>\n",
       "      <td>NaN</td>\n",
       "      <td>100,853 in Grocery &amp; Gourmet Food (</td>\n",
       "      <td>Grocery</td>\n",
       "      <td>$15.00</td>\n",
       "      <td>'https://images-na.ssl-images-amazon.com/image...</td>\n",
       "      <td>'https://images-na.ssl-images-amazon.com/image...</td>\n",
       "      <td>{'Shipping Weight:': '1.1 pounds (', 'Domestic...</td>\n",
       "      <td>1</td>\n",
       "      <td>0</td>\n",
       "      <td>0</td>\n",
       "      <td>0</td>\n",
       "      <td>0</td>\n",
       "      <td>1</td>\n",
       "      <td>0</td>\n",
       "      <td>1</td>\n",
       "      <td>0</td>\n",
       "      <td>0</td>\n",
       "      <td>0</td>\n",
       "      <td>1</td>\n",
       "      <td>['Grocery &amp; Gourmet Food', 'Beverages', 'Coffe...</td>\n",
       "    </tr>\n",
       "    <tr>\n",
       "      <th>4</th>\n",
       "      <td>B000F4DKAI</td>\n",
       "      <td>Grocery &amp; Gourmet Food; Beverages; Coffee, Tea...</td>\n",
       "      <td>'First started as much needed refreshment betw...</td>\n",
       "      <td>Twinings of London English Afternoon Black Tea...</td>\n",
       "      <td>Twinings</td>\n",
       "      <td>NaN</td>\n",
       "      <td>19,796 in Grocery &amp; Gourmet Food (</td>\n",
       "      <td>Grocery</td>\n",
       "      <td>$23.70</td>\n",
       "      <td>'https://images-na.ssl-images-amazon.com/image...</td>\n",
       "      <td>'https://images-na.ssl-images-amazon.com/image...</td>\n",
       "      <td>{'Shipping Weight:': '1.3 pounds (', 'Domestic...</td>\n",
       "      <td>1</td>\n",
       "      <td>0</td>\n",
       "      <td>0</td>\n",
       "      <td>0</td>\n",
       "      <td>0</td>\n",
       "      <td>1</td>\n",
       "      <td>0</td>\n",
       "      <td>1</td>\n",
       "      <td>0</td>\n",
       "      <td>0</td>\n",
       "      <td>0</td>\n",
       "      <td>1</td>\n",
       "      <td>['Grocery &amp; Gourmet Food', 'Beverages', 'Coffe...</td>\n",
       "    </tr>\n",
       "  </tbody>\n",
       "</table>\n",
       "</div>"
      ],
      "text/plain": [
       "         asin                                           category  \\\n",
       "0  B00BUKL666  Grocery & Gourmet Food; Snack Foods; Bars; Nut...   \n",
       "1  B008QMX2SG  Grocery & Gourmet Food; Snack Foods; Bars; Nut...   \n",
       "2  B00D3M2QP4  Grocery & Gourmet Food; Breakfast Foods; Break...   \n",
       "3  B00542YXFW  Grocery & Gourmet Food; Beverages; Coffee, Tea...   \n",
       "4  B000F4DKAI  Grocery & Gourmet Food; Beverages; Coffee, Tea...   \n",
       "\n",
       "                                         description  \\\n",
       "0  'These bars are where our journey started and ...   \n",
       "1  'These bars are where our journey started and ...   \n",
       "2  'These bars are where our journey started and ...   \n",
       "3  'Mild, but round and full licorice flavor and ...   \n",
       "4  'First started as much needed refreshment betw...   \n",
       "\n",
       "                                               title           brand feature  \\\n",
       "0  KIND Bars, Dark Chocolate Nuts &amp; Sea Salt,...            KIND     NaN   \n",
       "1  Kind Bars, Madagascar Vanilla Almond, Gluten F...            KIND     NaN   \n",
       "2  KIND Bars, Dark Chocolate Chili Almond, Gluten...            KIND     NaN   \n",
       "3      Davidson's Tea Bulk, Anise Seed, 16-Ounce Bag  Davidson's Tea     NaN   \n",
       "4  Twinings of London English Afternoon Black Tea...        Twinings     NaN   \n",
       "\n",
       "                                  rank main_cat   price  \\\n",
       "0       18 in Grocery & Gourmet Food (  Grocery  $13.67   \n",
       "1    2,949 in Grocery & Gourmet Food (  Grocery  $14.79   \n",
       "2    4,575 in Grocery & Gourmet Food (  Grocery  $15.53   \n",
       "3  100,853 in Grocery & Gourmet Food (  Grocery  $15.00   \n",
       "4   19,796 in Grocery & Gourmet Food (  Grocery  $23.70   \n",
       "\n",
       "                                            imageURL  \\\n",
       "0  'https://images-na.ssl-images-amazon.com/image...   \n",
       "1  'https://images-na.ssl-images-amazon.com/image...   \n",
       "2  'https://images-na.ssl-images-amazon.com/image...   \n",
       "3  'https://images-na.ssl-images-amazon.com/image...   \n",
       "4  'https://images-na.ssl-images-amazon.com/image...   \n",
       "\n",
       "                                     imageURLHighRes  \\\n",
       "0  'https://images-na.ssl-images-amazon.com/image...   \n",
       "1  'https://images-na.ssl-images-amazon.com/image...   \n",
       "2  'https://images-na.ssl-images-amazon.com/image...   \n",
       "3  'https://images-na.ssl-images-amazon.com/image...   \n",
       "4  'https://images-na.ssl-images-amazon.com/image...   \n",
       "\n",
       "                                             details  Category_Beverages  \\\n",
       "0  {'\\\\n    Product Dimensions: \\\\n    ': '6.8 x ...                   0   \n",
       "1  {'\\\\n    Product Dimensions: \\\\n    ': '2 x 4 ...                   0   \n",
       "2  {'\\\\n    Product Dimensions: \\\\n    ': '7 x 6 ...                   0   \n",
       "3  {'Shipping Weight:': '1.1 pounds (', 'Domestic...                   1   \n",
       "4  {'Shipping Weight:': '1.3 pounds (', 'Domestic...                   1   \n",
       "\n",
       "   Category_Bottled Beverages, Water & Drink Mixes  \\\n",
       "0                                                0   \n",
       "1                                                0   \n",
       "2                                                0   \n",
       "3                                                0   \n",
       "4                                                0   \n",
       "\n",
       "   Category_Candy & Chocolate  Category_Canned, Jarred & Packaged Foods  \\\n",
       "0                           0                                         0   \n",
       "1                           0                                         0   \n",
       "2                           0                                         0   \n",
       "3                           0                                         0   \n",
       "4                           0                                         0   \n",
       "\n",
       "   Category_Coffee  Category_Coffee, Tea & Cocoa  Category_Cooking & Baking  \\\n",
       "0                0                             0                          0   \n",
       "1                0                             0                          0   \n",
       "2                0                             0                          0   \n",
       "3                0                             1                          0   \n",
       "4                0                             1                          0   \n",
       "\n",
       "   Category_Grocery & Gourmet Food  Category_Herbs, Spices & Seasonings  \\\n",
       "0                                1                                    0   \n",
       "1                                1                                    0   \n",
       "2                                1                                    0   \n",
       "3                                1                                    0   \n",
       "4                                1                                    0   \n",
       "\n",
       "   Category_Sauces, Gravies & Marinades  Category_Snack Foods  Category_Tea  \\\n",
       "0                                     0                     1             0   \n",
       "1                                     0                     1             0   \n",
       "2                                     0                     0             0   \n",
       "3                                     0                     0             1   \n",
       "4                                     0                     0             1   \n",
       "\n",
       "                                       category_list  \n",
       "0  ['Grocery & Gourmet Food', 'Snack Foods', 'Bar...  \n",
       "1  ['Grocery & Gourmet Food', 'Snack Foods', 'Bar...  \n",
       "2  ['Grocery & Gourmet Food', 'Breakfast Foods', ...  \n",
       "3  ['Grocery & Gourmet Food', 'Beverages', 'Coffe...  \n",
       "4  ['Grocery & Gourmet Food', 'Beverages', 'Coffe...  "
      ]
     },
     "execution_count": 3,
     "metadata": {},
     "output_type": "execute_result"
    }
   ],
   "source": [
    "meta_df = pd.read_csv(FPATHS['data']['subset']['metadata_csv'])\n",
    "meta_df.head()"
   ]
  },
  {
   "cell_type": "code",
   "execution_count": 4,
   "id": "1c13f0cb-fda7-47f7-9f12-cdf14d83fafc",
   "metadata": {
    "execution": {
     "iopub.execute_input": "2024-02-22T21:53:22.203410Z",
     "iopub.status.busy": "2024-02-22T21:53:22.203285Z",
     "iopub.status.idle": "2024-02-22T21:53:22.220050Z",
     "shell.execute_reply": "2024-02-22T21:53:22.219709Z",
     "shell.execute_reply.started": "2024-02-22T21:53:22.203399Z"
    }
   },
   "outputs": [
    {
     "data": {
      "text/html": [
       "<div>\n",
       "<style scoped>\n",
       "    .dataframe tbody tr th:only-of-type {\n",
       "        vertical-align: middle;\n",
       "    }\n",
       "\n",
       "    .dataframe tbody tr th {\n",
       "        vertical-align: top;\n",
       "    }\n",
       "\n",
       "    .dataframe thead th {\n",
       "        text-align: right;\n",
       "    }\n",
       "</style>\n",
       "<table border=\"1\" class=\"dataframe\">\n",
       "  <thead>\n",
       "    <tr style=\"text-align: right;\">\n",
       "      <th></th>\n",
       "      <th>asin</th>\n",
       "      <th>category</th>\n",
       "      <th>description</th>\n",
       "      <th>title</th>\n",
       "      <th>brand</th>\n",
       "      <th>feature</th>\n",
       "      <th>rank</th>\n",
       "      <th>main_cat</th>\n",
       "      <th>price</th>\n",
       "      <th>imageURL</th>\n",
       "      <th>imageURLHighRes</th>\n",
       "      <th>details</th>\n",
       "      <th>Category_Beverages</th>\n",
       "      <th>Category_Bottled Beverages, Water &amp; Drink Mixes</th>\n",
       "      <th>Category_Candy &amp; Chocolate</th>\n",
       "      <th>Category_Canned, Jarred &amp; Packaged Foods</th>\n",
       "      <th>Category_Coffee</th>\n",
       "      <th>Category_Coffee, Tea &amp; Cocoa</th>\n",
       "      <th>Category_Cooking &amp; Baking</th>\n",
       "      <th>Category_Grocery &amp; Gourmet Food</th>\n",
       "      <th>Category_Herbs, Spices &amp; Seasonings</th>\n",
       "      <th>Category_Sauces, Gravies &amp; Marinades</th>\n",
       "      <th>Category_Snack Foods</th>\n",
       "      <th>Category_Tea</th>\n",
       "      <th>category_list</th>\n",
       "    </tr>\n",
       "  </thead>\n",
       "  <tbody>\n",
       "    <tr>\n",
       "      <th>0</th>\n",
       "      <td>B007JINB0W</td>\n",
       "      <td>Grocery &amp; Gourmet Food; Pasta &amp; Noodles; Noodl...</td>\n",
       "      <td>'Nutrition Facts Serving Size: 3 oz Servings P...</td>\n",
       "      <td>Miracle Noodle Zero Carb, Gluten Free Shiratak...</td>\n",
       "      <td>Miracle Noodle</td>\n",
       "      <td>'&lt;span class=\"a-size-base a-color-secondary\"&gt;\\...</td>\n",
       "      <td>119,683 in Grocery &amp; Gourmet Food (</td>\n",
       "      <td>Grocery</td>\n",
       "      <td>$59.76</td>\n",
       "      <td>'https://images-na.ssl-images-amazon.com/image...</td>\n",
       "      <td>'https://images-na.ssl-images-amazon.com/image...</td>\n",
       "      <td>{'\\\\n    Item Weight: \\\\n    ': '3.07 pounds',...</td>\n",
       "      <td>0</td>\n",
       "      <td>0</td>\n",
       "      <td>0</td>\n",
       "      <td>0</td>\n",
       "      <td>0</td>\n",
       "      <td>0</td>\n",
       "      <td>0</td>\n",
       "      <td>1</td>\n",
       "      <td>0</td>\n",
       "      <td>0</td>\n",
       "      <td>0</td>\n",
       "      <td>0</td>\n",
       "      <td>['Grocery &amp; Gourmet Food', 'Pasta &amp; Noodles', ...</td>\n",
       "    </tr>\n",
       "  </tbody>\n",
       "</table>\n",
       "</div>"
      ],
      "text/plain": [
       "         asin                                           category  \\\n",
       "0  B007JINB0W  Grocery & Gourmet Food; Pasta & Noodles; Noodl...   \n",
       "\n",
       "                                         description  \\\n",
       "0  'Nutrition Facts Serving Size: 3 oz Servings P...   \n",
       "\n",
       "                                               title           brand  \\\n",
       "0  Miracle Noodle Zero Carb, Gluten Free Shiratak...  Miracle Noodle   \n",
       "\n",
       "                                             feature  \\\n",
       "0  '<span class=\"a-size-base a-color-secondary\">\\...   \n",
       "\n",
       "                                  rank main_cat   price  \\\n",
       "0  119,683 in Grocery & Gourmet Food (  Grocery  $59.76   \n",
       "\n",
       "                                            imageURL  \\\n",
       "0  'https://images-na.ssl-images-amazon.com/image...   \n",
       "\n",
       "                                     imageURLHighRes  \\\n",
       "0  'https://images-na.ssl-images-amazon.com/image...   \n",
       "\n",
       "                                             details  Category_Beverages  \\\n",
       "0  {'\\\\n    Item Weight: \\\\n    ': '3.07 pounds',...                   0   \n",
       "\n",
       "   Category_Bottled Beverages, Water & Drink Mixes  \\\n",
       "0                                                0   \n",
       "\n",
       "   Category_Candy & Chocolate  Category_Canned, Jarred & Packaged Foods  \\\n",
       "0                           0                                         0   \n",
       "\n",
       "   Category_Coffee  Category_Coffee, Tea & Cocoa  Category_Cooking & Baking  \\\n",
       "0                0                             0                          0   \n",
       "\n",
       "   Category_Grocery & Gourmet Food  Category_Herbs, Spices & Seasonings  \\\n",
       "0                                1                                    0   \n",
       "\n",
       "   Category_Sauces, Gravies & Marinades  Category_Snack Foods  Category_Tea  \\\n",
       "0                                     0                     0             0   \n",
       "\n",
       "                                       category_list  \n",
       "0  ['Grocery & Gourmet Food', 'Pasta & Noodles', ...  "
      ]
     },
     "execution_count": 4,
     "metadata": {},
     "output_type": "execute_result"
    }
   ],
   "source": [
    "# Filter for only products in the reivews\n",
    "product_metadata = meta_df[meta_df['asin'].isin(df['asin'].unique())]\n",
    "# product_metadata = product_metadata.rename({'category_list':'categories'},axis=1)\n",
    "\n",
    "product_metadata = product_metadata.reset_index(drop=True)\n",
    "product_metadata"
   ]
  },
  {
   "cell_type": "code",
   "execution_count": 5,
   "id": "a5abe409-4d76-4a56-8cf2-08696443e387",
   "metadata": {
    "execution": {
     "iopub.execute_input": "2024-02-22T21:53:22.220728Z",
     "iopub.status.busy": "2024-02-22T21:53:22.220633Z",
     "iopub.status.idle": "2024-02-22T21:53:22.232524Z",
     "shell.execute_reply": "2024-02-22T21:53:22.232187Z",
     "shell.execute_reply.started": "2024-02-22T21:53:22.220719Z"
    }
   },
   "outputs": [],
   "source": [
    "# fpath_df = FPATHS['data']['processed-nlp']['processed-reviews-with-target_json']\n",
    "# df = pd.read_json(fpath_df)\n",
    "# df.head()"
   ]
  },
  {
   "cell_type": "markdown",
   "id": "8f39d896-a39d-46ff-b9ac-d0ef83385bb3",
   "metadata": {},
   "source": [
    "### Convert df into df_llm and replace df"
   ]
  },
  {
   "cell_type": "code",
   "execution_count": 6,
   "id": "ac8bcab4-204a-494f-b780-b277f386ac6a",
   "metadata": {
    "execution": {
     "iopub.execute_input": "2024-02-22T21:53:22.233377Z",
     "iopub.status.busy": "2024-02-22T21:53:22.233229Z",
     "iopub.status.idle": "2024-02-22T21:53:22.246987Z",
     "shell.execute_reply": "2024-02-22T21:53:22.246519Z",
     "shell.execute_reply.started": "2024-02-22T21:53:22.233366Z"
    }
   },
   "outputs": [
    {
     "data": {
      "text/plain": [
       "High    1868\n",
       "Low     1437\n",
       "None    1058\n",
       "Name: target-rating, dtype: int64"
      ]
     },
     "execution_count": 6,
     "metadata": {},
     "output_type": "execute_result"
    }
   ],
   "source": [
    "df['target-rating'].value_counts(dropna=False)"
   ]
  },
  {
   "cell_type": "code",
   "execution_count": 7,
   "id": "05bc0aa6-c802-48cd-9cbd-2ae93ec63998",
   "metadata": {
    "execution": {
     "iopub.execute_input": "2024-02-22T21:53:22.249610Z",
     "iopub.status.busy": "2024-02-22T21:53:22.249438Z",
     "iopub.status.idle": "2024-02-22T21:53:22.266284Z",
     "shell.execute_reply": "2024-02-22T21:53:22.265865Z",
     "shell.execute_reply.started": "2024-02-22T21:53:22.249598Z"
    },
    "scrolled": true
   },
   "outputs": [
    {
     "data": {
      "text/html": [
       "<div>\n",
       "<style scoped>\n",
       "    .dataframe tbody tr th:only-of-type {\n",
       "        vertical-align: middle;\n",
       "    }\n",
       "\n",
       "    .dataframe tbody tr th {\n",
       "        vertical-align: top;\n",
       "    }\n",
       "\n",
       "    .dataframe thead th {\n",
       "        text-align: right;\n",
       "    }\n",
       "</style>\n",
       "<table border=\"1\" class=\"dataframe\">\n",
       "  <thead>\n",
       "    <tr style=\"text-align: right;\">\n",
       "      <th></th>\n",
       "      <th>reviewerID</th>\n",
       "      <th>review</th>\n",
       "      <th>stars</th>\n",
       "      <th>group</th>\n",
       "    </tr>\n",
       "  </thead>\n",
       "  <tbody>\n",
       "    <tr>\n",
       "      <th>0</th>\n",
       "      <td>A3Y51NV9HU5T2</td>\n",
       "      <td>Four Stars: Great pasta taste and feel, but th...</td>\n",
       "      <td>4</td>\n",
       "      <td>None</td>\n",
       "    </tr>\n",
       "    <tr>\n",
       "      <th>1</th>\n",
       "      <td>A3D7EFSRC6Y9MP</td>\n",
       "      <td>Okay but don't like texture: The texture just ...</td>\n",
       "      <td>3</td>\n",
       "      <td>None</td>\n",
       "    </tr>\n",
       "    <tr>\n",
       "      <th>2</th>\n",
       "      <td>A4AM5KBP3I2R</td>\n",
       "      <td>Go for the green noodles: The herb flavor make...</td>\n",
       "      <td>5</td>\n",
       "      <td>High</td>\n",
       "    </tr>\n",
       "    <tr>\n",
       "      <th>3</th>\n",
       "      <td>A3GHK4IL78DB7Y</td>\n",
       "      <td>Its an awesome substitute.: I didn't have a pr...</td>\n",
       "      <td>5</td>\n",
       "      <td>High</td>\n",
       "    </tr>\n",
       "    <tr>\n",
       "      <th>4</th>\n",
       "      <td>AH3B94LQOPPY6</td>\n",
       "      <td>Five Stars: They taste like whatever you cook ...</td>\n",
       "      <td>5</td>\n",
       "      <td>High</td>\n",
       "    </tr>\n",
       "    <tr>\n",
       "      <th>...</th>\n",
       "      <td>...</td>\n",
       "      <td>...</td>\n",
       "      <td>...</td>\n",
       "      <td>...</td>\n",
       "    </tr>\n",
       "    <tr>\n",
       "      <th>4358</th>\n",
       "      <td>A73IG1ED6S0JR</td>\n",
       "      <td>would not recomend: Product arrived with two o...</td>\n",
       "      <td>1</td>\n",
       "      <td>Low</td>\n",
       "    </tr>\n",
       "    <tr>\n",
       "      <th>4359</th>\n",
       "      <td>A1XZ2H0MYG54M0</td>\n",
       "      <td>Five Stars: Ok.</td>\n",
       "      <td>5</td>\n",
       "      <td>High</td>\n",
       "    </tr>\n",
       "    <tr>\n",
       "      <th>4360</th>\n",
       "      <td>A3I2YF0MXB7P0B</td>\n",
       "      <td>Not awful, but now I know why these were on sa...</td>\n",
       "      <td>2</td>\n",
       "      <td>Low</td>\n",
       "    </tr>\n",
       "    <tr>\n",
       "      <th>4361</th>\n",
       "      <td>A2UELLFLITPMT1</td>\n",
       "      <td>Don't even try it.: Truly horrific. Like eatin...</td>\n",
       "      <td>1</td>\n",
       "      <td>Low</td>\n",
       "    </tr>\n",
       "    <tr>\n",
       "      <th>4362</th>\n",
       "      <td>A178M2AHNWQZB0</td>\n",
       "      <td>As good as all the other Miracle noodle produc...</td>\n",
       "      <td>5</td>\n",
       "      <td>High</td>\n",
       "    </tr>\n",
       "  </tbody>\n",
       "</table>\n",
       "<p>4363 rows × 4 columns</p>\n",
       "</div>"
      ],
      "text/plain": [
       "          reviewerID                                             review  \\\n",
       "0      A3Y51NV9HU5T2  Four Stars: Great pasta taste and feel, but th...   \n",
       "1     A3D7EFSRC6Y9MP  Okay but don't like texture: The texture just ...   \n",
       "2       A4AM5KBP3I2R  Go for the green noodles: The herb flavor make...   \n",
       "3     A3GHK4IL78DB7Y  Its an awesome substitute.: I didn't have a pr...   \n",
       "4      AH3B94LQOPPY6  Five Stars: They taste like whatever you cook ...   \n",
       "...              ...                                                ...   \n",
       "4358   A73IG1ED6S0JR  would not recomend: Product arrived with two o...   \n",
       "4359  A1XZ2H0MYG54M0                                    Five Stars: Ok.   \n",
       "4360  A3I2YF0MXB7P0B  Not awful, but now I know why these were on sa...   \n",
       "4361  A2UELLFLITPMT1  Don't even try it.: Truly horrific. Like eatin...   \n",
       "4362  A178M2AHNWQZB0  As good as all the other Miracle noodle produc...   \n",
       "\n",
       "      stars group  \n",
       "0         4  None  \n",
       "1         3  None  \n",
       "2         5  High  \n",
       "3         5  High  \n",
       "4         5  High  \n",
       "...     ...   ...  \n",
       "4358      1   Low  \n",
       "4359      5  High  \n",
       "4360      2   Low  \n",
       "4361      1   Low  \n",
       "4362      5  High  \n",
       "\n",
       "[4363 rows x 4 columns]"
      ]
     },
     "execution_count": 7,
     "metadata": {},
     "output_type": "execute_result"
    }
   ],
   "source": [
    "# df_llm = df.dropna(subset=['target-rating'])\n",
    "llm_cols = ['reviewerID','review-text-full','overall','target-rating']\n",
    "df_llm = df.loc[:,#df['target-rating'].notna(),\n",
    "                llm_cols]\n",
    "df_llm = df_llm.rename({'overall':'stars','review-text-full':'review',\n",
    "                       'target-rating':'group'},axis=1)\n",
    "df_llm"
   ]
  },
  {
   "cell_type": "code",
   "execution_count": 8,
   "id": "1131ed24-99a8-40aa-b637-1b80c9b0a5f8",
   "metadata": {
    "execution": {
     "iopub.execute_input": "2024-02-22T21:53:22.266897Z",
     "iopub.status.busy": "2024-02-22T21:53:22.266781Z",
     "iopub.status.idle": "2024-02-22T21:53:22.283431Z",
     "shell.execute_reply": "2024-02-22T21:53:22.283104Z",
     "shell.execute_reply.started": "2024-02-22T21:53:22.266888Z"
    }
   },
   "outputs": [
    {
     "data": {
      "text/plain": [
       "42"
      ]
     },
     "execution_count": 8,
     "metadata": {},
     "output_type": "execute_result"
    }
   ],
   "source": [
    "dup_subset = ['review','stars']\n",
    "df_llm.duplicated(subset=dup_subset).sum()"
   ]
  },
  {
   "cell_type": "code",
   "execution_count": 9,
   "id": "15540c4a-9043-441d-b9b7-dbb78675e494",
   "metadata": {
    "execution": {
     "iopub.execute_input": "2024-02-22T21:53:22.284195Z",
     "iopub.status.busy": "2024-02-22T21:53:22.284033Z",
     "iopub.status.idle": "2024-02-22T21:53:22.322293Z",
     "shell.execute_reply": "2024-02-22T21:53:22.321935Z",
     "shell.execute_reply.started": "2024-02-22T21:53:22.284183Z"
    }
   },
   "outputs": [],
   "source": [
    "# \n",
    "fpath_llm = FPATHS['data']['app']['reviews-with-target-for-llm_csv']\n",
    "df_llm = df_llm.drop_duplicates(subset=dup_subset)\n",
    "df_llm.to_csv(fpath_llm, index=False)"
   ]
  },
  {
   "cell_type": "code",
   "execution_count": 10,
   "id": "52323ba1-5bfd-49b9-82bc-2c9a1b723307",
   "metadata": {
    "execution": {
     "iopub.execute_input": "2024-02-22T21:53:22.322887Z",
     "iopub.status.busy": "2024-02-22T21:53:22.322781Z",
     "iopub.status.idle": "2024-02-22T21:53:22.335067Z",
     "shell.execute_reply": "2024-02-22T21:53:22.334669Z",
     "shell.execute_reply.started": "2024-02-22T21:53:22.322878Z"
    }
   },
   "outputs": [],
   "source": [
    "# df_llm.duplicated(subset=['review','stars']).sum()"
   ]
  },
  {
   "cell_type": "code",
   "execution_count": 11,
   "id": "73db81eb-57a0-4d25-9904-b230d3df00f9",
   "metadata": {
    "execution": {
     "iopub.execute_input": "2024-02-22T21:53:22.335745Z",
     "iopub.status.busy": "2024-02-22T21:53:22.335647Z",
     "iopub.status.idle": "2024-02-22T21:53:22.360603Z",
     "shell.execute_reply": "2024-02-22T21:53:22.360212Z",
     "shell.execute_reply.started": "2024-02-22T21:53:22.335736Z"
    }
   },
   "outputs": [
    {
     "data": {
      "text/plain": [
       "5    1838\n",
       "1    1061\n",
       "4     605\n",
       "3     451\n",
       "2     366\n",
       "Name: stars, dtype: int64"
      ]
     },
     "execution_count": 11,
     "metadata": {},
     "output_type": "execute_result"
    }
   ],
   "source": [
    "import pandas as pd\n",
    "df = pd.read_csv(fpath_llm)\n",
    "df['stars'].value_counts()"
   ]
  },
  {
   "cell_type": "code",
   "execution_count": 12,
   "id": "b4d49bef-d936-4d60-8147-6943d90983f6",
   "metadata": {
    "execution": {
     "iopub.execute_input": "2024-02-22T21:53:22.361382Z",
     "iopub.status.busy": "2024-02-22T21:53:22.361271Z",
     "iopub.status.idle": "2024-02-22T21:53:22.377660Z",
     "shell.execute_reply": "2024-02-22T21:53:22.377249Z",
     "shell.execute_reply.started": "2024-02-22T21:53:22.361372Z"
    }
   },
   "outputs": [
    {
     "data": {
      "text/plain": [
       "0"
      ]
     },
     "execution_count": 12,
     "metadata": {},
     "output_type": "execute_result"
    }
   ],
   "source": [
    "df.duplicated(subset=dup_subset).sum()"
   ]
  },
  {
   "cell_type": "code",
   "execution_count": 13,
   "id": "d0c3e25a-13ea-4655-b0ce-863689f4b094",
   "metadata": {
    "execution": {
     "iopub.execute_input": "2024-02-22T21:53:22.378463Z",
     "iopub.status.busy": "2024-02-22T21:53:22.378323Z",
     "iopub.status.idle": "2024-02-22T21:53:27.850667Z",
     "shell.execute_reply": "2024-02-22T21:53:27.850300Z",
     "shell.execute_reply.started": "2024-02-22T21:53:22.378453Z"
    }
   },
   "outputs": [
    {
     "name": "stdout",
     "output_type": "stream",
     "text": [
      "The autoreload extension is already loaded. To reload it, use:\n",
      "  %reload_ext autoreload\n",
      "Top-Level Keys in FPATHS dict:\n",
      "dict_keys(['data', 'images', 'metadata', 'eda', 'models', 'results', 'readme'])\n"
     ]
    }
   ],
   "source": [
    "import streamlit as st\n",
    "import streamlit.components.v1 as components\n",
    "import pandas as pd\n",
    "import numpy as np\n",
    "import os\n",
    "import joblib\n",
    "import tensorflow as tf\n",
    "from PIL import Image\n",
    "\n",
    "%load_ext autoreload\n",
    "%autoreload 2\n",
    "    \n",
    "import custom_functions as fn\n",
    "\n",
    "# # Get Fpaths\n",
    "# @st.cache_data\n",
    "# def get_app_fpaths(fpath='config/filepaths.json'):\n",
    "# \timport json\n",
    "# \twith open(fpath ) as f:\n",
    "# \t\treturn json.load(f)\n",
    "\n",
    "\n",
    "\n",
    "##Load in the data\n",
    "import json\n",
    "with open(\"config/filepaths.json\") as f:\n",
    "    FPATHS = json.load(f)\n",
    "    \n",
    "# st.header(\"Exploratory Data Analysis of Amazon Reviews \")\n",
    "\n",
    "# if st.checkbox('[Dev] Show FPATHS?',value=False):\n",
    "#     FPATHS\n",
    "    "
   ]
  },
  {
   "cell_type": "code",
   "execution_count": 14,
   "id": "a83c834f-9f86-4a78-b5a3-47ce85f68267",
   "metadata": {
    "execution": {
     "iopub.execute_input": "2024-02-22T21:53:27.851485Z",
     "iopub.status.busy": "2024-02-22T21:53:27.851239Z",
     "iopub.status.idle": "2024-02-22T21:53:27.889177Z",
     "shell.execute_reply": "2024-02-22T21:53:27.888822Z",
     "shell.execute_reply.started": "2024-02-22T21:53:27.851475Z"
    }
   },
   "outputs": [],
   "source": [
    "import os,json\n",
    "\n",
    "# with open(\"/Users/codingdojo/.secret/open-ai.json\") as f:\n",
    "    # creds = json.load(f)\n",
    "\n",
    "# os.environ['OPENAI_API_KEY'] = creds['api-key']"
   ]
  },
  {
   "cell_type": "code",
   "execution_count": 15,
   "id": "f721864c-9ce3-45f2-89fb-5c6158ced29f",
   "metadata": {
    "execution": {
     "iopub.execute_input": "2024-02-22T21:53:27.889990Z",
     "iopub.status.busy": "2024-02-22T21:53:27.889706Z",
     "iopub.status.idle": "2024-02-22T21:53:27.947508Z",
     "shell.execute_reply": "2024-02-22T21:53:27.947210Z",
     "shell.execute_reply.started": "2024-02-22T21:53:27.889978Z"
    }
   },
   "outputs": [
    {
     "data": {
      "text/plain": [
       "Title            Miracle Noodle Zero Carb\\n Gluten Free Shirata...\n",
       "Description      Nutrition Facts Serving Size: 3 oz Servings Pe...\n",
       "Brand                                               Miracle Noodle\n",
       "Price                                                       $59.76\n",
       "Rank                             119,683 in Grocery & Gourmet Food\n",
       "Categories       [Grocery & Gourmet Food, Pasta & Noodles, Nood...\n",
       "Product Image     images/selected-products/miracle-noodle-2024.jpg\n",
       "Image Files      [images/selected-products/51RZohgUHBL.jpg, ima...\n",
       "Title (Raw)      Miracle Noodle Zero Carb, Gluten Free Shiratak...\n",
       "Name: B007JINB0W, dtype: object"
      ]
     },
     "execution_count": 15,
     "metadata": {},
     "output_type": "execute_result"
    }
   ],
   "source": [
    "# @st.cache_data    \n",
    "def load_df(fpath):\n",
    "    if fpath.endswith(\".joblib\"):\n",
    "        import joblib\n",
    "        return joblib.load(fpath)\n",
    "    elif fpath.endswith('.csv'):\n",
    "        import pandas as pd\n",
    "    return pd.read_csv(fpath)\n",
    "\n",
    "# @st.cache_data\n",
    "def load_metadata(fpath):\n",
    "    import pandas as pd\n",
    "    return pd.read_json(fpath)\n",
    "\n",
    "# df = load_df(FPATHS['data']['processed-nlp']['processed-reviews-with-target_joblib'])\n",
    "df = load_df(fpath = FPATHS['data']['app']['reviews-with-target-for-llm_csv'])\n",
    "\n",
    "meta_df = load_metadata(FPATHS['data']['app']['product-metadata_json'])\n",
    "product= meta_df.iloc[0]\n",
    "product"
   ]
  },
  {
   "cell_type": "code",
   "execution_count": 16,
   "id": "a99fb582-94da-4611-8c3b-0242788026fb",
   "metadata": {
    "execution": {
     "iopub.execute_input": "2024-02-22T21:53:27.948151Z",
     "iopub.status.busy": "2024-02-22T21:53:27.948044Z",
     "iopub.status.idle": "2024-02-22T21:53:27.988228Z",
     "shell.execute_reply": "2024-02-22T21:53:27.987881Z",
     "shell.execute_reply.started": "2024-02-22T21:53:27.948141Z"
    }
   },
   "outputs": [],
   "source": [
    "\n",
    "# product_json  ={'Title':product.loc['Title (Raw)'],\n",
    "#                'Brand':product.loc['Brand'],\n",
    "#                \"Price\":product.loc['Price'],\n",
    "#                \"Categories\": \"; \".join(product.loc['Categories']),\n",
    "#                 'ProductID':product.name\n",
    "#                }\n",
    "# product_json"
   ]
  },
  {
   "cell_type": "code",
   "execution_count": 17,
   "id": "0cbb3aeb-6a4d-4273-8c23-9732f6b3c955",
   "metadata": {
    "execution": {
     "iopub.execute_input": "2024-02-22T21:53:27.988906Z",
     "iopub.status.busy": "2024-02-22T21:53:27.988801Z",
     "iopub.status.idle": "2024-02-22T21:53:28.027693Z",
     "shell.execute_reply": "2024-02-22T21:53:28.027241Z",
     "shell.execute_reply.started": "2024-02-22T21:53:27.988897Z"
    }
   },
   "outputs": [
    {
     "name": "stdout",
     "output_type": "stream",
     "text": [
      "Nutrition Facts Serving Size: 3 oz Servings Per Container: 2.3 Amount Per Serving Calories 0 Calories from Fat 0 Total Fat 0g 0% Protein 0g 0% Protein <1g 0% Sugar 0g 0% Carbohydrate <1g - only fiber Zero Net Carbs, Zero Calories, Zero Glycemic Index Ingredients: Water, glucomannan (soluble fiber), calcium additive. No soy, gluten, or wheat! Kosher', 'Manufactured in a facility that also processes soy products. . This product is labelled to United States standards and may differ from similar products sold elsewhere in its ingredients, labeling and allergen warnings', 'No soy, gluten or wheat', 'Water, glucomannan (fiber), Spinach Powder, calcium additive.', 'Cooking instructions: drain the water out of the package and rinse the noodles in cool water for 10-15 seconds. Blanch in boiling water for about a minute. Place on a paper towel to dry and then add to your favorite dish.<br>Refrigerate after opening. Do not freeze.', 'Statements regarding dietary supplements have not been evaluated by the FDA and are not intended to diagnose, treat, cure, or prevent any disease or health condition.\n"
     ]
    }
   ],
   "source": [
    "print(product['Description'])"
   ]
  },
  {
   "cell_type": "code",
   "execution_count": 18,
   "id": "20f511bb-19d5-4ad2-b65e-d967a24bf9ea",
   "metadata": {
    "execution": {
     "iopub.execute_input": "2024-02-22T21:53:28.028356Z",
     "iopub.status.busy": "2024-02-22T21:53:28.028238Z",
     "iopub.status.idle": "2024-02-22T21:53:33.610887Z",
     "shell.execute_reply": "2024-02-22T21:53:33.610137Z",
     "shell.execute_reply.started": "2024-02-22T21:53:28.028346Z"
    }
   },
   "outputs": [
    {
     "data": {
      "text/plain": [
       "AIMessage(content='| Nutrition Facts                  | Serving Size: 3 oz  |\\n|----------------------------------|---------------------|\\n| Servings Per Container: 2.3      |                     |\\n|----------------------------------|---------------------|\\n| Amount Per Serving               |                     |\\n|----------------------------------|---------------------|\\n| Calories                         | 0                   |\\n| Calories from Fat                | 0                   |\\n| Total Fat                        | 0g 0%              |\\n| Protein                          | 0g 0%              |\\n| Protein                          | <1g 0%             |\\n| Sugar                            | 0g 0%              |\\n| Carbohydrate                     | <1g - only fiber    |\\n|----------------------------------|---------------------|\\n| Zero Net Carbs, Zero Calories, Zero Glycemic Index |\\n|----------------------------------|---------------------|\\n| Ingredients                      |                     |\\n|----------------------------------|---------------------|\\n| Water, glucomannan (soluble fiber), calcium additive |\\n| No soy, gluten, or wheat!        |                     |\\n| Kosher                           |                     |\\n| Manufactured in a facility that also processes soy products |\\n| This product is labelled to United States standards and may differ from similar products sold elsewhere in its ingredients, labeling and allergen warnings |\\n| No soy, gluten or wheat          |                     |\\n| Water, glucomannan (fiber), Spinach Powder, calcium additive |\\n|----------------------------------|---------------------|\\n| Cooking instructions             |                     |\\n|----------------------------------|---------------------|\\n| Drain the water out of the package and rinse the noodles in cool water for 10-15 seconds. Blanch in boiling water for about a minute. Place on a paper towel to dry and then add to your favorite dish. Refrigerate after opening. Do not freeze. |\\n|----------------------------------|---------------------|\\n| Statements regarding dietary supplements have not been evaluated by the FDA and are not intended to diagnose, treat, cure, or prevent any disease or health condition. |')"
      ]
     },
     "execution_count": 18,
     "metadata": {},
     "output_type": "execute_result"
    }
   ],
   "source": [
    "from langchain_openai.chat_models import ChatOpenAI\n",
    "chat = ChatOpenAI(temperature=0.1)\n",
    "response = chat.invoke(f\"Convert this raw text into a formatted nutrition table:\\n\\n {product['Description']}\")\n",
    "response"
   ]
  },
  {
   "cell_type": "code",
   "execution_count": 19,
   "id": "b980c05f-1c0d-4669-8796-bc455dca89c9",
   "metadata": {
    "execution": {
     "iopub.execute_input": "2024-02-22T21:53:33.612856Z",
     "iopub.status.busy": "2024-02-22T21:53:33.612128Z",
     "iopub.status.idle": "2024-02-22T21:53:33.673965Z",
     "shell.execute_reply": "2024-02-22T21:53:33.673588Z",
     "shell.execute_reply.started": "2024-02-22T21:53:33.612791Z"
    }
   },
   "outputs": [
    {
     "name": "stdout",
     "output_type": "stream",
     "text": [
      "| Nutrition Facts                  | Serving Size: 3 oz  |\n",
      "|----------------------------------|---------------------|\n",
      "| Servings Per Container: 2.3      |                     |\n",
      "|----------------------------------|---------------------|\n",
      "| Amount Per Serving               |                     |\n",
      "|----------------------------------|---------------------|\n",
      "| Calories                         | 0                   |\n",
      "| Calories from Fat                | 0                   |\n",
      "| Total Fat                        | 0g 0%              |\n",
      "| Protein                          | 0g 0%              |\n",
      "| Protein                          | <1g 0%             |\n",
      "| Sugar                            | 0g 0%              |\n",
      "| Carbohydrate                     | <1g - only fiber    |\n",
      "|----------------------------------|---------------------|\n",
      "| Zero Net Carbs, Zero Calories, Zero Glycemic Index |\n",
      "|----------------------------------|---------------------|\n",
      "| Ingredients                      |                     |\n",
      "|----------------------------------|---------------------|\n",
      "| Water, glucomannan (soluble fiber), calcium additive |\n",
      "| No soy, gluten, or wheat!        |                     |\n",
      "| Kosher                           |                     |\n",
      "| Manufactured in a facility that also processes soy products |\n",
      "| This product is labelled to United States standards and may differ from similar products sold elsewhere in its ingredients, labeling and allergen warnings |\n",
      "| No soy, gluten or wheat          |                     |\n",
      "| Water, glucomannan (fiber), Spinach Powder, calcium additive |\n",
      "|----------------------------------|---------------------|\n",
      "| Cooking instructions             |                     |\n",
      "|----------------------------------|---------------------|\n",
      "| Drain the water out of the package and rinse the noodles in cool water for 10-15 seconds. Blanch in boiling water for about a minute. Place on a paper towel to dry and then add to your favorite dish. Refrigerate after opening. Do not freeze. |\n",
      "|----------------------------------|---------------------|\n",
      "| Statements regarding dietary supplements have not been evaluated by the FDA and are not intended to diagnose, treat, cure, or prevent any disease or health condition. |\n"
     ]
    }
   ],
   "source": [
    "print(response.content)"
   ]
  },
  {
   "cell_type": "markdown",
   "id": "3c72764b-bfa5-4435-92a4-2b08c19eb031",
   "metadata": {},
   "source": [
    "### Save Product Info "
   ]
  },
  {
   "cell_type": "code",
   "execution_count": 20,
   "id": "909e92ed-9469-4bbf-96b2-2f32cb1d885e",
   "metadata": {
    "execution": {
     "iopub.execute_input": "2024-02-22T21:53:33.674656Z",
     "iopub.status.busy": "2024-02-22T21:53:33.674534Z",
     "iopub.status.idle": "2024-02-22T21:53:38.451459Z",
     "shell.execute_reply": "2024-02-22T21:53:38.450070Z",
     "shell.execute_reply.started": "2024-02-22T21:53:33.674646Z"
    }
   },
   "outputs": [
    {
     "data": {
      "text/plain": [
       "{'Title': 'Miracle Noodle Zero Carb, Gluten Free Shirataki Pasta, Spinach Angel Hair, 7-Ounce (Pack of 24)',\n",
       " 'Brand': 'Miracle Noodle',\n",
       " 'Price': '$59.76',\n",
       " 'Categories': 'Grocery & Gourmet Food; Pasta & Noodles; Noodles; Shirataki',\n",
       " 'ProductID': 'B007JINB0W',\n",
       " 'Description': '| Nutrition Facts                  |              |\\n|----------------------------------|--------------|\\n| Serving Size: 3 oz               | Servings Per Container: 2.3 |\\n|----------------------------------|--------------|\\n| Amount Per Serving               |              |\\n| Calories                         | 0            |\\n| Calories from Fat                | 0            |\\n| Total Fat                        | 0g           |\\n| Protein                          | 0g           |\\n| Protein <1g                      | 0%           |\\n| Sugar                            | 0g           |\\n| Carbohydrate                      | <1g - only fiber |\\n|----------------------------------|--------------|\\n| Zero Net Carbs, Zero Calories, Zero Glycemic Index |\\n|----------------------------------|--------------|\\n| Ingredients                      |              |\\n| Water, glucomannan (soluble fiber), calcium additive |\\n| No soy, gluten, or wheat!        |              |\\n| Kosher                           |              |\\n| Manufactured in a facility that also processes soy products |\\n| This product is labelled to United States standards and may differ from similar products sold elsewhere in its ingredients, labeling and allergen warnings |\\n| Water, glucomannan (fiber), Spinach Powder, calcium additive |\\n|----------------------------------|--------------|\\n| Cooking instructions             |              |\\n| Drain the water out of the package and rinse the noodles in cool water for 10-15 seconds. Blanch in boiling water for about a minute. Place on a paper towel to dry and then add to your favorite dish. Refrigerate after opening. Do not freeze. |\\n|----------------------------------|--------------|\\n| Statements regarding dietary supplements have not been evaluated by the FDA and are not intended to diagnose, treat, cure, or prevent any disease or health condition. |'}"
      ]
     },
     "execution_count": 20,
     "metadata": {},
     "output_type": "execute_result"
    }
   ],
   "source": [
    "# Create product info \n",
    "response = chat.invoke(f\"Convert this raw text into a formatted nutrition table:\\n\\n {product['Description']}\")\n",
    "\n",
    "product_json  ={'Title':product.loc['Title (Raw)'],\n",
    "               'Brand':product.loc['Brand'],\n",
    "               \"Price\":product.loc['Price'],\n",
    "               \"Categories\": \"; \".join(product.loc['Categories']),\n",
    "                'ProductID':product.name,\n",
    "                'Description':response.content\n",
    "               }\n",
    "product_json"
   ]
  },
  {
   "cell_type": "markdown",
   "id": "98d7f898-4e0f-4149-a660-d4303c3dcfc1",
   "metadata": {},
   "source": [
    "- Changing product_json to string.\n",
    "\n"
   ]
  },
  {
   "cell_type": "code",
   "execution_count": 21,
   "id": "54a55a8c-9d28-4fc3-a457-c3b478c35542",
   "metadata": {
    "execution": {
     "iopub.execute_input": "2024-02-22T21:53:38.456106Z",
     "iopub.status.busy": "2024-02-22T21:53:38.455380Z",
     "iopub.status.idle": "2024-02-22T21:53:38.516078Z",
     "shell.execute_reply": "2024-02-22T21:53:38.515571Z",
     "shell.execute_reply.started": "2024-02-22T21:53:38.456060Z"
    }
   },
   "outputs": [
    {
     "name": "stdout",
     "output_type": "stream",
     "text": [
      "Product Info:\n",
      "\n",
      "Title = Miracle Noodle Zero Carb, Gluten Free Shirataki Pasta, Spinach Angel Hair, 7-Ounce (Pack of 24)\n",
      "\n",
      "Brand = Miracle Noodle\n",
      "\n",
      "Price = $59.76\n",
      "\n",
      "Categories = Grocery & Gourmet Food; Pasta & Noodles; Noodles; Shirataki\n",
      "\n",
      "ProductID = B007JINB0W\n",
      "\n",
      "Description = | Nutrition Facts                  |              |\n",
      "|----------------------------------|--------------|\n",
      "| Serving Size: 3 oz               | Servings Per Container: 2.3 |\n",
      "|----------------------------------|--------------|\n",
      "| Amount Per Serving               |              |\n",
      "| Calories                         | 0            |\n",
      "| Calories from Fat                | 0            |\n",
      "| Total Fat                        | 0g           |\n",
      "| Protein                          | 0g           |\n",
      "| Protein <1g                      | 0%           |\n",
      "| Sugar                            | 0g           |\n",
      "| Carbohydrate                      | <1g - only fiber |\n",
      "|----------------------------------|--------------|\n",
      "| Zero Net Carbs, Zero Calories, Zero Glycemic Index |\n",
      "|----------------------------------|--------------|\n",
      "| Ingredients                      |              |\n",
      "| Water, glucomannan (soluble fiber), calcium additive |\n",
      "| No soy, gluten, or wheat!        |              |\n",
      "| Kosher                           |              |\n",
      "| Manufactured in a facility that also processes soy products |\n",
      "| This product is labelled to United States standards and may differ from similar products sold elsewhere in its ingredients, labeling and allergen warnings |\n",
      "| Water, glucomannan (fiber), Spinach Powder, calcium additive |\n",
      "|----------------------------------|--------------|\n",
      "| Cooking instructions             |              |\n",
      "| Drain the water out of the package and rinse the noodles in cool water for 10-15 seconds. Blanch in boiling water for about a minute. Place on a paper towel to dry and then add to your favorite dish. Refrigerate after opening. Do not freeze. |\n",
      "|----------------------------------|--------------|\n",
      "| Statements regarding dietary supplements have not been evaluated by the FDA and are not intended to diagnose, treat, cure, or prevent any disease or health condition. |\n",
      "\n"
     ]
    }
   ],
   "source": [
    "product_string = \"Product Info:\\n\"\n",
    "for k,v in product_json.items():\n",
    "    product_string+=f\"\\n{k} = {v}\\n\"\n",
    "print(product_string)"
   ]
  },
  {
   "cell_type": "code",
   "execution_count": 22,
   "id": "95cbdc0c-1baa-4cf0-9188-6be3316d2c39",
   "metadata": {
    "execution": {
     "iopub.execute_input": "2024-02-22T21:53:38.520710Z",
     "iopub.status.busy": "2024-02-22T21:53:38.520511Z",
     "iopub.status.idle": "2024-02-22T21:53:38.559995Z",
     "shell.execute_reply": "2024-02-22T21:53:38.559686Z",
     "shell.execute_reply.started": "2024-02-22T21:53:38.520696Z"
    }
   },
   "outputs": [],
   "source": [
    "import json\n",
    "with open(FPATHS['data']['app']['product-metadata-llm_json'],'w') as f:\n",
    "    json.dump(product_json, f)"
   ]
  },
  {
   "cell_type": "code",
   "execution_count": 23,
   "id": "a44c5e2c-db27-46d2-8d75-2df4e2e09a24",
   "metadata": {
    "execution": {
     "iopub.execute_input": "2024-02-22T21:53:38.560500Z",
     "iopub.status.busy": "2024-02-22T21:53:38.560396Z",
     "iopub.status.idle": "2024-02-22T21:53:38.598229Z",
     "shell.execute_reply": "2024-02-22T21:53:38.597915Z",
     "shell.execute_reply.started": "2024-02-22T21:53:38.560491Z"
    }
   },
   "outputs": [
    {
     "data": {
      "text/plain": [
       "{'Title': 'Miracle Noodle Zero Carb, Gluten Free Shirataki Pasta, Spinach Angel Hair, 7-Ounce (Pack of 24)',\n",
       " 'Brand': 'Miracle Noodle',\n",
       " 'Price': '$59.76',\n",
       " 'Categories': 'Grocery & Gourmet Food; Pasta & Noodles; Noodles; Shirataki',\n",
       " 'ProductID': 'B007JINB0W',\n",
       " 'Description': '| Nutrition Facts                  |              |\\n|----------------------------------|--------------|\\n| Serving Size: 3 oz               | Servings Per Container: 2.3 |\\n|----------------------------------|--------------|\\n| Amount Per Serving               |              |\\n| Calories                         | 0            |\\n| Calories from Fat                | 0            |\\n| Total Fat                        | 0g           |\\n| Protein                          | 0g           |\\n| Protein <1g                      | 0%           |\\n| Sugar                            | 0g           |\\n| Carbohydrate                      | <1g - only fiber |\\n|----------------------------------|--------------|\\n| Zero Net Carbs, Zero Calories, Zero Glycemic Index |\\n|----------------------------------|--------------|\\n| Ingredients                      |              |\\n| Water, glucomannan (soluble fiber), calcium additive |\\n| No soy, gluten, or wheat!        |              |\\n| Kosher                           |              |\\n| Manufactured in a facility that also processes soy products |\\n| This product is labelled to United States standards and may differ from similar products sold elsewhere in its ingredients, labeling and allergen warnings |\\n| Water, glucomannan (fiber), Spinach Powder, calcium additive |\\n|----------------------------------|--------------|\\n| Cooking instructions             |              |\\n| Drain the water out of the package and rinse the noodles in cool water for 10-15 seconds. Blanch in boiling water for about a minute. Place on a paper towel to dry and then add to your favorite dish. Refrigerate after opening. Do not freeze. |\\n|----------------------------------|--------------|\\n| Statements regarding dietary supplements have not been evaluated by the FDA and are not intended to diagnose, treat, cure, or prevent any disease or health condition. |'}"
      ]
     },
     "execution_count": 23,
     "metadata": {},
     "output_type": "execute_result"
    }
   ],
   "source": [
    "with open(FPATHS['data']['app']['product-metadata-llm_json'],'r') as f:\n",
    "    loaded_prod_json = json.load(f)\n",
    "loaded_prod_json"
   ]
  },
  {
   "cell_type": "code",
   "execution_count": 24,
   "id": "7c96a357-5c19-432e-b88d-9a07c75af020",
   "metadata": {
    "execution": {
     "iopub.execute_input": "2024-02-22T21:53:38.598984Z",
     "iopub.status.busy": "2024-02-22T21:53:38.598821Z",
     "iopub.status.idle": "2024-02-22T21:53:38.639866Z",
     "shell.execute_reply": "2024-02-22T21:53:38.639447Z",
     "shell.execute_reply.started": "2024-02-22T21:53:38.598969Z"
    }
   },
   "outputs": [
    {
     "data": {
      "text/html": [
       "<div>\n",
       "<style scoped>\n",
       "    .dataframe tbody tr th:only-of-type {\n",
       "        vertical-align: middle;\n",
       "    }\n",
       "\n",
       "    .dataframe tbody tr th {\n",
       "        vertical-align: top;\n",
       "    }\n",
       "\n",
       "    .dataframe thead th {\n",
       "        text-align: right;\n",
       "    }\n",
       "</style>\n",
       "<table border=\"1\" class=\"dataframe\">\n",
       "  <thead>\n",
       "    <tr style=\"text-align: right;\">\n",
       "      <th></th>\n",
       "      <th>reviewerID</th>\n",
       "      <th>review</th>\n",
       "      <th>stars</th>\n",
       "      <th>group</th>\n",
       "    </tr>\n",
       "  </thead>\n",
       "  <tbody>\n",
       "    <tr>\n",
       "      <th>0</th>\n",
       "      <td>A3Y51NV9HU5T2</td>\n",
       "      <td>Four Stars: Great pasta taste and feel, but th...</td>\n",
       "      <td>4</td>\n",
       "      <td>NaN</td>\n",
       "    </tr>\n",
       "  </tbody>\n",
       "</table>\n",
       "</div>"
      ],
      "text/plain": [
       "      reviewerID                                             review  stars  \\\n",
       "0  A3Y51NV9HU5T2  Four Stars: Great pasta taste and feel, but th...      4   \n",
       "\n",
       "  group  \n",
       "0   NaN  "
      ]
     },
     "execution_count": 24,
     "metadata": {},
     "output_type": "execute_result"
    }
   ],
   "source": [
    "# df = df.dropna(subset='target-rating')\n",
    "df.head(1)"
   ]
  },
  {
   "cell_type": "code",
   "execution_count": 25,
   "id": "1ca3caad-8428-415f-ba2c-d670db516093",
   "metadata": {
    "execution": {
     "iopub.execute_input": "2024-02-22T21:53:38.640548Z",
     "iopub.status.busy": "2024-02-22T21:53:38.640421Z",
     "iopub.status.idle": "2024-02-22T21:53:38.677925Z",
     "shell.execute_reply": "2024-02-22T21:53:38.677549Z",
     "shell.execute_reply.started": "2024-02-22T21:53:38.640536Z"
    }
   },
   "outputs": [],
   "source": [
    "# display(meta_df)\n",
    "# df.head()"
   ]
  },
  {
   "cell_type": "code",
   "execution_count": 26,
   "id": "6c2b7135-76b6-4616-828b-09525726063a",
   "metadata": {
    "execution": {
     "iopub.execute_input": "2024-02-22T21:53:38.678458Z",
     "iopub.status.busy": "2024-02-22T21:53:38.678363Z",
     "iopub.status.idle": "2024-02-22T21:53:38.775749Z",
     "shell.execute_reply": "2024-02-22T21:53:38.775424Z",
     "shell.execute_reply.started": "2024-02-22T21:53:38.678449Z"
    }
   },
   "outputs": [],
   "source": [
    "import plotly.express as px\n",
    "import plotly.io as pio\n",
    "pio.templates.default=None"
   ]
  },
  {
   "cell_type": "markdown",
   "id": "cbe0974e-67b8-4f32-8cd1-80ea3dc0825a",
   "metadata": {},
   "source": [
    "## Summarizing Reviews Using Pretrained BART from HuggingFace"
   ]
  },
  {
   "cell_type": "markdown",
   "id": "b2ffc122-85db-4ad0-9557-eaf56a2d5fbc",
   "metadata": {},
   "source": [
    "- The summaries will be displayed for the user but also used as context for Chat-GPT Recommendations."
   ]
  },
  {
   "cell_type": "code",
   "execution_count": 27,
   "id": "b6d6d76f-b487-4bc6-9a24-cfad8b208e24",
   "metadata": {
    "execution": {
     "iopub.execute_input": "2024-02-22T21:53:38.776337Z",
     "iopub.status.busy": "2024-02-22T21:53:38.776243Z",
     "iopub.status.idle": "2024-02-22T21:53:38.813600Z",
     "shell.execute_reply": "2024-02-22T21:53:38.813260Z",
     "shell.execute_reply.started": "2024-02-22T21:53:38.776328Z"
    }
   },
   "outputs": [],
   "source": [
    "RUN_SUMMARIZATION_CODE = True"
   ]
  },
  {
   "cell_type": "code",
   "execution_count": null,
   "id": "88e6b89f-564f-4187-ab35-a861b33f09ec",
   "metadata": {},
   "outputs": [],
   "source": []
  },
  {
   "cell_type": "code",
   "execution_count": 28,
   "id": "dbcd5871-6872-4e15-b18e-092d85244ab3",
   "metadata": {
    "execution": {
     "iopub.execute_input": "2024-02-22T21:53:38.814315Z",
     "iopub.status.busy": "2024-02-22T21:53:38.814163Z",
     "iopub.status.idle": "2024-02-22T21:53:38.855411Z",
     "shell.execute_reply": "2024-02-22T21:53:38.855116Z",
     "shell.execute_reply.started": "2024-02-22T21:53:38.814306Z"
    }
   },
   "outputs": [
    {
     "data": {
      "text/plain": [
       "0"
      ]
     },
     "execution_count": 28,
     "metadata": {},
     "output_type": "execute_result"
    }
   ],
   "source": [
    "# df = df.drop_duplicates(subset=)\n",
    "df.duplicated(subset=dup_subset).sum()"
   ]
  },
  {
   "cell_type": "code",
   "execution_count": null,
   "id": "b24e0b89-fa2b-4bd2-abc0-0c2f68b7349d",
   "metadata": {},
   "outputs": [],
   "source": [
    "# Load model directly\n",
    "from transformers import AutoTokenizer, AutoModelForSequenceClassification\n",
    "model_name = \"AdamCodd/distilbert-base-uncased-finetuned-sentiment-amazon\"\n",
    "tokenizer = AutoTokenizer.from_pretrained(model_name)\n",
    "model = AutoModelForSequenceClassification.from_pretrained(model_name)"
   ]
  },
  {
   "cell_type": "markdown",
   "id": "b96c918b-213a-4957-ac48-2cdb07dcf606",
   "metadata": {},
   "source": [
    "### Review Summarization"
   ]
  },
  {
   "cell_type": "code",
   "execution_count": 29,
   "id": "3a4d78ef-31ed-4bc2-b98f-7b811125f5c3",
   "metadata": {
    "execution": {
     "iopub.execute_input": "2024-02-22T21:53:38.856125Z",
     "iopub.status.busy": "2024-02-22T21:53:38.856006Z",
     "iopub.status.idle": "2024-02-22T21:53:40.112964Z",
     "shell.execute_reply": "2024-02-22T21:53:40.112691Z",
     "shell.execute_reply.started": "2024-02-22T21:53:38.856115Z"
    }
   },
   "outputs": [
    {
     "name": "stdout",
     "output_type": "stream",
     "text": [
      "CPU times: user 715 ms, sys: 217 ms, total: 932 ms\n",
      "Wall time: 1.21 s\n"
     ]
    }
   ],
   "source": [
    "%%time\n",
    "# Load model directly\n",
    "import torch\n",
    "\n",
    "from transformers import AutoTokenizer, AutoModelForSeq2SeqLM"
   ]
  },
  {
   "cell_type": "code",
   "execution_count": 30,
   "id": "925576a6-9803-4a84-bd1f-0a28ef585f5c",
   "metadata": {
    "execution": {
     "iopub.execute_input": "2024-02-22T21:53:40.113594Z",
     "iopub.status.busy": "2024-02-22T21:53:40.113488Z",
     "iopub.status.idle": "2024-02-22T21:53:40.585423Z",
     "shell.execute_reply": "2024-02-22T21:53:40.584807Z",
     "shell.execute_reply.started": "2024-02-22T21:53:40.113585Z"
    }
   },
   "outputs": [
    {
     "name": "stdout",
     "output_type": "stream",
     "text": [
      "/Users/codingdojo/.cache/huggingface/hub/models--kabita-choudhary--finetuned-bart-for-conversation-summary/snapshots/702abeb4d99b5255c099344410cc729892433490\n"
     ]
    }
   ],
   "source": [
    "model_name = \"kabita-choudhary/finetuned-bart-for-conversation-summary\"\n",
    "!HF_HUB_ENABLE_HF_TRANSFER=1 huggingface-cli download $model_name"
   ]
  },
  {
   "cell_type": "code",
   "execution_count": null,
   "id": "22e5a820-2a01-4193-abc5-5422f9baa599",
   "metadata": {
    "execution": {
     "iopub.execute_input": "2024-02-22T21:53:53.990948Z",
     "iopub.status.busy": "2024-02-22T21:53:53.990521Z"
    }
   },
   "outputs": [],
   "source": [
    "%%time\n",
    "\n",
    "# if RUN_SUMMARIZATION_CODE:\n",
    "model_name = \"kabita-choudhary/finetuned-bart-for-conversation-summary\"\n",
    "# model_fpath =\"/Users/codingdojo/.cache/huggingface/hub/models--kabita-choudhary--finetuned-bart-for-conversation-summary/snapshots/702abeb4d99b5255c099344410cc729892433490/\"\n",
    "tokenizer_a = AutoTokenizer.from_pretrained(model_name)\n",
    "model_a = AutoModelForSeq2SeqLM.from_pretrained(model_name)\n",
    "print(\"Model downloaded...\")"
   ]
  },
  {
   "cell_type": "code",
   "execution_count": null,
   "id": "f4857b6f-d39a-4cfa-865e-4ae360c61af1",
   "metadata": {},
   "outputs": [],
   "source": [
    "if RUN_SUMMARIZATION_CODE:\n",
    "\n",
    "        # Getting group texts\n",
    "    grp_idx_dict = df.groupby('group').groups\n",
    "    # high_promt_prefix = \"Summarize what customers likeed about this product:\"\n",
    "    \n",
    "    high_data  = \"\\n\".join(df.loc[grp_idx_dict['High'], 'review'])\n",
    "    \n",
    "    # low_promt_prefix = \"Summarize what customers did not like about this product:\"\n",
    "    low_data = \"\\n\".join(df.loc[grp_idx_dict['Low'], 'review'])\n",
    "\n"
   ]
  },
  {
   "cell_type": "code",
   "execution_count": null,
   "id": "0a8c3efe-43ec-4147-99c8-c0524d3ff12a",
   "metadata": {},
   "outputs": [],
   "source": [
    "%%time\n",
    "if RUN_SUMMARIZATION_CODE:\n",
    "\n",
    "    # Tokenizing for PyTorch\n",
    "    tokenizer_params = dict(truncation=True, return_tensors='pt', max_length=1024,\n",
    "                          padding='max_length')\n",
    "    low_tokens_a = tokenizer_a(low_data,**tokenizer_params)\n",
    "    \n",
    "    high_tokens_a = tokenizer_a(high_data, **tokenizer_params)"
   ]
  },
  {
   "cell_type": "code",
   "execution_count": null,
   "id": "ea7373db-d9d2-43e8-bacb-cb820c84081f",
   "metadata": {},
   "outputs": [],
   "source": [
    "%%time\n",
    "if RUN_SUMMARIZATION_CODE:\n",
    "    \n",
    "    shared_params = dict( num_beams=6,\n",
    "        max_length=300,\n",
    "        min_length=125,\n",
    "        length_penalty=2.0,\n",
    "        early_stopping=True,\n",
    "                         no_repeat_ngram_size=3,\n",
    "        # temperature=0.1, do_sample=True,\n",
    "                        )\n",
    "    low_summary_ids_a = model_a.generate(\n",
    "        low_tokens_a[\"input_ids\"], **shared_params)\n",
    "    high_summary_ids_a = model_a.generate(\n",
    "        high_tokens_a[\"input_ids\"], **shared_params)"
   ]
  },
  {
   "cell_type": "code",
   "execution_count": null,
   "id": "c96696fb-41b9-4fb0-885e-a40a4fa73575",
   "metadata": {},
   "outputs": [],
   "source": [
    "%%time\n",
    "if RUN_SUMMARIZATION_CODE:\n",
    "\n",
    "    summary_low_a = tokenizer_a.decode(low_summary_ids_a[0], skip_special_tokens=True)\n",
    "    print(summary_low_a)\n"
   ]
  },
  {
   "cell_type": "code",
   "execution_count": null,
   "id": "4d7458b8-3f52-4d08-a2f7-803e899c4177",
   "metadata": {},
   "outputs": [],
   "source": [
    "if RUN_SUMMARIZATION_CODE:\n",
    "\n",
    "    summary_high_a = tokenizer_a.decode(high_summary_ids_a[0], skip_special_tokens=True)\n",
    "    print(summary_high_a)\n"
   ]
  },
  {
   "cell_type": "code",
   "execution_count": null,
   "id": "b9faa21f-f210-4a02-8a9d-5a731a95e763",
   "metadata": {},
   "outputs": [],
   "source": [
    "%%time\n",
    "if RUN_SUMMARIZATION_CODE:\n",
    "    # model_results = {'model-info':{'model-name':model_name,\n",
    "    #                                  'model-params':shared_params,\n",
    "    #                                'tokenizer-params':tokenizer_params},\n",
    "                     \n",
    "    #                   'summary-high':summary_high_a,\n",
    "    #                   'summary-low':summary_low_a}\n",
    "    # print(model_results)\n",
    "    model_results = {'model-info':{'model-name':model_name,\n",
    "                                     'model-params':shared_params,\n",
    "                                   'tokenizer-params':tokenizer_params},\n",
    "                     'summaries':{'high':summary_high_a,\n",
    "                                 'low', summary_low_a}\n",
    "                    }\n",
    "                     \n",
    "                      # 'summary-high':summary_high_a,\n",
    "                      # 'summary-low':summary_low_a}\n",
    "    print(model_results)"
   ]
  },
  {
   "cell_type": "code",
   "execution_count": null,
   "id": "2c040f43-b8b3-4cc0-9b2a-423909a10b6d",
   "metadata": {},
   "outputs": [],
   "source": [
    "model_results"
   ]
  },
  {
   "cell_type": "code",
   "execution_count": null,
   "id": "9ff1846f-4aa4-4d64-83b7-54855899fdfa",
   "metadata": {},
   "outputs": [],
   "source": [
    "if RUN_SUMMARIZATION_CODE:\n",
    "    \n",
    "    import json\n",
    "    fname_summaries = FPATHS['results']['review-summary-01_json']\n",
    "    print(fname_summaries)"
   ]
  },
  {
   "cell_type": "code",
   "execution_count": null,
   "id": "93fd9013-cb81-4471-81a4-cf98117eb6b0",
   "metadata": {},
   "outputs": [],
   "source": [
    "if RUN_SUMMARIZATION_CODE:\n",
    "    \n",
    "    # answer  = input(\"Save these results?\")\n",
    "    # if answer.lower().startswith('y'):\n",
    "    with open(fname_summaries,'w') as f:\n",
    "        json.dump(model_results, f )"
   ]
  },
  {
   "cell_type": "code",
   "execution_count": null,
   "id": "b9f5ab34-dd93-407b-aa3a-735e75f95e41",
   "metadata": {},
   "outputs": [],
   "source": []
  },
  {
   "cell_type": "code",
   "execution_count": null,
   "id": "3238ea17-0375-4c97-a0be-6a89af3e089a",
   "metadata": {},
   "outputs": [],
   "source": [
    "if RUN_SUMMARIZATION_CODE:\n",
    "    \n",
    "    # Getting entire text\n",
    "    combined_data = '\\n\\n'.join(df['review-text-full'])\n",
    "\n",
    "    \n",
    "    combined_tokens = tokenizer_a(combined_data, truncation=True, return_tensors='pt', #max_length=2056,\n",
    "                          padding='max_length')"
   ]
  },
  {
   "cell_type": "code",
   "execution_count": null,
   "id": "7e104a32-ceff-4994-861a-7df123dce26a",
   "metadata": {},
   "outputs": [],
   "source": [
    "%%time\n",
    "if RUN_SUMMARIZATION_CODE:\n",
    "    \n",
    "    shared_params = dict( num_beams=6,\n",
    "        max_length=1000,\n",
    "        min_length=300,\n",
    "        length_penalty=2.0,\n",
    "                         no_repeat_ngram_size=3,\n",
    "    \n",
    "        # early_stopping=True,\n",
    "        # temperature=0.1, do_sample=True,\n",
    "                        )\n",
    "    combined_summary_ids = model_a.generate( combined_tokens[\"input_ids\"], **shared_params)"
   ]
  },
  {
   "cell_type": "code",
   "execution_count": null,
   "id": "9976c552-8152-4f12-80b0-24c4ad7a958a",
   "metadata": {},
   "outputs": [],
   "source": [
    "if RUN_SUMMARIZATION_CODE:\n",
    "    \n",
    "    summary_combined = tokenizer_a.decode(combined_summary_ids[0], skip_special_tokens=True)\n",
    "    print(summary_combined)\n"
   ]
  },
  {
   "cell_type": "code",
   "execution_count": null,
   "id": "40280fc4-6487-4a37-9396-da143fe8bab8",
   "metadata": {},
   "outputs": [],
   "source": [
    "if RUN_SUMMARIZATION_CODE:\n",
    "    \n",
    "    model_results_combined = {'model':model_name,\n",
    "                     'model-params':shared_params,\n",
    "                      'summary':summary_combined,}\n",
    "                      \n",
    "    fname_summaries = FPATHS['results']['review-summary-02_json']\n",
    "    with open(fname_summaries,'w') as f:\n",
    "        json.dump(model_results_combined, f )"
   ]
  },
  {
   "cell_type": "markdown",
   "id": "5e853b04-417f-479f-8d30-893971f81d06",
   "metadata": {},
   "source": [
    "# LLMs"
   ]
  },
  {
   "cell_type": "code",
   "execution_count": null,
   "id": "fa1bde89-e23c-4521-8567-de024cfb7ed1",
   "metadata": {},
   "outputs": [],
   "source": [
    "from langchain.prompts.chat import (\n",
    "    ChatPromptTemplate,\n",
    "    HumanMessagePromptTemplate,\n",
    "    SystemMessagePromptTemplate,\n",
    ")\n",
    "from langchain.schema import HumanMessage, SystemMessage\n",
    "from langchain_openai import ChatOpenAI"
   ]
  },
  {
   "cell_type": "code",
   "execution_count": null,
   "id": "7dba119e-e549-4204-9a16-3b94ee2691cd",
   "metadata": {},
   "outputs": [],
   "source": [
    "# # source: https://python.langchain.com/docs/integrations/chat/openai\n",
    "# template = (\n",
    "#     \"You are a helpful assistant that translates {input_language} to {output_language}.\"\n",
    "# )\n",
    "# system_message_prompt = SystemMessagePromptTemplate.from_template(template)\n",
    "# human_template = \"{text}\"\n",
    "# human_message_prompt = HumanMessagePromptTemplate.from_template(human_template)"
   ]
  },
  {
   "cell_type": "code",
   "execution_count": null,
   "id": "2d2ee090-2e87-45d8-8e71-bffc7ba47346",
   "metadata": {},
   "outputs": [],
   "source": [
    "# chat_prompt = ChatPromptTemplate.from_messages(\n",
    "#     [system_message_prompt, human_message_prompt]\n",
    "# )\n",
    "\n",
    "# # get a chat completion from the formatted messages\n",
    "# chat(\n",
    "#     chat_prompt.format_prompt(\n",
    "#         input_language=\"English\", output_language=\"French\", text=\"I love programming.\"\n",
    "#     ).to_messages()\n",
    "# )"
   ]
  },
  {
   "cell_type": "code",
   "execution_count": null,
   "id": "fdc43ea6-5a14-4ae6-b7c8-6f5d9d6d4e6a",
   "metadata": {},
   "outputs": [],
   "source": []
  },
  {
   "cell_type": "code",
   "execution_count": null,
   "id": "9b4c57a6-7035-4846-b96e-8ca5269d3ef2",
   "metadata": {},
   "outputs": [],
   "source": [
    "\n",
    "chat = ChatOpenAI(temperature=0)#,api_key=)"
   ]
  },
  {
   "cell_type": "code",
   "execution_count": null,
   "id": "de601a18-3bef-4847-bf09-44c19931b043",
   "metadata": {},
   "outputs": [],
   "source": [
    "# model_results_combined['summary']"
   ]
  },
  {
   "cell_type": "code",
   "execution_count": null,
   "id": "995ee1dd-0a31-486f-9ae2-943e15e2af0d",
   "metadata": {},
   "outputs": [],
   "source": [
    "## Importing the summaris to use as context\n",
    "\n",
    "with open(FPATHS['results']['review-summary-01_json'],'r') as f:\n",
    "    summaries = json.load(f)\n",
    "\n",
    "summaries.keys()"
   ]
  },
  {
   "cell_type": "code",
   "execution_count": null,
   "id": "ba23a6be-e207-48c3-86af-a780909fc833",
   "metadata": {},
   "outputs": [],
   "source": []
  },
  {
   "cell_type": "code",
   "execution_count": null,
   "id": "69f9f4ce-1266-4428-b8d6-f1d5188602a2",
   "metadata": {},
   "outputs": [],
   "source": [
    "\n",
    "\n",
    "template_assistant = \"You are a helpful assistant data scientist who uses NLP analysis to {task}. {context}.\"\n",
    "\n",
    "\n",
    "star_one = summaries['summary-low']\n",
    "star_five = summaries['summary-high']\n",
    "context = f\"Here is a summary of 1-star reviews: {star_one}.\\n\\n Here is a summary of 5-star reviews{star_five}\"\n",
    "\n",
    "\n",
    "task_options = {\"summarize\":'summarize what customers did and did not like about the product.',\n",
    "               'recommend':'provide a list of 3-5 actionable business recommendations on how to improve the product.'}\n",
    "\n",
    "\n",
    "# source: https://python.langchain.com/docs/integrations/chat/openai\n",
    "system_message_prompt = SystemMessagePromptTemplate.from_template(template_assistant)\n",
    "human_template = \"{query}\"\n",
    "human_message_prompt = HumanMessagePromptTemplate.from_template(human_template)\n",
    "chat_prompt = ChatPromptTemplate.from_messages(\n",
    "    [system_message_prompt, human_message_prompt]\n",
    ")                       "
   ]
  },
  {
   "cell_type": "code",
   "execution_count": null,
   "id": "befb5aec-70ef-47bd-a8eb-1ddaceffcdc2",
   "metadata": {},
   "outputs": [],
   "source": [
    "chat_prompt.input_variables"
   ]
  },
  {
   "cell_type": "code",
   "execution_count": null,
   "id": "1d178c6f-d1ed-4c72-baff-b2320455f83b",
   "metadata": {},
   "outputs": [],
   "source": [
    "# query = \"What are the results of your analysis?\"\n",
    "# # get a chat completion from the formatted messages\n",
    "# response= chat.invoke( chat_prompt.format_prompt(query=query, \n",
    "#                               context=context, task=task_options['summarize']).to_messages() )"
   ]
  },
  {
   "cell_type": "code",
   "execution_count": null,
   "id": "5c9658f4-603b-4986-9c6e-3b1ce90dd38e",
   "metadata": {},
   "outputs": [],
   "source": [
    "# print(response.content)"
   ]
  },
  {
   "cell_type": "code",
   "execution_count": null,
   "id": "7cfdb1ea-ab46-4aec-b8d7-231db75cb314",
   "metadata": {},
   "outputs": [],
   "source": [
    "# # get a chat completion from the formatted messages\n",
    "# response= chat.invoke( chat_prompt.format_prompt(query=query, \n",
    "#                               context=context, task=task_options['recommend']).to_messages() )"
   ]
  },
  {
   "cell_type": "code",
   "execution_count": null,
   "id": "d51f08fa-ca2e-4c33-9bb2-037d3c2193e9",
   "metadata": {},
   "outputs": [],
   "source": [
    "# print(response.content)"
   ]
  },
  {
   "cell_type": "markdown",
   "id": "705f7a1e-2753-44c4-9e25-e5c5b874ebcd",
   "metadata": {},
   "source": [
    "### Functionizing It"
   ]
  },
  {
   "cell_type": "code",
   "execution_count": null,
   "id": "a51200a2-28d3-4b9a-9732-70461aced705",
   "metadata": {},
   "outputs": [],
   "source": [
    "from langchain.prompts.chat import (\n",
    "    ChatPromptTemplate,\n",
    "    HumanMessagePromptTemplate,\n",
    "    SystemMessagePromptTemplate,\n",
    ")\n",
    "from langchain.schema import HumanMessage, SystemMessage\n",
    "from langchain_openai import ChatOpenAI\n",
    "\n",
    "\n",
    "query = \"What are the results of your analysis?\"\n",
    "def get_answer(summaries,selected_task,query):\n",
    "    \n",
    "    template_assistant = \"You are a helpful assistant data scientist who uses NLP analysis to {task}. {context}.\"\n",
    "\n",
    "    star_one = summaries['summary-low']\n",
    "    star_five = summaries['summary-high']\n",
    "    context = f\"Here is a summary of 1-star reviews: {star_one}.\\n\\n Here is a summary of 5-star reviews{star_five}\"\n",
    "    \n",
    "    \n",
    "    task_options = {\"summarize\":'summarize what customers did and did not like about the product.',\n",
    "                   'recommend':'provide a list of 3-5 actionable business recommendations on how to improve the product.'}\n",
    "    \n",
    "    \n",
    "    # source: https://python.langchain.com/docs/integrations/chat/openai\n",
    "    system_message_prompt = SystemMessagePromptTemplate.from_template(template_assistant)\n",
    "    human_template = \"{query}\"\n",
    "    human_message_prompt = HumanMessagePromptTemplate.from_template(human_template)\n",
    "    chat_prompt = ChatPromptTemplate.from_messages(\n",
    "        [system_message_prompt, human_message_prompt]\n",
    "    )                       \n",
    "#     return chat_prompt\n",
    "\n",
    "# def get_answer(chat_prompt, query)\n",
    "\n",
    "    chat = ChatOpenAI(temperature=0)\n",
    "    response = chat.invoke( chat_prompt.format_prompt(query=query, \n",
    "                                  context=context, task=task_options[selected_task]).to_messages() )\n",
    "    return response.content"
   ]
  }
 ],
 "metadata": {
  "kernelspec": {
   "display_name": "Python (dojo-env)",
   "language": "python",
   "name": "dojo-env"
  },
  "language_info": {
   "codemirror_mode": {
    "name": "ipython",
    "version": 3
   },
   "file_extension": ".py",
   "mimetype": "text/x-python",
   "name": "python",
   "nbconvert_exporter": "python",
   "pygments_lexer": "ipython3",
   "version": "3.10.10"
  }
 },
 "nbformat": 4,
 "nbformat_minor": 5
}
